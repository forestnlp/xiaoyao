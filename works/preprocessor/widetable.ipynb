{
 "cells": [
  {
   "cell_type": "code",
   "execution_count": 1,
   "id": "5ee01364",
   "metadata": {},
   "outputs": [],
   "source": [
    "# 依次读取项目data目录下的parquet文件\n",
    "import pandas as pd\n",
    "\n",
    "# 读取股票日k线数据，行业数据，竞价数据，市值数据\n",
    "price_df = pd.read_parquet(r'D:\\workspace\\xiaoyao\\data\\stock_daily_price.parquet')\n",
    "industry_df = pd.read_parquet(r'D:\\workspace\\xiaoyao\\data\\stock_daily_industry.parquet')\n",
    "auction_df = pd.read_parquet(r'D:\\workspace\\xiaoyao\\data\\stock_daily_auction.parquet')\n",
    "marketcap_df = pd.read_parquet(r'D:\\workspace\\xiaoyao\\data\\stock_daily_marketcap.parquet')\n",
    "concept_df = pd.read_parquet(r'D:\\workspace\\xiaoyao\\data\\stock_daily_concept.parquet')\n",
    "\n",
    "\n",
    "# price_df 只取2025-01-01以后的数据\n",
    "price_df = price_df[price_df['date'] >= '2025-01-01']\n",
    "industry_df = industry_df[industry_df['date'] >= '2025-01-01']\n",
    "marketcap_df = marketcap_df[marketcap_df['date'] >= '2025-01-01']\n",
    "auction_df = auction_df[auction_df['date'] >= '2025-01-01']\n",
    "concept_df = concept_df[concept_df['date'] >= '2025-01-01']\n",
    "\n",
    "# 将date转换为字符串类型\n",
    "price_df['date'] = price_df['date'].astype(str)\n",
    "industry_df['date'] = industry_df['date'].astype(str)\n",
    "marketcap_df['date'] = marketcap_df['date'].astype(str)\n",
    "# 将auction的date只取日期部分\n",
    "auction_df['date'] = auction_df['date'].astype(str).str[:10]\n",
    "# 将概念信息的date转换为字符串\n",
    "concept_df['date'] = concept_df['date'].astype(str)"
   ]
  },
  {
   "cell_type": "code",
   "execution_count": 2,
   "id": "31067804",
   "metadata": {},
   "outputs": [],
   "source": [
    "# 增加stock_name字段，读取D:\\workspace\\xiaoyao\\data\\stocks_info.csv文件，用stock_code关联display_name，将display_name 重命名为stock_name\n",
    "stocks_info = pd.read_csv(r\"D:\\workspace\\xiaoyao\\data\\stocks_info.csv\")\n",
    "stocks_info = stocks_info[[\"stock_code\", \"display_name\"]]\n",
    "stocks_info.rename(columns={\"display_name\": \"stock_name\"}, inplace=True)"
   ]
  },
  {
   "cell_type": "code",
   "execution_count": 3,
   "id": "b73b883e",
   "metadata": {},
   "outputs": [
    {
     "data": {
      "text/html": [
       "<div>\n",
       "<style scoped>\n",
       "    .dataframe tbody tr th:only-of-type {\n",
       "        vertical-align: middle;\n",
       "    }\n",
       "\n",
       "    .dataframe tbody tr th {\n",
       "        vertical-align: top;\n",
       "    }\n",
       "\n",
       "    .dataframe thead th {\n",
       "        text-align: right;\n",
       "    }\n",
       "</style>\n",
       "<table border=\"1\" class=\"dataframe\">\n",
       "  <thead>\n",
       "    <tr style=\"text-align: right;\">\n",
       "      <th></th>\n",
       "      <th>date</th>\n",
       "      <th>stock_code</th>\n",
       "      <th>concept_name_list</th>\n",
       "    </tr>\n",
       "  </thead>\n",
       "  <tbody>\n",
       "    <tr>\n",
       "      <th>0</th>\n",
       "      <td>2025-01-02</td>\n",
       "      <td>000001.XSHE</td>\n",
       "      <td>[深股通, 证金持股, 融资融券, MSCI概念]</td>\n",
       "    </tr>\n",
       "    <tr>\n",
       "      <th>1</th>\n",
       "      <td>2025-01-02</td>\n",
       "      <td>000002.XSHE</td>\n",
       "      <td>[装配式建筑, 深股通, 证金持股, 融资融券, 超级品牌, 物业管理, MSCI概念]</td>\n",
       "    </tr>\n",
       "    <tr>\n",
       "      <th>2</th>\n",
       "      <td>2025-01-02</td>\n",
       "      <td>000004.XSHE</td>\n",
       "      <td>[物联网, 电力物联网, 5G, 网络安全, 信创, 华为概念, 车联网(车路协同)]</td>\n",
       "    </tr>\n",
       "  </tbody>\n",
       "</table>\n",
       "</div>"
      ],
      "text/plain": [
       "         date   stock_code                             concept_name_list\n",
       "0  2025-01-02  000001.XSHE                     [深股通, 证金持股, 融资融券, MSCI概念]\n",
       "1  2025-01-02  000002.XSHE  [装配式建筑, 深股通, 证金持股, 融资融券, 超级品牌, 物业管理, MSCI概念]\n",
       "2  2025-01-02  000004.XSHE   [物联网, 电力物联网, 5G, 网络安全, 信创, 华为概念, 车联网(车路协同)]"
      ]
     },
     "execution_count": 3,
     "metadata": {},
     "output_type": "execute_result"
    }
   ],
   "source": [
    "# 步骤1：按 date、stock_code、concept_code 排序\n",
    "sorted_concept_df = concept_df.sort_values(by=['date', 'stock_code', 'concept_code'])\n",
    "\n",
    "# 步骤2：按 date 和 stock_code 分组，聚合 concept_name 为列表\n",
    "sorted_concept_df = sorted_concept_df.groupby(['date', 'stock_code'])['concept_name'].agg(list).reset_index()\n",
    "\n",
    "# 重命名列名\n",
    "sorted_concept_df = sorted_concept_df.rename(columns={'concept_name': 'concept_name_list'})\n",
    "\n",
    "sorted_concept_df.head(3)"
   ]
  },
  {
   "cell_type": "code",
   "execution_count": 4,
   "id": "2b07dad1",
   "metadata": {},
   "outputs": [],
   "source": [
    "# 将四个df合并到price_df\n",
    "merged_df = price_df.merge(stocks_info, on=['stock_code'], how='left')\n",
    "merged_df = merged_df.merge(industry_df, on=['date', 'stock_code'], how='left')\n",
    "merged_df = merged_df.merge(marketcap_df, on=['date', 'stock_code'], how='left')\n",
    "merged_df = merged_df.merge(auction_df, on=['date', 'stock_code'], how='left')\n",
    "merged_df = merged_df.merge(sorted_concept_df, on=['date', 'stock_code'], how='left')"
   ]
  },
  {
   "cell_type": "code",
   "execution_count": 5,
   "id": "1844006a",
   "metadata": {},
   "outputs": [],
   "source": [
    "# merged_df将字段重命名 其中volume重命名为volume_daily\n",
    "merged_df = merged_df.rename(columns={'volume_x': 'volume'})\n",
    "merged_df = merged_df.rename(columns={'volume_y': 'auc_volume'})\n",
    "merged_df = merged_df.rename(columns={'money_x': 'money'})\n",
    "merged_df = merged_df.rename(columns={'money_y': 'auc_money'})"
   ]
  },
  {
   "cell_type": "code",
   "execution_count": 6,
   "id": "16ae8d7f",
   "metadata": {},
   "outputs": [
    {
     "data": {
      "text/plain": [
       "Index(['date', 'stock_code', 'open', 'close', 'low', 'high', 'volume', 'money',\n",
       "       'factor', 'high_limit', 'low_limit', 'avg', 'pre_close', 'paused',\n",
       "       'stock_name', 'zjw_industry_code', 'zjw_industry_name',\n",
       "       'jq_l1_industry_code', 'jq_l1_industry_name', 'jq_l2_industry_code',\n",
       "       'jq_l2_industry_name', 'sw_l1_industry_code', 'sw_l1_industry_name',\n",
       "       'sw_l2_industry_code', 'sw_l2_industry_name', 'sw_l3_industry_code',\n",
       "       'sw_l3_industry_name', 'capitalization', 'circulating_cap',\n",
       "       'market_cap', 'circulating_market_cap', 'turnover_ratio', 'pe_ratio',\n",
       "       'pe_ratio_lyr', 'pb_ratio', 'ps_ratio', 'pcf_ratio', 'current',\n",
       "       'auc_volume', 'auc_money', 'a1_p', 'a1_v', 'a2_p', 'a2_v', 'a3_p',\n",
       "       'a3_v', 'a4_p', 'a4_v', 'a5_p', 'a5_v', 'b1_p', 'b1_v', 'b2_p', 'b2_v',\n",
       "       'b3_p', 'b3_v', 'b4_p', 'b4_v', 'b5_p', 'b5_v', 'concept_name_list'],\n",
       "      dtype='object')"
      ]
     },
     "execution_count": 6,
     "metadata": {},
     "output_type": "execute_result"
    }
   ],
   "source": [
    "merged_df.columns"
   ]
  },
  {
   "cell_type": "code",
   "execution_count": 7,
   "id": "c88e7437",
   "metadata": {},
   "outputs": [],
   "source": [
    "# import pandas as pd\n",
    "# import numpy as np\n",
    "\n",
    "# # 1. 确保索引为 datetime 类型（前提不可少）\n",
    "# merged_df.index = pd.to_datetime(merged_df.index, errors='coerce')\n",
    "# ref_date = pd.to_datetime('2025-01-01')\n",
    "\n",
    "# # 2. 最终修正版：先区分标量/非标量，再处理 NaN\n",
    "# merged_df['concept_name_list'] = merged_df.groupby('stock_code')['concept_name_list'].transform(\n",
    "#     lambda x: \n",
    "#         # 分支1：有有效值时，用采样值填充标量 NaN\n",
    "#         x.fillna(x.loc[x.index >= ref_date].dropna().sample(1, random_state=42).iloc[0]) \n",
    "#         if not x.loc[x.index >= ref_date].dropna().empty \n",
    "#         # 分支2：无有效值时，仅替换“标量 NaN”为空列表\n",
    "#         else x.apply(lambda val: [] if (np.isscalar(val) and pd.isna(val)) else val)\n",
    "# )"
   ]
  },
  {
   "cell_type": "code",
   "execution_count": 8,
   "id": "20d303f8",
   "metadata": {},
   "outputs": [],
   "source": [
    "# 保存merged_df到D:\\workspace\\xiaoyao\\data下\n",
    "merged_df.to_parquet(r'D:\\workspace\\xiaoyao\\data\\widetable.parquet', index=False)"
   ]
  },
  {
   "cell_type": "code",
   "execution_count": 9,
   "id": "e850b2c4",
   "metadata": {},
   "outputs": [],
   "source": [
    "# 将parquet读取后，随机采样5条数据，并导出为csv存放在本地目录\n",
    "import pandas as pd\n",
    "\n",
    "df = pd.read_parquet(r'D:\\workspace\\xiaoyao\\data\\widetable.parquet')\n",
    "df.sample(5).to_csv('./widetable_sample.csv', index=False)\n"
   ]
  },
  {
   "cell_type": "code",
   "execution_count": null,
   "id": "22ee1788",
   "metadata": {},
   "outputs": [],
   "source": []
  }
 ],
 "metadata": {
  "kernelspec": {
   "display_name": "xiaoyao",
   "language": "python",
   "name": "python3"
  },
  "language_info": {
   "codemirror_mode": {
    "name": "ipython",
    "version": 3
   },
   "file_extension": ".py",
   "mimetype": "text/x-python",
   "name": "python",
   "nbconvert_exporter": "python",
   "pygments_lexer": "ipython3",
   "version": "3.10.6"
  }
 },
 "nbformat": 4,
 "nbformat_minor": 5
}
