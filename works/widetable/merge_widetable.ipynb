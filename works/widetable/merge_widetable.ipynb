{
 "cells": [
  {
   "cell_type": "code",
   "execution_count": 1,
   "id": "5ee01364",
   "metadata": {},
   "outputs": [],
   "source": [
    "# 依次读取项目data目录下的parquet文件\n",
    "\n",
    "import pandas as pd\n",
    "\n",
    "# 读取股票日k线数据，行业数据，竞价数据，市值数据\n",
    "price_df = pd.read_parquet(r'D:\\workspace\\xiaoyao\\data\\stock_daily_price.parquet')\n",
    "industry_df = pd.read_parquet(r'D:\\workspace\\xiaoyao\\data\\stock_daily_industry.parquet')\n",
    "auction_df = pd.read_parquet(r'D:\\workspace\\xiaoyao\\data\\stock_daily_auction.parquet')\n",
    "marketcap_df = pd.read_parquet(r'D:\\workspace\\xiaoyao\\data\\stock_daily_marketcap.parquet')\n",
    "\n",
    "# 将date转换为字符串类型\n",
    "price_df['date'] = price_df['date'].astype(str)\n",
    "industry_df['date'] = industry_df['date'].astype(str)\n",
    "marketcap_df['date'] = marketcap_df['date'].astype(str)\n",
    "\n",
    "# 将auction的date只取日期部分\n",
    "auction_df['date'] = auction_df['date'].astype(str).str[:10]"
   ]
  },
  {
   "cell_type": "code",
   "execution_count": 2,
   "id": "4c6fb604",
   "metadata": {},
   "outputs": [],
   "source": [
    "# price_df 只取2025-01-01以后的数据\n",
    "price_df = price_df[price_df['date'] >= '2025-01-01']"
   ]
  },
  {
   "cell_type": "code",
   "execution_count": 3,
   "id": "2b07dad1",
   "metadata": {},
   "outputs": [],
   "source": [
    "# 将四个df合并到price_df\n",
    "merged_df = price_df.merge(industry_df, on=['date', 'stock_code'], how='left')\n",
    "merged_df = merged_df.merge(marketcap_df, on=['date', 'stock_code'], how='left')\n",
    "merged_df = merged_df.merge(auction_df, on=['date', 'stock_code'], how='left')"
   ]
  },
  {
   "cell_type": "code",
   "execution_count": 4,
   "id": "1844006a",
   "metadata": {},
   "outputs": [],
   "source": [
    "# merged_df将字段重命名 其中volume重命名为volume_daily\n",
    "merged_df = merged_df.rename(columns={'volume_x': 'volume'})\n",
    "merged_df = merged_df.rename(columns={'volume_y': 'auc_volume'})\n",
    "merged_df = merged_df.rename(columns={'money_x': 'money'})\n",
    "merged_df = merged_df.rename(columns={'money_y': 'auc_money'})"
   ]
  },
  {
   "cell_type": "code",
   "execution_count": 5,
   "id": "98f4586a",
   "metadata": {},
   "outputs": [
    {
     "data": {
      "text/plain": [
       "Index(['date', 'stock_code', 'open', 'close', 'low', 'high', 'volume', 'money',\n",
       "       'factor', 'high_limit', 'low_limit', 'avg', 'pre_close', 'paused',\n",
       "       'zjw_industry_code', 'zjw_industry_name', 'jq_l1_industry_code',\n",
       "       'jq_l1_industry_name', 'jq_l2_industry_code', 'jq_l2_industry_name',\n",
       "       'sw_l1_industry_code', 'sw_l1_industry_name', 'sw_l2_industry_code',\n",
       "       'sw_l2_industry_name', 'sw_l3_industry_code', 'sw_l3_industry_name',\n",
       "       'capitalization', 'circulating_cap', 'market_cap',\n",
       "       'circulating_market_cap', 'turnover_ratio', 'pe_ratio', 'pe_ratio_lyr',\n",
       "       'pb_ratio', 'ps_ratio', 'pcf_ratio', 'current', 'auc_volume',\n",
       "       'auc_money', 'a1_p', 'a1_v', 'a2_p', 'a2_v', 'a3_p', 'a3_v', 'a4_p',\n",
       "       'a4_v', 'a5_p', 'a5_v', 'b1_p', 'b1_v', 'b2_p', 'b2_v', 'b3_p', 'b3_v',\n",
       "       'b4_p', 'b4_v', 'b5_p', 'b5_v'],\n",
       "      dtype='object')"
      ]
     },
     "execution_count": 5,
     "metadata": {},
     "output_type": "execute_result"
    }
   ],
   "source": [
    "merged_df.columns"
   ]
  },
  {
   "cell_type": "code",
   "execution_count": null,
   "id": "43f09c50",
   "metadata": {},
   "outputs": [
    {
     "name": "stdout",
     "output_type": "stream",
     "text": [
      "         date   stock_code     open    close  return_0d  return_1d  return_2d  \\\n",
      "0  2025-01-02  000001.XSHE  1630.12  1588.43  -0.025575  -0.029838  -0.024722   \n",
      "1  2025-01-03  000001.XSHE  1589.82  1581.48  -0.005246   0.000000   0.006120   \n",
      "2  2025-01-06  000001.XSHE  1581.48  1589.82   0.005274   0.011426   0.010547   \n",
      "3  2025-01-07  000001.XSHE  1587.04  1599.55   0.007883   0.007007  -0.001752   \n",
      "4  2025-01-08  000001.XSHE  1598.16  1598.16   0.000000  -0.008698  -0.017395   \n",
      "\n",
      "   return_3d  return_4d  return_5d  \n",
      "0  -0.018753  -0.019606  -0.028133  \n",
      "1   0.005246  -0.003497  -0.012240  \n",
      "2   0.001758  -0.007031  -0.015814  \n",
      "3  -0.010510  -0.019262  -0.003503  \n",
      "4  -0.026086  -0.010437  -0.001740  \n"
     ]
    }
   ],
   "source": [
    "# 对于每只股票，计算当日收益率\n",
    "\n",
    "import numpy as np\n",
    "\n",
    "def calculate_multi_day_returns(df):\n",
    "    # 直接按字符串日期排序（前提：格式为YYYY-MM-DD或YYYYMMDD）\n",
    "    df = df.copy()\n",
    "    df = df.sort_values(['stock_code', 'date']).reset_index(drop=True)  # 字符串日期可直接排序\n",
    "    \n",
    "    # 按股票分组计算\n",
    "    result = []\n",
    "    for code, group in df.groupby('stock_code'):\n",
    "        stock_data = group[['date', 'open', 'close']].reset_index(drop=True)\n",
    "        total_days = len(stock_data)\n",
    "        \n",
    "        # 计算1-5日收益率（用位置偏移，依赖正确排序）\n",
    "        for n in range(0, 6):\n",
    "            tn_close = stock_data['close'].shift(-n)  # 已排序，直接偏移获取T+n日数据\n",
    "            stock_data[f'return_{n}d'] = (tn_close - stock_data['close']) / stock_data['close']\n",
    "        \n",
    "        stock_data['stock_code'] = code\n",
    "        result.append(stock_data)\n",
    "    \n",
    "    return pd.concat(result, ignore_index=True)[['date', 'stock_code', 'open', 'close'] + \n",
    "                                               [f'return_{n}d' for n in range(0, 6)]]\n",
    "# 使用示例：\n",
    "# 假设你的DataFrame名为merged_df\n",
    "returns_df = calculate_multi_day_returns(merged_df)\n",
    "print(returns_df.head())\n",
    "\n"
   ]
  },
  {
   "cell_type": "code",
   "execution_count": 7,
   "id": "88d2e2ca",
   "metadata": {},
   "outputs": [
    {
     "data": {
      "text/html": [
       "<div>\n",
       "<style scoped>\n",
       "    .dataframe tbody tr th:only-of-type {\n",
       "        vertical-align: middle;\n",
       "    }\n",
       "\n",
       "    .dataframe tbody tr th {\n",
       "        vertical-align: top;\n",
       "    }\n",
       "\n",
       "    .dataframe thead th {\n",
       "        text-align: right;\n",
       "    }\n",
       "</style>\n",
       "<table border=\"1\" class=\"dataframe\">\n",
       "  <thead>\n",
       "    <tr style=\"text-align: right;\">\n",
       "      <th></th>\n",
       "      <th>date</th>\n",
       "      <th>stock_code</th>\n",
       "      <th>open</th>\n",
       "      <th>close</th>\n",
       "      <th>return_0d</th>\n",
       "      <th>return_1d</th>\n",
       "      <th>return_2d</th>\n",
       "      <th>return_3d</th>\n",
       "      <th>return_4d</th>\n",
       "      <th>return_5d</th>\n",
       "    </tr>\n",
       "  </thead>\n",
       "  <tbody>\n",
       "    <tr>\n",
       "      <th>628357</th>\n",
       "      <td>2025-09-05</td>\n",
       "      <td>600702.XSHG</td>\n",
       "      <td>240.93</td>\n",
       "      <td>243.01</td>\n",
       "      <td>0.008633</td>\n",
       "      <td>0.031378</td>\n",
       "      <td>0.027892</td>\n",
       "      <td>0.010459</td>\n",
       "      <td>0.034408</td>\n",
       "      <td>0.002449</td>\n",
       "    </tr>\n",
       "  </tbody>\n",
       "</table>\n",
       "</div>"
      ],
      "text/plain": [
       "              date   stock_code    open   close  return_0d  return_1d  \\\n",
       "628357  2025-09-05  600702.XSHG  240.93  243.01   0.008633   0.031378   \n",
       "\n",
       "        return_2d  return_3d  return_4d  return_5d  \n",
       "628357   0.027892   0.010459   0.034408   0.002449  "
      ]
     },
     "execution_count": 7,
     "metadata": {},
     "output_type": "execute_result"
    }
   ],
   "source": [
    "returns_df.sample()"
   ]
  },
  {
   "cell_type": "code",
   "execution_count": 8,
   "id": "1aedb62e",
   "metadata": {},
   "outputs": [],
   "source": [
    "# 将merged_df 与 returns_df 合并，仅保留returns_df的return_0d列\n",
    "merged_df = pd.merge(merged_df, returns_df[['date', 'stock_code', 'return_0d', 'return_1d', 'return_2d', 'return_3d', 'return_4d', 'return_5d']], on=['date', 'stock_code'], how='left')\n"
   ]
  },
  {
   "cell_type": "code",
   "execution_count": 9,
   "id": "20d303f8",
   "metadata": {},
   "outputs": [],
   "source": [
    "# 保存merged_df到D:\\workspace\\xiaoyao\\data下\n",
    "merged_df.to_parquet(r'D:\\workspace\\xiaoyao\\data\\widetable.parquet', index=False)"
   ]
  },
  {
   "cell_type": "code",
   "execution_count": null,
   "id": "e850b2c4",
   "metadata": {},
   "outputs": [],
   "source": []
  }
 ],
 "metadata": {
  "kernelspec": {
   "display_name": "xiaoyao",
   "language": "python",
   "name": "python3"
  },
  "language_info": {
   "codemirror_mode": {
    "name": "ipython",
    "version": 3
   },
   "file_extension": ".py",
   "mimetype": "text/x-python",
   "name": "python",
   "nbconvert_exporter": "python",
   "pygments_lexer": "ipython3",
   "version": "3.10.6"
  }
 },
 "nbformat": 4,
 "nbformat_minor": 5
}
