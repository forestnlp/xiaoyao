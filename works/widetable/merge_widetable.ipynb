{
 "cells": [
  {
   "cell_type": "code",
   "execution_count": 2,
   "id": "5ee01364",
   "metadata": {},
   "outputs": [],
   "source": [
    "# 依次读取项目data目录下的parquet文件\n",
    "\n",
    "import pandas as pd\n",
    "\n",
    "# 读取股票日k线数据，行业数据，竞价数据，市值数据\n",
    "price_df = pd.read_parquet(r'D:\\workspace\\xiaoyao\\data\\stock_daily_price.parquet')\n",
    "industry_df = pd.read_parquet(r'D:\\workspace\\xiaoyao\\data\\stock_daily_industry.parquet')\n",
    "auction_df = pd.read_parquet(r'D:\\workspace\\xiaoyao\\data\\stock_daily_auction.parquet')\n",
    "marketcap_df = pd.read_parquet(r'D:\\workspace\\xiaoyao\\data\\stock_daily_marketcap.parquet')\n",
    "\n",
    "# 将date转换为字符串类型\n",
    "price_df['date'] = price_df['date'].astype(str)\n",
    "industry_df['date'] = industry_df['date'].astype(str)\n",
    "marketcap_df['date'] = marketcap_df['date'].astype(str)\n",
    "\n",
    "# 将auction的date只取日期部分\n",
    "auction_df['date'] = auction_df['date'].astype(str).str[:10]"
   ]
  },
  {
   "cell_type": "code",
   "execution_count": 3,
   "id": "4c6fb604",
   "metadata": {},
   "outputs": [],
   "source": [
    "# price_df 只取2025-01-01以后的数据\n",
    "price_df = price_df[price_df['date'] >= '2025-01-01']"
   ]
  },
  {
   "cell_type": "code",
   "execution_count": 9,
   "id": "2b07dad1",
   "metadata": {},
   "outputs": [],
   "source": [
    "# 将四个df合并到price_df\n",
    "merged_df = price_df.merge(industry_df, on=['date', 'stock_code'], how='left')\n",
    "merged_df = merged_df.merge(marketcap_df, on=['date', 'stock_code'], how='left')\n",
    "merged_df = merged_df.merge(auction_df, on=['date', 'stock_code'], how='left')"
   ]
  },
  {
   "cell_type": "code",
   "execution_count": 10,
   "id": "1844006a",
   "metadata": {},
   "outputs": [],
   "source": [
    "# merged_df将字段重命名 其中volume重命名为volume_daily\n",
    "merged_df = merged_df.rename(columns={'volume_x': 'volume'})\n",
    "merged_df = merged_df.rename(columns={'volume_y': 'auc_volume'})\n",
    "merged_df = merged_df.rename(columns={'money_x': 'money'})\n",
    "merged_df = merged_df.rename(columns={'money_y': 'auc_money'})"
   ]
  },
  {
   "cell_type": "code",
   "execution_count": 11,
   "id": "98f4586a",
   "metadata": {},
   "outputs": [
    {
     "data": {
      "text/plain": [
       "Index(['date', 'stock_code', 'open', 'close', 'low', 'high', 'volume', 'money',\n",
       "       'factor', 'high_limit', 'low_limit', 'avg', 'pre_close', 'paused',\n",
       "       'zjw_industry_code', 'zjw_industry_name', 'jq_l1_industry_code',\n",
       "       'jq_l1_industry_name', 'jq_l2_industry_code', 'jq_l2_industry_name',\n",
       "       'sw_l1_industry_code', 'sw_l1_industry_name', 'sw_l2_industry_code',\n",
       "       'sw_l2_industry_name', 'sw_l3_industry_code', 'sw_l3_industry_name',\n",
       "       'capitalization', 'circulating_cap', 'market_cap',\n",
       "       'circulating_market_cap', 'turnover_ratio', 'pe_ratio', 'pe_ratio_lyr',\n",
       "       'pb_ratio', 'ps_ratio', 'pcf_ratio', 'current', 'auc_volume',\n",
       "       'auc_money', 'a1_p', 'a1_v', 'a2_p', 'a2_v', 'a3_p', 'a3_v', 'a4_p',\n",
       "       'a4_v', 'a5_p', 'a5_v', 'b1_p', 'b1_v', 'b2_p', 'b2_v', 'b3_p', 'b3_v',\n",
       "       'b4_p', 'b4_v', 'b5_p', 'b5_v'],\n",
       "      dtype='object')"
      ]
     },
     "execution_count": 11,
     "metadata": {},
     "output_type": "execute_result"
    }
   ],
   "source": [
    "merged_df.columns"
   ]
  },
  {
   "cell_type": "code",
   "execution_count": null,
   "id": "43f09c50",
   "metadata": {},
   "outputs": [],
   "source": [
    "# 对于每只股票，计算当日收益率\n",
    "import pandas as pd\n",
    "\n",
    "def calculate_multi_day_returns(df):\n",
    "    # 确保数据按股票代码和日期排序\n",
    "    df_sorted = df.sort_values(['stock_code', 'date']).copy()\n",
    "    \n",
    "    # 按股票代码分组\n",
    "    grouped = df_sorted.groupby('stock_code')\n",
    "    \n",
    "    # 存储结果的字典\n",
    "    result_dfs = []\n",
    "    \n",
    "    for stock_code, group in grouped:\n",
    "        # 重置索引，方便后续按位置访问\n",
    "        stock_data = group.reset_index(drop=True)\n",
    "        num_records = len(stock_data)\n",
    "        \n",
    "        # 为每个天数计算收益率（1到5天）\n",
    "        for n in range(0, 6):\n",
    "            # 计算T+n日的close与T日的open的收益率\n",
    "            # 使用shift(-n)获取n天后的数据\n",
    "            returns = (stock_data['close'].shift(-n) - stock_data['open']) / stock_data['open']\n",
    "            \n",
    "            # 创建临时DataFrame存储结果\n",
    "            temp_df = stock_data[['date', 'stock_code', 'open']].copy()\n",
    "            temp_df[f'{n}日收益率'] = returns\n",
    "            \n",
    "            result_dfs.append(temp_df)\n",
    "    \n",
    "    # 合并所有结果\n",
    "    result = pd.concat(result_dfs, ignore_index=True)\n",
    "    \n",
    "    # 对于不足n天的数据（如最后n条记录），收益率将为NaN\n",
    "    return result\n",
    "\n",
    "# 使用示例：\n",
    "# 假设你的DataFrame名为merged_df\n",
    "returns_df = calculate_multi_day_returns(merged_df)\n",
    "print(returns_df.head())\n",
    "\n"
   ]
  },
  {
   "cell_type": "code",
   "execution_count": 15,
   "id": "20d303f8",
   "metadata": {},
   "outputs": [],
   "source": [
    "# 保存merged_df到D:\\workspace\\xiaoyao\\data下\n",
    "merged_df.to_parquet(r'D:\\workspace\\xiaoyao\\data\\widetable.parquet', index=False)"
   ]
  },
  {
   "cell_type": "code",
   "execution_count": null,
   "id": "e850b2c4",
   "metadata": {},
   "outputs": [],
   "source": []
  }
 ],
 "metadata": {
  "kernelspec": {
   "display_name": "xiaoyao",
   "language": "python",
   "name": "python3"
  },
  "language_info": {
   "codemirror_mode": {
    "name": "ipython",
    "version": 3
   },
   "file_extension": ".py",
   "mimetype": "text/x-python",
   "name": "python",
   "nbconvert_exporter": "python",
   "pygments_lexer": "ipython3",
   "version": "3.10.18"
  }
 },
 "nbformat": 4,
 "nbformat_minor": 5
}
