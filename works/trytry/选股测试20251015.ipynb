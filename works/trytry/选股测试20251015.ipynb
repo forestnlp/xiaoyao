{
 "cells": [
  {
   "cell_type": "code",
   "execution_count": 25,
   "id": "262a781f",
   "metadata": {},
   "outputs": [
    {
     "name": "stdout",
     "output_type": "stream",
     "text": [
      "=== 启动优化版超短选股策略（贴合A股轮动） ===\n",
      "加载优化版超短选股数据...\n",
      "数据预处理完成: 保留 920710 条记录，182 个交易日\n",
      "开始每日选股：174 个交易日（聚焦强势行业）\n"
     ]
    },
    {
     "name": "stderr",
     "output_type": "stream",
     "text": [
      "选股进度:   1%|          | 1/174 [00:00<00:31,  5.48it/s]"
     ]
    },
    {
     "name": "stdout",
     "output_type": "stream",
     "text": [
      "2025-01-03 强势行业TOP3：['医药生物I', '化工I', '机械设备I']\n",
      "2025-01-03 选股完成：共选出 6 只个股（强势行业内TOP2）\n"
     ]
    },
    {
     "name": "stderr",
     "output_type": "stream",
     "text": [
      "选股进度:   2%|▏         | 3/174 [00:00<00:19,  8.72it/s]"
     ]
    },
    {
     "name": "stdout",
     "output_type": "stream",
     "text": [
      "2025-01-06 强势行业TOP3：['医药生物I', '机械设备I', '化工I']\n",
      "2025-01-06 选股完成：共选出 6 只个股（强势行业内TOP2）\n",
      "2025-01-07 强势行业TOP3：['医药生物I', '电子I', '机械设备I']\n",
      "2025-01-07 选股完成：共选出 6 只个股（强势行业内TOP2）\n",
      "2025-01-08 强势行业TOP3：['机械设备I', '化工I', '医药生物I']\n",
      "2025-01-08 选股完成：共选出 6 只个股（强势行业内TOP2）\n"
     ]
    },
    {
     "name": "stderr",
     "output_type": "stream",
     "text": [
      "选股进度:   3%|▎         | 5/174 [00:00<00:14, 11.36it/s]"
     ]
    },
    {
     "name": "stdout",
     "output_type": "stream",
     "text": [
      "2025-01-09 强势行业TOP3：['机械设备I', '电子I', '医药生物I']\n",
      "2025-01-09 选股完成：共选出 6 只个股（强势行业内TOP2）\n",
      "2025-01-10 强势行业TOP3：['电子I', '机械设备I', '化工I']\n",
      "2025-01-10 选股完成：共选出 6 只个股（强势行业内TOP2）\n",
      "2025-01-13 强势行业TOP3：['机械设备I', '化工I', '医药生物I']\n",
      "2025-01-13 选股完成：共选出 6 只个股（强势行业内TOP2）\n"
     ]
    },
    {
     "name": "stderr",
     "output_type": "stream",
     "text": [
      "选股进度:   4%|▍         | 7/174 [00:00<00:12, 13.64it/s]"
     ]
    },
    {
     "name": "stdout",
     "output_type": "stream",
     "text": [
      "2025-01-14 强势行业TOP3：['机械设备I', '化工I', '医药生物I']\n",
      "2025-01-14 选股完成：共选出 6 只个股（强势行业内TOP2）\n"
     ]
    },
    {
     "name": "stderr",
     "output_type": "stream",
     "text": [
      "选股进度:   5%|▌         | 9/174 [00:00<00:11, 14.11it/s]"
     ]
    },
    {
     "name": "stdout",
     "output_type": "stream",
     "text": [
      "2025-01-15 强势行业TOP3：['机械设备I', '化工I', '医药生物I']\n",
      "2025-01-15 选股完成：共选出 6 只个股（强势行业内TOP2）\n",
      "2025-01-16 强势行业TOP3：['机械设备I', '化工I', '计算机I']\n",
      "2025-01-16 选股完成：共选出 6 只个股（强势行业内TOP2）\n",
      "2025-01-17 强势行业TOP3：['医药生物I', '化工I', '机械设备I']\n"
     ]
    },
    {
     "name": "stderr",
     "output_type": "stream",
     "text": [
      "选股进度:   6%|▋         | 11/174 [00:00<00:11, 14.36it/s]"
     ]
    },
    {
     "name": "stdout",
     "output_type": "stream",
     "text": [
      "2025-01-17 选股完成：共选出 6 只个股（强势行业内TOP2）\n",
      "2025-01-20 强势行业TOP3：['医药生物I', '电子I', '化工I']\n"
     ]
    },
    {
     "name": "stderr",
     "output_type": "stream",
     "text": [
      "选股进度:   7%|▋         | 13/174 [00:01<00:11, 14.11it/s]"
     ]
    },
    {
     "name": "stdout",
     "output_type": "stream",
     "text": [
      "2025-01-20 选股完成：共选出 6 只个股（强势行业内TOP2）\n",
      "2025-01-21 强势行业TOP3：['电子I', '医药生物I', '机械设备I']\n",
      "2025-01-21 选股完成：共选出 6 只个股（强势行业内TOP2）\n",
      "2025-01-22 强势行业TOP3：['医药生物I', '机械设备I', '电子I']"
     ]
    },
    {
     "name": "stderr",
     "output_type": "stream",
     "text": [
      "选股进度:   9%|▊         | 15/174 [00:01<00:13, 11.50it/s]"
     ]
    },
    {
     "name": "stdout",
     "output_type": "stream",
     "text": [
      "\n",
      "2025-01-22 选股完成：共选出 6 只个股（强势行业内TOP2）\n",
      "2025-01-23 强势行业TOP3：['医药生物I', '机械设备I', '化工I']\n",
      "2025-01-23 选股完成：共选出 6 只个股（强势行业内TOP2）\n",
      "2025-01-24 强势行业TOP3：['医药生物I', '计算机I', '机械设备I']\n",
      "2025-01-24 选股完成：共选出 6 只个股（强势行业内TOP2）\n"
     ]
    },
    {
     "name": "stderr",
     "output_type": "stream",
     "text": [
      "选股进度:  11%|█         | 19/174 [00:01<00:11, 13.57it/s]"
     ]
    },
    {
     "name": "stdout",
     "output_type": "stream",
     "text": [
      "2025-01-27 强势行业TOP3：['医药生物I', '计算机I', '化工I']\n",
      "2025-01-27 选股完成：共选出 6 只个股（强势行业内TOP2）\n",
      "2025-02-05 强势行业TOP3：['计算机I', '医药生物I', '电子I']\n",
      "2025-02-05 选股完成：共选出 6 只个股（强势行业内TOP2）\n",
      "2025-02-06 强势行业TOP3：['医药生物I', '机械设备I', '电子I']\n",
      "2025-02-06 选股完成：共选出 6 只个股（强势行业内TOP2）\n",
      "2025-02-07 强势行业TOP3：['医药生物I', '电子I', '机械设备I']\n",
      "2025-02-07 选股完成：共选出 6 只个股（强势行业内TOP2）\n"
     ]
    },
    {
     "name": "stderr",
     "output_type": "stream",
     "text": [
      "选股进度:  13%|█▎        | 23/174 [00:01<00:09, 15.50it/s]"
     ]
    },
    {
     "name": "stdout",
     "output_type": "stream",
     "text": [
      "2025-02-10 强势行业TOP3：['医药生物I', '计算机I', '电气设备I']\n",
      "2025-02-10 选股完成：共选出 6 只个股（强势行业内TOP2）\n",
      "2025-02-11 强势行业TOP3：['医药生物I', '化工I', '机械设备I']\n",
      "2025-02-11 选股完成：共选出 6 只个股（强势行业内TOP2）\n",
      "2025-02-12 强势行业TOP3：['机械设备I', '化工I', '医药生物I']\n",
      "2025-02-12 选股完成：共选出 6 只个股（强势行业内TOP2）\n",
      "2025-02-13 强势行业TOP3：['化工I', '医药生物I', '机械设备I']\n",
      "2025-02-13 选股完成：共选出 6 只个股（强势行业内TOP2）\n"
     ]
    },
    {
     "name": "stderr",
     "output_type": "stream",
     "text": [
      "选股进度:  15%|█▍        | 26/174 [00:01<00:10, 14.41it/s]"
     ]
    },
    {
     "name": "stdout",
     "output_type": "stream",
     "text": [
      "2025-02-14 强势行业TOP3：['医药生物I', '化工I', '机械设备I']\n",
      "2025-02-14 选股完成：共选出 6 只个股（强势行业内TOP2）\n",
      "2025-02-17 强势行业TOP3：['医药生物I', '机械设备I', '化工I']\n",
      "2025-02-17 选股完成：共选出 6 只个股（强势行业内TOP2）\n"
     ]
    },
    {
     "name": "stderr",
     "output_type": "stream",
     "text": [
      "选股进度:  16%|█▌        | 28/174 [00:02<00:13, 11.04it/s]"
     ]
    },
    {
     "name": "stdout",
     "output_type": "stream",
     "text": [
      "2025-02-18 强势行业TOP3：['医药生物I', '电气设备I', '机械设备I']\n",
      "2025-02-18 选股完成：共选出 6 只个股（强势行业内TOP2）\n",
      "2025-02-19 强势行业TOP3：['机械设备I', '电气设备I', '电子I']\n",
      "2025-02-19 选股完成：共选出 6 只个股（强势行业内TOP2）\n",
      "2025-02-20 强势行业TOP3：['机械设备I', '电子I', '医药生物I']\n",
      "2025-02-20 选股完成：共选出 6 只个股（强势行业内TOP2）\n"
     ]
    },
    {
     "name": "stderr",
     "output_type": "stream",
     "text": [
      "选股进度:  18%|█▊        | 32/174 [00:02<00:11, 12.79it/s]"
     ]
    },
    {
     "name": "stdout",
     "output_type": "stream",
     "text": [
      "2025-02-21 强势行业TOP3：['机械设备I', '电子I', '化工I']\n",
      "2025-02-21 选股完成：共选出 6 只个股（强势行业内TOP2）\n",
      "2025-02-24 强势行业TOP3：['化工I', '电子I', '机械设备I']\n",
      "2025-02-24 选股完成：共选出 6 只个股（强势行业内TOP2）\n",
      "2025-02-25 强势行业TOP3：['化工I', '医药生物I', '机械设备I']\n",
      "2025-02-25 选股完成：共选出 6 只个股（强势行业内TOP2）\n",
      "2025-02-26 强势行业TOP3：['机械设备I', '化工I', '医药生物I']\n",
      "2025-02-26 选股完成：共选出 6 只个股（强势行业内TOP2）\n"
     ]
    },
    {
     "name": "stderr",
     "output_type": "stream",
     "text": [
      "选股进度:  21%|██        | 36/174 [00:02<00:10, 13.52it/s]"
     ]
    },
    {
     "name": "stdout",
     "output_type": "stream",
     "text": [
      "2025-02-27 强势行业TOP3：['医药生物I', '电气设备I', '化工I']\n",
      "2025-02-27 选股完成：共选出 6 只个股（强势行业内TOP2）\n",
      "2025-02-28 强势行业TOP3：['医药生物I', '化工I', '机械设备I']\n",
      "2025-02-28 选股完成：共选出 6 只个股（强势行业内TOP2）\n",
      "2025-03-03 强势行业TOP3：['医药生物I', '化工I', '电气设备I']\n",
      "2025-03-03 选股完成：共选出 6 只个股（强势行业内TOP2）\n",
      "2025-03-04 强势行业TOP3：['化工I', '医药生物I', '机械设备I']\n",
      "2025-03-04 选股完成：共选出 6 只个股（强势行业内TOP2）\n"
     ]
    },
    {
     "name": "stderr",
     "output_type": "stream",
     "text": [
      "选股进度:  23%|██▎       | 40/174 [00:03<00:08, 15.70it/s]"
     ]
    },
    {
     "name": "stdout",
     "output_type": "stream",
     "text": [
      "2025-03-05 强势行业TOP3：['医药生物I', '化工I', '机械设备I']\n",
      "2025-03-05 选股完成：共选出 6 只个股（强势行业内TOP2）\n",
      "2025-03-06 强势行业TOP3：['机械设备I', '电子I', '医药生物I']\n",
      "2025-03-06 选股完成：共选出 6 只个股（强势行业内TOP2）\n",
      "2025-03-07 强势行业TOP3：['机械设备I', '医药生物I', '化工I']\n",
      "2025-03-07 选股完成：共选出 6 只个股（强势行业内TOP2）\n",
      "2025-03-10 强势行业TOP3：['医药生物I', '机械设备I', '化工I']\n",
      "2025-03-10 选股完成：共选出 6 只个股（强势行业内TOP2）\n",
      "2025-03-11 强势行业TOP3：['医药生物I', '机械设备I', '化工I']\n"
     ]
    },
    {
     "name": "stderr",
     "output_type": "stream",
     "text": [
      "选股进度:  25%|██▍       | 43/174 [00:03<00:07, 17.15it/s]"
     ]
    },
    {
     "name": "stdout",
     "output_type": "stream",
     "text": [
      "2025-03-11 选股完成：共选出 6 只个股（强势行业内TOP2）\n",
      "2025-03-12 强势行业TOP3：['电子I', '化工I', '机械设备I']\n",
      "2025-03-12 选股完成：共选出 6 只个股（强势行业内TOP2）\n",
      "2025-03-13 强势行业TOP3：['医药生物I', '化工I', '机械设备I']\n",
      "2025-03-13 选股完成：共选出 6 只个股（强势行业内TOP2）\n",
      "2025-03-14 强势行业TOP3：['医药生物I', '化工I', '机械设备I']\n"
     ]
    },
    {
     "name": "stderr",
     "output_type": "stream",
     "text": [
      "选股进度:  27%|██▋       | 47/174 [00:03<00:08, 14.69it/s]"
     ]
    },
    {
     "name": "stdout",
     "output_type": "stream",
     "text": [
      "2025-03-14 选股完成：共选出 6 只个股（强势行业内TOP2）\n",
      "2025-03-17 强势行业TOP3：['医药生物I', '化工I', '电气设备I']\n",
      "2025-03-17 选股完成：共选出 6 只个股（强势行业内TOP2）\n",
      "2025-03-18 强势行业TOP3：['医药生物I', '电子I', '机械设备I']\n",
      "2025-03-18 选股完成：共选出 6 只个股（强势行业内TOP2）\n",
      "2025-03-19 强势行业TOP3：['机械设备I', '医药生物I', '化工I']\n"
     ]
    },
    {
     "name": "stderr",
     "output_type": "stream",
     "text": [
      "选股进度:  28%|██▊       | 49/174 [00:03<00:08, 15.04it/s]"
     ]
    },
    {
     "name": "stdout",
     "output_type": "stream",
     "text": [
      "2025-03-19 选股完成：共选出 6 只个股（强势行业内TOP2）\n",
      "2025-03-20 强势行业TOP3：['机械设备I', '医药生物I', '化工I']\n",
      "2025-03-20 选股完成：共选出 6 只个股（强势行业内TOP2）\n",
      "2025-03-21 强势行业TOP3：['医药生物I', '机械设备I', '化工I']\n",
      "2025-03-21 选股完成：共选出 6 只个股（强势行业内TOP2）\n",
      "2025-03-24 强势行业TOP3：['医药生物I', '化工I', '机械设备I']\n",
      "2025-03-24 选股完成：共选出 6 只个股（强势行业内TOP2）\n"
     ]
    },
    {
     "name": "stderr",
     "output_type": "stream",
     "text": [
      "选股进度:  30%|███       | 53/174 [00:03<00:08, 14.73it/s]"
     ]
    },
    {
     "name": "stdout",
     "output_type": "stream",
     "text": [
      "2025-03-25 强势行业TOP3：['化工I', '医药生物I', '机械设备I']\n",
      "2025-03-25 选股完成：共选出 6 只个股（强势行业内TOP2）\n",
      "2025-03-26 强势行业TOP3：['化工I', '医药生物I', '机械设备I']\n",
      "2025-03-26 选股完成：共选出 6 只个股（强势行业内TOP2）\n",
      "2025-03-27 强势行业TOP3：['化工I', '医药生物I', '电子I']\n",
      "2025-03-27 选股完成：共选出 6 只个股（强势行业内TOP2）\n"
     ]
    },
    {
     "name": "stderr",
     "output_type": "stream",
     "text": [
      "选股进度:  32%|███▏      | 55/174 [00:04<00:09, 13.14it/s]"
     ]
    },
    {
     "name": "stdout",
     "output_type": "stream",
     "text": [
      "2025-03-28 强势行业TOP3：['医药生物I', '化工I', '电子I']\n",
      "2025-03-28 选股完成：共选出 6 只个股（强势行业内TOP2）\n",
      "2025-03-31 强势行业TOP3：['医药生物I', '化工I', '电子I']\n",
      "2025-03-31 选股完成：共选出 6 只个股（强势行业内TOP2）\n"
     ]
    },
    {
     "name": "stderr",
     "output_type": "stream",
     "text": [
      "选股进度:  33%|███▎      | 57/174 [00:04<00:09, 12.08it/s]"
     ]
    },
    {
     "name": "stdout",
     "output_type": "stream",
     "text": [
      "2025-04-01 强势行业TOP3：['医药生物I', '电子I', '计算机I']\n",
      "2025-04-01 选股完成：共选出 6 只个股（强势行业内TOP2）\n",
      "2025-04-02 强势行业TOP3：['医药生物I', '机械设备I', '电子I']\n",
      "2025-04-02 选股完成：共选出 6 只个股（强势行业内TOP2）\n",
      "2025-04-03 强势行业TOP3：['电子I', '医药生物I', '机械设备I']\n",
      "2025-04-03 选股完成：共选出 6 只个股（强势行业内TOP2）\n"
     ]
    },
    {
     "name": "stderr",
     "output_type": "stream",
     "text": [
      "选股进度:  35%|███▌      | 61/174 [00:04<00:09, 11.85it/s]"
     ]
    },
    {
     "name": "stdout",
     "output_type": "stream",
     "text": [
      "2025-04-07 强势行业TOP3：['医药生物I', '电子I', '化工I']\n",
      "2025-04-07 选股完成：共选出 6 只个股（强势行业内TOP2）\n",
      "2025-04-08 强势行业TOP3：['电子I', '机械设备I', '计算机I']\n",
      "2025-04-08 选股完成：共选出 6 只个股（强势行业内TOP2）\n",
      "2025-04-09 强势行业TOP3：['电子I', '化工I', '机械设备I']\n",
      "2025-04-09 选股完成：共选出 6 只个股（强势行业内TOP2）\n"
     ]
    },
    {
     "name": "stderr",
     "output_type": "stream",
     "text": [
      "选股进度:  37%|███▋      | 65/174 [00:04<00:09, 12.03it/s]"
     ]
    },
    {
     "name": "stdout",
     "output_type": "stream",
     "text": [
      "2025-04-10 强势行业TOP3：['电子I', '机械设备I', '计算机I']\n",
      "2025-04-10 选股完成：共选出 6 只个股（强势行业内TOP2）\n",
      "2025-04-11 强势行业TOP3：['电子I', '机械设备I', '计算机I']\n",
      "2025-04-11 选股完成：共选出 6 只个股（强势行业内TOP2）\n",
      "2025-04-14 强势行业TOP3：['电子I', '机械设备I', '计算机I']\n",
      "2025-04-14 选股完成：共选出 6 只个股（强势行业内TOP2）\n"
     ]
    },
    {
     "name": "stderr",
     "output_type": "stream",
     "text": [
      "选股进度:  39%|███▊      | 67/174 [00:05<00:08, 12.63it/s]"
     ]
    },
    {
     "name": "stdout",
     "output_type": "stream",
     "text": [
      "2025-04-15 强势行业TOP3：['医药生物I', '化工I', '机械设备I']\n",
      "2025-04-15 选股完成：共选出 6 只个股（强势行业内TOP2）\n",
      "2025-04-16 强势行业TOP3：['医药生物I', '化工I', '电气设备I']\n",
      "2025-04-16 选股完成：共选出 6 只个股（强势行业内TOP2）\n",
      "2025-04-17 强势行业TOP3：['化工I', '医药生物I', '机械设备I']\n",
      "2025-04-17 选股完成：共选出 6 只个股（强势行业内TOP2）\n"
     ]
    },
    {
     "name": "stderr",
     "output_type": "stream",
     "text": [
      "选股进度:  40%|███▉      | 69/174 [00:05<00:08, 12.56it/s]"
     ]
    },
    {
     "name": "stdout",
     "output_type": "stream",
     "text": [
      "2025-04-18 强势行业TOP3：['医药生物I', '化工I', '机械设备I']\n",
      "2025-04-18 选股完成：共选出 6 只个股（强势行业内TOP2）\n",
      "2025-04-21 强势行业TOP3：['医药生物I', '化工I', '机械设备I']\n",
      "2025-04-21 选股完成：共选出 6 只个股（强势行业内TOP2）\n",
      "2025-04-22 强势行业TOP3：['医药生物I', '计算机I', '化工I']\n",
      "2025-04-22 选股完成：共选出 6 只个股（强势行业内TOP2）\n"
     ]
    },
    {
     "name": "stderr",
     "output_type": "stream",
     "text": [
      "选股进度:  42%|████▏     | 73/174 [00:05<00:07, 13.86it/s]"
     ]
    },
    {
     "name": "stdout",
     "output_type": "stream",
     "text": [
      "2025-04-23 强势行业TOP3：['电子I', '机械设备I', '汽车I']\n",
      "2025-04-23 选股完成：共选出 6 只个股（强势行业内TOP2）\n",
      "2025-04-24 强势行业TOP3：['机械设备I', '医药生物I', '电气设备I']\n",
      "2025-04-24 选股完成：共选出 6 只个股（强势行业内TOP2）\n",
      "2025-04-25 强势行业TOP3：['医药生物I', '电气设备I', '电子I']\n",
      "2025-04-25 选股完成：共选出 6 只个股（强势行业内TOP2）\n",
      "2025-04-28 强势行业TOP3：['机械设备I', '医药生物I', '电气设备I']\n",
      "2025-04-28 选股完成：共选出 6 只个股（强势行业内TOP2）\n"
     ]
    },
    {
     "name": "stderr",
     "output_type": "stream",
     "text": [
      "选股进度:  44%|████▎     | 76/174 [00:05<00:06, 15.10it/s]"
     ]
    },
    {
     "name": "stdout",
     "output_type": "stream",
     "text": [
      "2025-04-29 强势行业TOP3：['机械设备I', '电气设备I', '医药生物I']\n",
      "2025-04-29 选股完成：共选出 6 只个股（强势行业内TOP2）\n",
      "2025-04-30 强势行业TOP3：['机械设备I', '医药生物I', '电子I']\n",
      "2025-04-30 选股完成：共选出 6 只个股（强势行业内TOP2）\n"
     ]
    },
    {
     "name": "stderr",
     "output_type": "stream",
     "text": [
      "选股进度:  45%|████▍     | 78/174 [00:05<00:08, 11.02it/s]"
     ]
    },
    {
     "name": "stdout",
     "output_type": "stream",
     "text": [
      "2025-05-06 强势行业TOP3：['电子I', '机械设备I', '计算机I']\n",
      "2025-05-06 选股完成：共选出 6 只个股（强势行业内TOP2）\n",
      "2025-05-07 强势行业TOP3：['电子I', '机械设备I', '计算机I']\n",
      "2025-05-07 选股完成：共选出 6 只个股（强势行业内TOP2）\n"
     ]
    },
    {
     "name": "stderr",
     "output_type": "stream",
     "text": [
      "选股进度:  47%|████▋     | 82/174 [00:06<00:07, 12.42it/s]"
     ]
    },
    {
     "name": "stdout",
     "output_type": "stream",
     "text": [
      "2025-05-08 强势行业TOP3：['机械设备I', '化工I', '医药生物I']\n",
      "2025-05-08 选股完成：共选出 6 只个股（强势行业内TOP2）\n",
      "2025-05-09 强势行业TOP3：['医药生物I', '机械设备I', '化工I']\n",
      "2025-05-09 选股完成：共选出 6 只个股（强势行业内TOP2）\n",
      "2025-05-12 强势行业TOP3：['电气设备I', '机械设备I', '电子I']\n",
      "2025-05-12 选股完成：共选出 6 只个股（强势行业内TOP2）\n",
      "2025-05-13 强势行业TOP3：['电子I', '医药生物I', '电气设备I']\n",
      "2025-05-13 选股完成：共选出 6 只个股（强势行业内TOP2）\n"
     ]
    },
    {
     "name": "stderr",
     "output_type": "stream",
     "text": [
      "选股进度:  49%|████▉     | 86/174 [00:06<00:06, 13.90it/s]"
     ]
    },
    {
     "name": "stdout",
     "output_type": "stream",
     "text": [
      "2025-05-14 强势行业TOP3：['医药生物I', '化工I', '电子I']\n",
      "2025-05-14 选股完成：共选出 6 只个股（强势行业内TOP2）\n",
      "2025-05-15 强势行业TOP3：['化工I', '医药生物I', '机械设备I']\n",
      "2025-05-15 选股完成：共选出 6 只个股（强势行业内TOP2）\n",
      "2025-05-16 强势行业TOP3：['医药生物I', '化工I', '机械设备I']\n",
      "2025-05-16 选股完成：共选出 6 只个股（强势行业内TOP2）\n"
     ]
    },
    {
     "name": "stderr",
     "output_type": "stream",
     "text": [
      "选股进度:  51%|█████     | 88/174 [00:06<00:05, 14.75it/s]"
     ]
    },
    {
     "name": "stdout",
     "output_type": "stream",
     "text": [
      "2025-05-19 强势行业TOP3：['医药生物I', '机械设备I', '化工I']\n",
      "2025-05-19 选股完成：共选出 6 只个股（强势行业内TOP2）\n",
      "2025-05-20 强势行业TOP3：['医药生物I', '机械设备I', '电子I']\n",
      "2025-05-20 选股完成：共选出 6 只个股（强势行业内TOP2）\n",
      "2025-05-21 强势行业TOP3：['医药生物I', '机械设备I', '电子I']\n",
      "2025-05-21 选股完成：共选出 6 只个股（强势行业内TOP2）\n"
     ]
    },
    {
     "name": "stderr",
     "output_type": "stream",
     "text": [
      "选股进度:  53%|█████▎    | 92/174 [00:06<00:05, 13.88it/s]"
     ]
    },
    {
     "name": "stdout",
     "output_type": "stream",
     "text": [
      "2025-05-22 强势行业TOP3：['医药生物I', '电气设备I', '电子I']\n",
      "2025-05-22 选股完成：共选出 6 只个股（强势行业内TOP2）\n",
      "2025-05-23 强势行业TOP3：['医药生物I', '电子I', '电气设备I']\n",
      "2025-05-23 选股完成：共选出 6 只个股（强势行业内TOP2）\n",
      "2025-05-26 强势行业TOP3：['医药生物I', '电子I', '机械设备I']\n",
      "2025-05-26 选股完成：共选出 6 只个股（强势行业内TOP2）\n",
      "2025-05-27 强势行业TOP3：['机械设备I', '电子I', '化工I']\n",
      "2025-05-27 选股完成：共选出 6 只个股（强势行业内TOP2）\n",
      "2025-05-28 强势行业TOP3：['机械设备I', '医药生物I', '化工I']\n"
     ]
    },
    {
     "name": "stderr",
     "output_type": "stream",
     "text": [
      "选股进度:  55%|█████▍    | 95/174 [00:07<00:05, 15.69it/s]"
     ]
    },
    {
     "name": "stdout",
     "output_type": "stream",
     "text": [
      "2025-05-28 选股完成：共选出 6 只个股（强势行业内TOP2）\n",
      "2025-05-29 强势行业TOP3：['电子I', '机械设备I', '计算机I']\n",
      "2025-05-29 选股完成：共选出 6 只个股（强势行业内TOP2）\n",
      "2025-05-30 强势行业TOP3：['医药生物I', '机械设备I', '电子I']\n",
      "2025-05-30 选股完成：共选出 6 只个股（强势行业内TOP2）\n",
      "2025-06-03 强势行业TOP3：['医药生物I', '计算机I', '化工I']\n",
      "2025-06-03 选股完成：共选出 6 只个股（强势行业内TOP2）\n"
     ]
    },
    {
     "name": "stderr",
     "output_type": "stream",
     "text": [
      "选股进度:  57%|█████▋    | 99/174 [00:07<00:05, 14.42it/s]"
     ]
    },
    {
     "name": "stdout",
     "output_type": "stream",
     "text": [
      "2025-06-04 强势行业TOP3：['医药生物I', '电气设备I', '电子I']\n",
      "2025-06-04 选股完成：共选出 6 只个股（强势行业内TOP2）\n",
      "2025-06-05 强势行业TOP3：['电子I', '电气设备I', '机械设备I']\n",
      "2025-06-05 选股完成：共选出 6 只个股（强势行业内TOP2）\n",
      "2025-06-06 强势行业TOP3：['电子I', '机械设备I', '电气设备I']\n",
      "2025-06-06 选股完成：共选出 6 只个股（强势行业内TOP2）\n",
      "2025-06-09 强势行业TOP3：['机械设备I', '化工I', '电子I']\n",
      "2025-06-09 选股完成：共选出 6 只个股（强势行业内TOP2）\n",
      "2025-06-10 强势行业TOP3：['医药生物I', '机械设备I', '电子I']\n"
     ]
    },
    {
     "name": "stderr",
     "output_type": "stream",
     "text": [
      "选股进度:  60%|█████▉    | 104/174 [00:07<00:04, 16.43it/s]"
     ]
    },
    {
     "name": "stdout",
     "output_type": "stream",
     "text": [
      "2025-06-10 选股完成：共选出 6 只个股（强势行业内TOP2）\n",
      "2025-06-11 强势行业TOP3：['电气设备I', '化工I', '医药生物I']\n",
      "2025-06-11 选股完成：共选出 6 只个股（强势行业内TOP2）\n",
      "2025-06-12 强势行业TOP3：['电子I', '电气设备I', '医药生物I']\n",
      "2025-06-12 选股完成：共选出 6 只个股（强势行业内TOP2）\n",
      "2025-06-13 强势行业TOP3：['电子I', '机械设备I', '化工I']\n",
      "2025-06-13 选股完成：共选出 6 只个股（强势行业内TOP2）\n",
      "2025-06-16 强势行业TOP3：['机械设备I', '化工I', '医药生物I']\n",
      "2025-06-16 选股完成：共选出 6 只个股（强势行业内TOP2）\n"
     ]
    },
    {
     "name": "stderr",
     "output_type": "stream",
     "text": [
      "选股进度:  63%|██████▎   | 109/174 [00:07<00:03, 16.71it/s]"
     ]
    },
    {
     "name": "stdout",
     "output_type": "stream",
     "text": [
      "2025-06-17 强势行业TOP3：['医药生物I', '电子I', '机械设备I']\n",
      "2025-06-17 选股完成：共选出 6 只个股（强势行业内TOP2）\n",
      "2025-06-18 强势行业TOP3：['电子I', '医药生物I', '机械设备I']\n",
      "2025-06-18 选股完成：共选出 6 只个股（强势行业内TOP2）\n",
      "2025-06-19 强势行业TOP3：['电子I', '机械设备I', '电气设备I']\n",
      "2025-06-19 选股完成：共选出 6 只个股（强势行业内TOP2）\n",
      "2025-06-20 强势行业TOP3：['电子I', '电气设备I', '机械设备I']\n",
      "2025-06-20 选股完成：共选出 6 只个股（强势行业内TOP2）\n"
     ]
    },
    {
     "name": "stderr",
     "output_type": "stream",
     "text": [
      "选股进度:  65%|██████▍   | 113/174 [00:08<00:03, 17.13it/s]"
     ]
    },
    {
     "name": "stdout",
     "output_type": "stream",
     "text": [
      "2025-06-23 强势行业TOP3：['电子I', '电气设备I', '机械设备I']\n",
      "2025-06-23 选股完成：共选出 6 只个股（强势行业内TOP2）\n",
      "2025-06-24 强势行业TOP3：['电子I', '机械设备I', '汽车I']\n",
      "2025-06-24 选股完成：共选出 6 只个股（强势行业内TOP2）\n",
      "2025-06-25 强势行业TOP3：['电子I', '机械设备I', '电气设备I']\n",
      "2025-06-25 选股完成：共选出 6 只个股（强势行业内TOP2）\n",
      "2025-06-26 强势行业TOP3：['机械设备I', '电子I', '计算机I']\n",
      "2025-06-26 选股完成：共选出 6 只个股（强势行业内TOP2）\n",
      "2025-06-27 强势行业TOP3：['电子I', '机械设备I', '医药生物I']\n",
      "2025-06-27 选股完成：共选出 6 只个股（强势行业内TOP2）\n"
     ]
    },
    {
     "name": "stderr",
     "output_type": "stream",
     "text": [
      "选股进度:  68%|██████▊   | 118/174 [00:08<00:03, 16.92it/s]"
     ]
    },
    {
     "name": "stdout",
     "output_type": "stream",
     "text": [
      "2025-06-30 强势行业TOP3：['电子I', '机械设备I', '电气设备I']\n",
      "2025-06-30 选股完成：共选出 6 只个股（强势行业内TOP2）\n",
      "2025-07-01 强势行业TOP3：['医药生物I', '机械设备I', '电子I']\n",
      "2025-07-01 选股完成：共选出 6 只个股（强势行业内TOP2）\n",
      "2025-07-02 强势行业TOP3：['医药生物I', '机械设备I', '电气设备I']\n",
      "2025-07-02 选股完成：共选出 6 只个股（强势行业内TOP2）\n",
      "2025-07-03 强势行业TOP3：['医药生物I', '机械设备I', '化工I']\n",
      "2025-07-03 选股完成：共选出 6 只个股（强势行业内TOP2）\n"
     ]
    },
    {
     "name": "stderr",
     "output_type": "stream",
     "text": [
      "选股进度:  70%|███████   | 122/174 [00:08<00:03, 16.64it/s]"
     ]
    },
    {
     "name": "stdout",
     "output_type": "stream",
     "text": [
      "2025-07-04 强势行业TOP3：['医药生物I', '机械设备I', '电子I']\n",
      "2025-07-04 选股完成：共选出 6 只个股（强势行业内TOP2）\n",
      "2025-07-07 强势行业TOP3：['医药生物I', '公用事业I', '化工I']\n",
      "2025-07-07 选股完成：共选出 6 只个股（强势行业内TOP2）\n",
      "2025-07-08 强势行业TOP3：['医药生物I', '电子I', '电气设备I']\n",
      "2025-07-08 选股完成：共选出 6 只个股（强势行业内TOP2）\n",
      "2025-07-09 强势行业TOP3：['机械设备I', '电子I', '电气设备I']\n",
      "2025-07-09 选股完成：共选出 6 只个股（强势行业内TOP2）\n",
      "2025-07-10 强势行业TOP3：['机械设备I', '医药生物I', '化工I']\n",
      "2025-07-10 选股完成：共选出 6 只个股（强势行业内TOP2）\n"
     ]
    },
    {
     "name": "stderr",
     "output_type": "stream",
     "text": [
      "选股进度:  73%|███████▎  | 127/174 [00:09<00:02, 16.91it/s]"
     ]
    },
    {
     "name": "stdout",
     "output_type": "stream",
     "text": [
      "2025-07-11 强势行业TOP3：['医药生物I', '机械设备I', '化工I']\n",
      "2025-07-11 选股完成：共选出 6 只个股（强势行业内TOP2）\n",
      "2025-07-14 强势行业TOP3：['机械设备I', '医药生物I', '计算机I']\n",
      "2025-07-14 选股完成：共选出 6 只个股（强势行业内TOP2）\n",
      "2025-07-15 强势行业TOP3：['机械设备I', '医药生物I', '化工I']\n",
      "2025-07-15 选股完成：共选出 6 只个股（强势行业内TOP2）\n"
     ]
    },
    {
     "name": "stderr",
     "output_type": "stream",
     "text": [
      "选股进度:  74%|███████▍  | 129/174 [00:09<00:03, 12.82it/s]"
     ]
    },
    {
     "name": "stdout",
     "output_type": "stream",
     "text": [
      "2025-07-16 强势行业TOP3：['医药生物I', '电子I', '机械设备I']\n",
      "2025-07-16 选股完成：共选出 6 只个股（强势行业内TOP2）\n",
      "2025-07-17 强势行业TOP3：['医药生物I', '机械设备I', '电子I']\n",
      "2025-07-17 选股完成：共选出 6 只个股（强势行业内TOP2）\n"
     ]
    },
    {
     "name": "stderr",
     "output_type": "stream",
     "text": [
      "选股进度:  75%|███████▌  | 131/174 [00:09<00:03, 11.26it/s]"
     ]
    },
    {
     "name": "stdout",
     "output_type": "stream",
     "text": [
      "2025-07-18 强势行业TOP3：['医药生物I', '电子I', '机械设备I']\n",
      "2025-07-18 选股完成：共选出 6 只个股（强势行业内TOP2）\n",
      "2025-07-21 强势行业TOP3：['机械设备I', '化工I', '电气设备I']\n",
      "2025-07-21 选股完成：共选出 6 只个股（强势行业内TOP2）\n",
      "2025-07-22 强势行业TOP3：['机械设备I', '化工I', '电气设备I']\n",
      "2025-07-22 选股完成：共选出 6 只个股（强势行业内TOP2）\n"
     ]
    },
    {
     "name": "stderr",
     "output_type": "stream",
     "text": [
      "选股进度:  78%|███████▊  | 135/174 [00:09<00:02, 13.13it/s]"
     ]
    },
    {
     "name": "stdout",
     "output_type": "stream",
     "text": [
      "2025-07-23 强势行业TOP3：['医药生物I', '机械设备I', '化工I']\n",
      "2025-07-23 选股完成：共选出 6 只个股（强势行业内TOP2）\n",
      "2025-07-24 强势行业TOP3：['医药生物I', '电子I', '化工I']\n",
      "2025-07-24 选股完成：共选出 6 只个股（强势行业内TOP2）\n",
      "2025-07-25 强势行业TOP3：['医药生物I', '电子I', '计算机I']\n",
      "2025-07-25 选股完成：共选出 6 只个股（强势行业内TOP2）\n",
      "2025-07-28 强势行业TOP3：['电子I', '医药生物I', '机械设备I']\n",
      "2025-07-28 选股完成：共选出 6 只个股（强势行业内TOP2）\n"
     ]
    },
    {
     "name": "stderr",
     "output_type": "stream",
     "text": [
      "选股进度:  80%|███████▉  | 139/174 [00:10<00:02, 13.77it/s]"
     ]
    },
    {
     "name": "stdout",
     "output_type": "stream",
     "text": [
      "2025-07-29 强势行业TOP3：['电子I', '医药生物I', '机械设备I']\n",
      "2025-07-29 选股完成：共选出 6 只个股（强势行业内TOP2）\n",
      "2025-07-30 强势行业TOP3：['医药生物I', '电子I', '机械设备I']\n",
      "2025-07-30 选股完成：共选出 6 只个股（强势行业内TOP2）\n",
      "2025-07-31 强势行业TOP3：['医药生物I', '机械设备I', '电子I']\n",
      "2025-07-31 选股完成：共选出 6 只个股（强势行业内TOP2）\n",
      "2025-08-01 强势行业TOP3：['计算机I', '机械设备I', '医药生物I']\n",
      "2025-08-01 选股完成：共选出 6 只个股（强势行业内TOP2）\n"
     ]
    },
    {
     "name": "stderr",
     "output_type": "stream",
     "text": [
      "选股进度:  82%|████████▏ | 143/174 [00:10<00:01, 15.80it/s]"
     ]
    },
    {
     "name": "stdout",
     "output_type": "stream",
     "text": [
      "2025-08-04 强势行业TOP3：['医药生物I', '机械设备I', '计算机I']\n",
      "2025-08-04 选股完成：共选出 6 只个股（强势行业内TOP2）\n",
      "2025-08-05 强势行业TOP3：['机械设备I', '汽车I', '电子I']\n",
      "2025-08-05 选股完成：共选出 6 只个股（强势行业内TOP2）\n",
      "2025-08-06 强势行业TOP3：['机械设备I', '电子I', '化工I']\n",
      "2025-08-06 选股完成：共选出 6 只个股（强势行业内TOP2）\n",
      "2025-08-07 强势行业TOP3：['电子I', '机械设备I', '化工I']\n",
      "2025-08-07 选股完成：共选出 6 只个股（强势行业内TOP2）\n"
     ]
    },
    {
     "name": "stderr",
     "output_type": "stream",
     "text": [
      "选股进度:  84%|████████▍ | 147/174 [00:10<00:01, 17.09it/s]"
     ]
    },
    {
     "name": "stdout",
     "output_type": "stream",
     "text": [
      "2025-08-08 强势行业TOP3：['机械设备I', '电子I', '化工I']\n",
      "2025-08-08 选股完成：共选出 6 只个股（强势行业内TOP2）\n",
      "2025-08-11 强势行业TOP3：['电气设备I', '机械设备I', '化工I']\n",
      "2025-08-11 选股完成：共选出 6 只个股（强势行业内TOP2）\n",
      "2025-08-12 强势行业TOP3：['电子I', '电气设备I', '化工I']\n",
      "2025-08-12 选股完成：共选出 6 只个股（强势行业内TOP2）\n",
      "2025-08-13 强势行业TOP3：['电子I', '化工I', '医药生物I']\n",
      "2025-08-13 选股完成：共选出 6 只个股（强势行业内TOP2）\n"
     ]
    },
    {
     "name": "stderr",
     "output_type": "stream",
     "text": [
      "选股进度:  87%|████████▋ | 151/174 [00:10<00:01, 15.95it/s]"
     ]
    },
    {
     "name": "stdout",
     "output_type": "stream",
     "text": [
      "2025-08-14 强势行业TOP3：['电子I', '机械设备I', '医药生物I']\n",
      "2025-08-14 选股完成：共选出 6 只个股（强势行业内TOP2）\n",
      "2025-08-15 强势行业TOP3：['电子I', '机械设备I', '计算机I']\n",
      "2025-08-15 选股完成：共选出 6 只个股（强势行业内TOP2）\n",
      "2025-08-18 强势行业TOP3：['电子I', '化工I', '机械设备I']\n",
      "2025-08-18 选股完成：共选出 6 只个股（强势行业内TOP2）\n",
      "2025-08-19 强势行业TOP3：['化工I', '机械设备I', '电子I']\n",
      "2025-08-19 选股完成：共选出 6 只个股（强势行业内TOP2）\n"
     ]
    },
    {
     "name": "stderr",
     "output_type": "stream",
     "text": [
      "选股进度:  89%|████████▉ | 155/174 [00:11<00:01, 16.22it/s]"
     ]
    },
    {
     "name": "stdout",
     "output_type": "stream",
     "text": [
      "2025-08-20 强势行业TOP3：['机械设备I', '电气设备I', '化工I']\n",
      "2025-08-20 选股完成：共选出 6 只个股（强势行业内TOP2）\n",
      "2025-08-21 强势行业TOP3：['化工I', '计算机I', '电子I']\n",
      "2025-08-21 选股完成：共选出 6 只个股（强势行业内TOP2）\n",
      "2025-08-22 强势行业TOP3：['电子I', '机械设备I', '化工I']\n",
      "2025-08-22 选股完成：共选出 6 只个股（强势行业内TOP2）\n",
      "2025-08-25 强势行业TOP3：['电子I', '机械设备I', '计算机I']\n"
     ]
    },
    {
     "name": "stderr",
     "output_type": "stream",
     "text": [
      "选股进度:  90%|█████████ | 157/174 [00:11<00:01, 15.93it/s]"
     ]
    },
    {
     "name": "stdout",
     "output_type": "stream",
     "text": [
      "2025-08-25 选股完成：共选出 6 只个股（强势行业内TOP2）\n",
      "2025-08-26 强势行业TOP3：['机械设备I', '化工I', '医药生物I']\n",
      "2025-08-26 选股完成：共选出 6 只个股（强势行业内TOP2）\n",
      "2025-08-27 强势行业TOP3：['计算机I', '机械设备I', '医药生物I']\n",
      "2025-08-27 选股完成：共选出 6 只个股（强势行业内TOP2）\n",
      "2025-08-28 强势行业TOP3：['医药生物I', '机械设备I', '电子I']\n"
     ]
    },
    {
     "name": "stderr",
     "output_type": "stream",
     "text": [
      "选股进度:  91%|█████████▏| 159/174 [00:11<00:00, 15.02it/s]"
     ]
    },
    {
     "name": "stdout",
     "output_type": "stream",
     "text": [
      "2025-08-28 选股完成：共选出 6 只个股（强势行业内TOP2）\n",
      "2025-08-29 强势行业TOP3：['化工I', '机械设备I', '医药生物I']\n",
      "2025-08-29 选股完成：共选出 6 只个股（强势行业内TOP2）\n",
      "2025-09-01 强势行业TOP3：['电子I', '机械设备I', '电气设备I']\n"
     ]
    },
    {
     "name": "stderr",
     "output_type": "stream",
     "text": [
      "选股进度:  94%|█████████▎| 163/174 [00:11<00:00, 13.42it/s]"
     ]
    },
    {
     "name": "stdout",
     "output_type": "stream",
     "text": [
      "2025-09-01 选股完成：共选出 6 只个股（强势行业内TOP2）\n",
      "2025-09-02 强势行业TOP3：['机械设备I', '医药生物I', '电气设备I']\n",
      "2025-09-02 选股完成：共选出 6 只个股（强势行业内TOP2）\n",
      "2025-09-03 强势行业TOP3：['机械设备I', '电气设备I', '医药生物I']\n",
      "2025-09-03 选股完成：共选出 6 只个股（强势行业内TOP2）\n",
      "2025-09-04 强势行业TOP3：['电气设备I', '医药生物I', '机械设备I']\n",
      "2025-09-04 选股完成：共选出 6 只个股（强势行业内TOP2）\n"
     ]
    },
    {
     "name": "stderr",
     "output_type": "stream",
     "text": [
      "选股进度:  96%|█████████▌| 167/174 [00:11<00:00, 15.65it/s]"
     ]
    },
    {
     "name": "stdout",
     "output_type": "stream",
     "text": [
      "2025-09-05 强势行业TOP3：['电气设备I', '医药生物I', '化工I']\n",
      "2025-09-05 选股完成：共选出 6 只个股（强势行业内TOP2）\n",
      "2025-09-08 强势行业TOP3：['电气设备I', '化工I', '机械设备I']\n",
      "2025-09-08 选股完成：共选出 6 只个股（强势行业内TOP2）\n",
      "2025-09-09 强势行业TOP3：['医药生物I', '化工I', '机械设备I']\n",
      "2025-09-09 选股完成：共选出 6 只个股（强势行业内TOP2）\n",
      "2025-09-10 强势行业TOP3：['化工I', '机械设备I', '医药生物I']\n",
      "2025-09-10 选股完成：共选出 6 只个股（强势行业内TOP2）\n"
     ]
    },
    {
     "name": "stderr",
     "output_type": "stream",
     "text": [
      "选股进度:  97%|█████████▋| 169/174 [00:12<00:00, 14.41it/s]"
     ]
    },
    {
     "name": "stdout",
     "output_type": "stream",
     "text": [
      "2025-09-11 强势行业TOP3：['计算机I', '医药生物I', '电子I']\n",
      "2025-09-11 选股完成：共选出 6 只个股（强势行业内TOP2）\n",
      "2025-09-12 强势行业TOP3：['计算机I', '医药生物I', '机械设备I']\n",
      "2025-09-12 选股完成：共选出 6 只个股（强势行业内TOP2）\n"
     ]
    },
    {
     "name": "stderr",
     "output_type": "stream",
     "text": [
      "选股进度:  98%|█████████▊| 171/174 [00:12<00:00, 11.50it/s]"
     ]
    },
    {
     "name": "stdout",
     "output_type": "stream",
     "text": [
      "2025-09-15 强势行业TOP3：['电子I', '机械设备I', '化工I']\n",
      "2025-09-15 选股完成：共选出 6 只个股（强势行业内TOP2）\n",
      "2025-09-16 强势行业TOP3：['机械设备I', '化工I', '汽车I']\n",
      "2025-09-16 选股完成：共选出 6 只个股（强势行业内TOP2）\n"
     ]
    },
    {
     "name": "stderr",
     "output_type": "stream",
     "text": [
      "选股进度: 100%|██████████| 174/174 [00:12<00:00, 13.86it/s]\n"
     ]
    },
    {
     "name": "stdout",
     "output_type": "stream",
     "text": [
      "2025-09-17 强势行业TOP3：['机械设备I', '医药生物I', '汽车I']\n",
      "2025-09-17 选股完成：共选出 6 只个股（强势行业内TOP2）\n",
      "2025-09-18 强势行业TOP3：['机械设备I', '电子I', '医药生物I']\n",
      "2025-09-18 选股完成：共选出 6 只个股（强势行业内TOP2）\n",
      "选股完成：累计选出 1044 只个股，覆盖 174 个交易日\n",
      "开始策略评测：T日选股→T+1日买入→持有1天→T+1+1日卖出\n"
     ]
    },
    {
     "name": "stderr",
     "output_type": "stream",
     "text": [
      "计算收益: 100%|██████████| 174/174 [02:32<00:00,  1.14it/s]\n"
     ]
    },
    {
     "name": "stdout",
     "output_type": "stream",
     "text": [
      "\n",
      "===== 优化版超短策略评测结果 =====\n",
      "交易规则: T日选强势行业个股 → T+1日开盘买入 → 持有1天卖出\n",
      "回测期间: 2025-01-06 至 2025-09-19\n",
      "\n",
      "----- 核心指标 -----\n",
      "总交易次数: 1020\n",
      "胜率(%): 50.88\n",
      "平均收益率(%): 0.31\n",
      "累计收益率(%): 1021.11\n",
      "最大盈利(%): 32.02\n",
      "最大亏损(%): -17.32\n",
      "\n",
      "----- 强势行业表现TOP3 -----\n",
      "        交易次数  平均收益率(%)  胜率(%)  平均综合评分\n",
      "所属强势行业                               \n",
      "计算机I      52      0.77  53.85   83.36\n",
      "电气设备I     77      0.51  48.05   83.66\n",
      "电子I      181      0.45  51.93   82.66\n"
     ]
    },
    {
     "name": "stderr",
     "output_type": "stream",
     "text": [
      "C:\\Users\\user\\AppData\\Local\\Temp\\ipykernel_13880\\2867315193.py:476: FutureWarning: The default of observed=False is deprecated and will be changed to True in a future version of pandas. Pass observed=False to retain current behavior or observed=True to adopt the future default and silence this warning.\n",
      "  open_pct_perf = self.trade_records.groupby('高开幅度区间')['收益率(%)'].agg(['mean', 'count']).reset_index()\n",
      "findfont: Font family 'Arial Unicode MS' not found.\n",
      "findfont: Font family 'Arial Unicode MS' not found.\n",
      "findfont: Font family 'Arial Unicode MS' not found.\n",
      "findfont: Font family 'Arial Unicode MS' not found.\n",
      "findfont: Font family 'Arial Unicode MS' not found.\n",
      "findfont: Font family 'Arial Unicode MS' not found.\n",
      "findfont: Font family 'Arial Unicode MS' not found.\n",
      "findfont: Font family 'Arial Unicode MS' not found.\n",
      "findfont: Font family 'Arial Unicode MS' not found.\n",
      "findfont: Font family 'Arial Unicode MS' not found.\n",
      "findfont: Font family 'Arial Unicode MS' not found.\n",
      "findfont: Font family 'Arial Unicode MS' not found.\n",
      "findfont: Font family 'Arial Unicode MS' not found.\n",
      "findfont: Font family 'Arial Unicode MS' not found.\n",
      "findfont: Font family 'Arial Unicode MS' not found.\n",
      "findfont: Font family 'Arial Unicode MS' not found.\n",
      "findfont: Font family 'Arial Unicode MS' not found.\n",
      "findfont: Font family 'Arial Unicode MS' not found.\n",
      "findfont: Font family 'Arial Unicode MS' not found.\n",
      "findfont: Font family 'Arial Unicode MS' not found.\n",
      "findfont: Font family 'Arial Unicode MS' not found.\n",
      "findfont: Font family 'Arial Unicode MS' not found.\n",
      "findfont: Font family 'Arial Unicode MS' not found.\n",
      "findfont: Font family 'Arial Unicode MS' not found.\n",
      "findfont: Font family 'Arial Unicode MS' not found.\n",
      "findfont: Font family 'Arial Unicode MS' not found.\n",
      "findfont: Font family 'Arial Unicode MS' not found.\n",
      "findfont: Font family 'Arial Unicode MS' not found.\n",
      "findfont: Font family 'Arial Unicode MS' not found.\n",
      "findfont: Font family 'Arial Unicode MS' not found.\n",
      "findfont: Font family 'Arial Unicode MS' not found.\n",
      "findfont: Font family 'Arial Unicode MS' not found.\n",
      "findfont: Font family 'Arial Unicode MS' not found.\n",
      "findfont: Font family 'Arial Unicode MS' not found.\n",
      "findfont: Font family 'Arial Unicode MS' not found.\n",
      "findfont: Font family 'Arial Unicode MS' not found.\n",
      "findfont: Font family 'Arial Unicode MS' not found.\n",
      "findfont: Font family 'Arial Unicode MS' not found.\n",
      "findfont: Font family 'Arial Unicode MS' not found.\n",
      "findfont: Font family 'Arial Unicode MS' not found.\n",
      "findfont: Font family 'Arial Unicode MS' not found.\n",
      "findfont: Font family 'Arial Unicode MS' not found.\n",
      "findfont: Font family 'Arial Unicode MS' not found.\n",
      "findfont: Font family 'Arial Unicode MS' not found.\n",
      "findfont: Font family 'Arial Unicode MS' not found.\n",
      "findfont: Font family 'Arial Unicode MS' not found.\n",
      "findfont: Font family 'Arial Unicode MS' not found.\n",
      "findfont: Font family 'Arial Unicode MS' not found.\n",
      "findfont: Font family 'Arial Unicode MS' not found.\n",
      "findfont: Font family 'Arial Unicode MS' not found.\n",
      "findfont: Font family 'Arial Unicode MS' not found.\n",
      "findfont: Font family 'Arial Unicode MS' not found.\n",
      "findfont: Font family 'Arial Unicode MS' not found.\n",
      "findfont: Font family 'Arial Unicode MS' not found.\n",
      "findfont: Font family 'Arial Unicode MS' not found.\n",
      "findfont: Font family 'Arial Unicode MS' not found.\n",
      "findfont: Font family 'Arial Unicode MS' not found.\n",
      "findfont: Font family 'Arial Unicode MS' not found.\n",
      "findfont: Font family 'Arial Unicode MS' not found.\n",
      "findfont: Font family 'Arial Unicode MS' not found.\n",
      "findfont: Font family 'Arial Unicode MS' not found.\n",
      "findfont: Font family 'Arial Unicode MS' not found.\n",
      "findfont: Font family 'Arial Unicode MS' not found.\n",
      "findfont: Font family 'Arial Unicode MS' not found.\n",
      "findfont: Font family 'Arial Unicode MS' not found.\n",
      "findfont: Font family 'Arial Unicode MS' not found.\n",
      "findfont: Font family 'Arial Unicode MS' not found.\n",
      "findfont: Font family 'Arial Unicode MS' not found.\n",
      "findfont: Font family 'Arial Unicode MS' not found.\n",
      "findfont: Font family 'Arial Unicode MS' not found.\n",
      "findfont: Font family 'Arial Unicode MS' not found.\n",
      "findfont: Font family 'Arial Unicode MS' not found.\n",
      "findfont: Font family 'Arial Unicode MS' not found.\n",
      "findfont: Font family 'Arial Unicode MS' not found.\n",
      "findfont: Font family 'Arial Unicode MS' not found.\n",
      "findfont: Font family 'Arial Unicode MS' not found.\n",
      "findfont: Font family 'Arial Unicode MS' not found.\n",
      "findfont: Font family 'Arial Unicode MS' not found.\n",
      "findfont: Font family 'Arial Unicode MS' not found.\n",
      "findfont: Font family 'Arial Unicode MS' not found.\n",
      "findfont: Font family 'Arial Unicode MS' not found.\n",
      "findfont: Font family 'Arial Unicode MS' not found.\n",
      "findfont: Font family 'Arial Unicode MS' not found.\n",
      "findfont: Font family 'Arial Unicode MS' not found.\n",
      "findfont: Font family 'Arial Unicode MS' not found.\n",
      "findfont: Font family 'Arial Unicode MS' not found.\n",
      "findfont: Font family 'Arial Unicode MS' not found.\n",
      "findfont: Font family 'Arial Unicode MS' not found.\n",
      "findfont: Font family 'Arial Unicode MS' not found.\n",
      "findfont: Font family 'Arial Unicode MS' not found.\n",
      "findfont: Font family 'Arial Unicode MS' not found.\n",
      "findfont: Font family 'Arial Unicode MS' not found.\n",
      "findfont: Font family 'Arial Unicode MS' not found.\n",
      "findfont: Font family 'Arial Unicode MS' not found.\n",
      "findfont: Font family 'Arial Unicode MS' not found.\n",
      "findfont: Font family 'Arial Unicode MS' not found.\n",
      "findfont: Font family 'Arial Unicode MS' not found.\n",
      "findfont: Font family 'Arial Unicode MS' not found.\n",
      "findfont: Font family 'Arial Unicode MS' not found.\n",
      "findfont: Font family 'Arial Unicode MS' not found.\n",
      "findfont: Font family 'Arial Unicode MS' not found.\n",
      "findfont: Font family 'Arial Unicode MS' not found.\n",
      "findfont: Font family 'Arial Unicode MS' not found.\n",
      "findfont: Font family 'Arial Unicode MS' not found.\n",
      "findfont: Font family 'Arial Unicode MS' not found.\n",
      "findfont: Font family 'Arial Unicode MS' not found.\n",
      "findfont: Font family 'Arial Unicode MS' not found.\n",
      "findfont: Font family 'Arial Unicode MS' not found.\n",
      "findfont: Font family 'Arial Unicode MS' not found.\n",
      "findfont: Font family 'Arial Unicode MS' not found.\n",
      "findfont: Font family 'Arial Unicode MS' not found.\n",
      "findfont: Font family 'Arial Unicode MS' not found.\n",
      "findfont: Font family 'Arial Unicode MS' not found.\n",
      "findfont: Font family 'Arial Unicode MS' not found.\n",
      "findfont: Font family 'Arial Unicode MS' not found.\n",
      "findfont: Font family 'Arial Unicode MS' not found.\n",
      "findfont: Font family 'Arial Unicode MS' not found.\n",
      "findfont: Font family 'Arial Unicode MS' not found.\n",
      "findfont: Font family 'Arial Unicode MS' not found.\n",
      "findfont: Font family 'Arial Unicode MS' not found.\n",
      "findfont: Font family 'Arial Unicode MS' not found.\n",
      "findfont: Font family 'Arial Unicode MS' not found.\n",
      "findfont: Font family 'Arial Unicode MS' not found.\n",
      "findfont: Font family 'Arial Unicode MS' not found.\n",
      "findfont: Font family 'Arial Unicode MS' not found.\n",
      "findfont: Font family 'Arial Unicode MS' not found.\n",
      "findfont: Font family 'Arial Unicode MS' not found.\n",
      "findfont: Font family 'Arial Unicode MS' not found.\n",
      "findfont: Font family 'Arial Unicode MS' not found.\n",
      "findfont: Font family 'Arial Unicode MS' not found.\n",
      "findfont: Font family 'Arial Unicode MS' not found.\n",
      "findfont: Font family 'Arial Unicode MS' not found.\n",
      "findfont: Font family 'Arial Unicode MS' not found.\n",
      "findfont: Font family 'Arial Unicode MS' not found.\n",
      "findfont: Font family 'Arial Unicode MS' not found.\n",
      "findfont: Font family 'Arial Unicode MS' not found.\n",
      "findfont: Font family 'Arial Unicode MS' not found.\n",
      "findfont: Font family 'Arial Unicode MS' not found.\n",
      "findfont: Font family 'Arial Unicode MS' not found.\n",
      "findfont: Font family 'Arial Unicode MS' not found.\n",
      "findfont: Font family 'Arial Unicode MS' not found.\n",
      "findfont: Font family 'Arial Unicode MS' not found.\n",
      "findfont: Font family 'Arial Unicode MS' not found.\n",
      "findfont: Font family 'Arial Unicode MS' not found.\n",
      "findfont: Font family 'Arial Unicode MS' not found.\n",
      "findfont: Font family 'Arial Unicode MS' not found.\n",
      "findfont: Font family 'Arial Unicode MS' not found.\n",
      "findfont: Font family 'Arial Unicode MS' not found.\n",
      "findfont: Font family 'Arial Unicode MS' not found.\n",
      "findfont: Font family 'Arial Unicode MS' not found.\n",
      "findfont: Font family 'Arial Unicode MS' not found.\n",
      "findfont: Font family 'Arial Unicode MS' not found.\n",
      "findfont: Font family 'Arial Unicode MS' not found.\n",
      "findfont: Font family 'Arial Unicode MS' not found.\n",
      "findfont: Font family 'Arial Unicode MS' not found.\n",
      "findfont: Font family 'Arial Unicode MS' not found.\n",
      "findfont: Font family 'Arial Unicode MS' not found.\n",
      "findfont: Font family 'Arial Unicode MS' not found.\n",
      "findfont: Font family 'Arial Unicode MS' not found.\n",
      "findfont: Font family 'Arial Unicode MS' not found.\n",
      "findfont: Font family 'Arial Unicode MS' not found.\n",
      "findfont: Font family 'Arial Unicode MS' not found.\n",
      "findfont: Font family 'Arial Unicode MS' not found.\n",
      "findfont: Font family 'Arial Unicode MS' not found.\n",
      "findfont: Font family 'Arial Unicode MS' not found.\n",
      "findfont: Font family 'Arial Unicode MS' not found.\n",
      "findfont: Font family 'Arial Unicode MS' not found.\n",
      "findfont: Font family 'Arial Unicode MS' not found.\n",
      "findfont: Font family 'Arial Unicode MS' not found.\n",
      "findfont: Font family 'Arial Unicode MS' not found.\n",
      "findfont: Font family 'Arial Unicode MS' not found.\n",
      "findfont: Font family 'Arial Unicode MS' not found.\n",
      "findfont: Font family 'Arial Unicode MS' not found.\n",
      "findfont: Font family 'Arial Unicode MS' not found.\n",
      "findfont: Font family 'Arial Unicode MS' not found.\n",
      "findfont: Font family 'Arial Unicode MS' not found.\n",
      "findfont: Font family 'Arial Unicode MS' not found.\n",
      "findfont: Font family 'Arial Unicode MS' not found.\n",
      "findfont: Font family 'Arial Unicode MS' not found.\n",
      "findfont: Font family 'Arial Unicode MS' not found.\n",
      "findfont: Font family 'Arial Unicode MS' not found.\n",
      "findfont: Font family 'Arial Unicode MS' not found.\n",
      "findfont: Font family 'Arial Unicode MS' not found.\n",
      "findfont: Font family 'Arial Unicode MS' not found.\n",
      "findfont: Font family 'Arial Unicode MS' not found.\n",
      "findfont: Font family 'Arial Unicode MS' not found.\n",
      "findfont: Font family 'Arial Unicode MS' not found.\n",
      "findfont: Font family 'Arial Unicode MS' not found.\n",
      "findfont: Font family 'Arial Unicode MS' not found.\n",
      "findfont: Font family 'Arial Unicode MS' not found.\n",
      "findfont: Font family 'Arial Unicode MS' not found.\n",
      "findfont: Font family 'Arial Unicode MS' not found.\n",
      "findfont: Font family 'Arial Unicode MS' not found.\n",
      "findfont: Font family 'Arial Unicode MS' not found.\n",
      "findfont: Font family 'Arial Unicode MS' not found.\n",
      "findfont: Font family 'Arial Unicode MS' not found.\n",
      "findfont: Font family 'Arial Unicode MS' not found.\n",
      "findfont: Font family 'Arial Unicode MS' not found.\n",
      "findfont: Font family 'Arial Unicode MS' not found.\n",
      "findfont: Font family 'Arial Unicode MS' not found.\n",
      "findfont: Font family 'Arial Unicode MS' not found.\n",
      "findfont: Font family 'Arial Unicode MS' not found.\n",
      "findfont: Font family 'Arial Unicode MS' not found.\n",
      "findfont: Font family 'Arial Unicode MS' not found.\n",
      "findfont: Font family 'Arial Unicode MS' not found.\n",
      "findfont: Font family 'Arial Unicode MS' not found.\n",
      "findfont: Font family 'Arial Unicode MS' not found.\n",
      "findfont: Font family 'Arial Unicode MS' not found.\n",
      "findfont: Font family 'Arial Unicode MS' not found.\n",
      "findfont: Font family 'Arial Unicode MS' not found.\n",
      "findfont: Font family 'Arial Unicode MS' not found.\n",
      "findfont: Font family 'Arial Unicode MS' not found.\n",
      "findfont: Font family 'Arial Unicode MS' not found.\n",
      "findfont: Font family 'Arial Unicode MS' not found.\n",
      "findfont: Font family 'Arial Unicode MS' not found.\n",
      "findfont: Font family 'Arial Unicode MS' not found.\n",
      "findfont: Font family 'Arial Unicode MS' not found.\n",
      "findfont: Font family 'Arial Unicode MS' not found.\n",
      "findfont: Font family 'Arial Unicode MS' not found.\n",
      "findfont: Font family 'Arial Unicode MS' not found.\n",
      "findfont: Font family 'Arial Unicode MS' not found.\n",
      "findfont: Font family 'Arial Unicode MS' not found.\n",
      "findfont: Font family 'Arial Unicode MS' not found.\n",
      "findfont: Font family 'Arial Unicode MS' not found.\n",
      "findfont: Font family 'Arial Unicode MS' not found.\n",
      "findfont: Font family 'Arial Unicode MS' not found.\n",
      "findfont: Font family 'Arial Unicode MS' not found.\n",
      "findfont: Font family 'Arial Unicode MS' not found.\n",
      "findfont: Font family 'Arial Unicode MS' not found.\n",
      "findfont: Font family 'Arial Unicode MS' not found.\n",
      "findfont: Font family 'Arial Unicode MS' not found.\n",
      "findfont: Font family 'Arial Unicode MS' not found.\n",
      "findfont: Font family 'Arial Unicode MS' not found.\n",
      "findfont: Font family 'Arial Unicode MS' not found.\n",
      "findfont: Font family 'Arial Unicode MS' not found.\n",
      "findfont: Font family 'Arial Unicode MS' not found.\n",
      "findfont: Font family 'Arial Unicode MS' not found.\n",
      "findfont: Font family 'Arial Unicode MS' not found.\n",
      "findfont: Font family 'Arial Unicode MS' not found.\n",
      "findfont: Font family 'Arial Unicode MS' not found.\n",
      "findfont: Font family 'Arial Unicode MS' not found.\n",
      "findfont: Font family 'Arial Unicode MS' not found.\n",
      "findfont: Font family 'Arial Unicode MS' not found.\n",
      "findfont: Font family 'Arial Unicode MS' not found.\n",
      "findfont: Font family 'Arial Unicode MS' not found.\n",
      "findfont: Font family 'Arial Unicode MS' not found.\n",
      "findfont: Font family 'Arial Unicode MS' not found.\n",
      "findfont: Font family 'Arial Unicode MS' not found.\n",
      "findfont: Font family 'Arial Unicode MS' not found.\n",
      "findfont: Font family 'Arial Unicode MS' not found.\n",
      "findfont: Font family 'Arial Unicode MS' not found.\n",
      "findfont: Font family 'Arial Unicode MS' not found.\n",
      "findfont: Font family 'Arial Unicode MS' not found.\n",
      "findfont: Font family 'Arial Unicode MS' not found.\n",
      "findfont: Font family 'Arial Unicode MS' not found.\n",
      "findfont: Font family 'Arial Unicode MS' not found.\n",
      "findfont: Font family 'Arial Unicode MS' not found.\n",
      "findfont: Font family 'Arial Unicode MS' not found.\n",
      "findfont: Font family 'Arial Unicode MS' not found.\n",
      "findfont: Font family 'Arial Unicode MS' not found.\n",
      "findfont: Font family 'Arial Unicode MS' not found.\n",
      "findfont: Font family 'Arial Unicode MS' not found.\n",
      "findfont: Font family 'Arial Unicode MS' not found.\n",
      "findfont: Font family 'Arial Unicode MS' not found.\n",
      "findfont: Font family 'Arial Unicode MS' not found.\n",
      "findfont: Font family 'Arial Unicode MS' not found.\n",
      "findfont: Font family 'Arial Unicode MS' not found.\n",
      "findfont: Font family 'Arial Unicode MS' not found.\n",
      "findfont: Font family 'Arial Unicode MS' not found.\n",
      "findfont: Font family 'Arial Unicode MS' not found.\n",
      "findfont: Font family 'Arial Unicode MS' not found.\n",
      "findfont: Font family 'Arial Unicode MS' not found.\n",
      "findfont: Font family 'Arial Unicode MS' not found.\n",
      "findfont: Font family 'Arial Unicode MS' not found.\n",
      "findfont: Font family 'Arial Unicode MS' not found.\n",
      "findfont: Font family 'Arial Unicode MS' not found.\n",
      "findfont: Font family 'Arial Unicode MS' not found.\n",
      "findfont: Font family 'Arial Unicode MS' not found.\n",
      "findfont: Font family 'Arial Unicode MS' not found.\n",
      "findfont: Font family 'Arial Unicode MS' not found.\n",
      "findfont: Font family 'Arial Unicode MS' not found.\n",
      "findfont: Font family 'Arial Unicode MS' not found.\n",
      "findfont: Font family 'Arial Unicode MS' not found.\n",
      "findfont: Font family 'Arial Unicode MS' not found.\n",
      "findfont: Font family 'Arial Unicode MS' not found.\n",
      "findfont: Font family 'Arial Unicode MS' not found.\n",
      "findfont: Font family 'Arial Unicode MS' not found.\n",
      "findfont: Font family 'Arial Unicode MS' not found.\n",
      "findfont: Font family 'Arial Unicode MS' not found.\n",
      "findfont: Font family 'Arial Unicode MS' not found.\n",
      "findfont: Font family 'Arial Unicode MS' not found.\n",
      "findfont: Font family 'Arial Unicode MS' not found.\n",
      "findfont: Font family 'Arial Unicode MS' not found.\n",
      "findfont: Font family 'Arial Unicode MS' not found.\n",
      "findfont: Font family 'Arial Unicode MS' not found.\n",
      "findfont: Font family 'Arial Unicode MS' not found.\n",
      "findfont: Font family 'Arial Unicode MS' not found.\n",
      "findfont: Font family 'Arial Unicode MS' not found.\n",
      "findfont: Font family 'Arial Unicode MS' not found.\n",
      "findfont: Font family 'Arial Unicode MS' not found.\n",
      "findfont: Font family 'Arial Unicode MS' not found.\n",
      "findfont: Font family 'Arial Unicode MS' not found.\n",
      "findfont: Font family 'Arial Unicode MS' not found.\n",
      "findfont: Font family 'Arial Unicode MS' not found.\n",
      "findfont: Font family 'Arial Unicode MS' not found.\n",
      "findfont: Font family 'Arial Unicode MS' not found.\n",
      "findfont: Font family 'Arial Unicode MS' not found.\n",
      "findfont: Font family 'Arial Unicode MS' not found.\n",
      "findfont: Font family 'Arial Unicode MS' not found.\n",
      "findfont: Font family 'Arial Unicode MS' not found.\n",
      "findfont: Font family 'Arial Unicode MS' not found.\n",
      "findfont: Font family 'Arial Unicode MS' not found.\n",
      "findfont: Font family 'Arial Unicode MS' not found.\n",
      "findfont: Font family 'Arial Unicode MS' not found.\n",
      "findfont: Font family 'Arial Unicode MS' not found.\n",
      "findfont: Font family 'Arial Unicode MS' not found.\n",
      "findfont: Font family 'Arial Unicode MS' not found.\n",
      "findfont: Font family 'Arial Unicode MS' not found.\n",
      "findfont: Font family 'Arial Unicode MS' not found.\n",
      "findfont: Font family 'Arial Unicode MS' not found.\n",
      "findfont: Font family 'Arial Unicode MS' not found.\n",
      "findfont: Font family 'Arial Unicode MS' not found.\n",
      "findfont: Font family 'Arial Unicode MS' not found.\n",
      "findfont: Font family 'Arial Unicode MS' not found.\n",
      "findfont: Font family 'Arial Unicode MS' not found.\n",
      "findfont: Font family 'Arial Unicode MS' not found.\n",
      "findfont: Font family 'Arial Unicode MS' not found.\n",
      "findfont: Font family 'Arial Unicode MS' not found.\n",
      "findfont: Font family 'Arial Unicode MS' not found.\n",
      "findfont: Font family 'Arial Unicode MS' not found.\n",
      "findfont: Font family 'Arial Unicode MS' not found.\n",
      "findfont: Font family 'Arial Unicode MS' not found.\n",
      "findfont: Font family 'Arial Unicode MS' not found.\n",
      "findfont: Font family 'Arial Unicode MS' not found.\n",
      "findfont: Font family 'Arial Unicode MS' not found.\n",
      "findfont: Font family 'Arial Unicode MS' not found.\n",
      "findfont: Font family 'Arial Unicode MS' not found.\n",
      "findfont: Font family 'Arial Unicode MS' not found.\n",
      "findfont: Font family 'Arial Unicode MS' not found.\n",
      "findfont: Font family 'Arial Unicode MS' not found.\n",
      "findfont: Font family 'Arial Unicode MS' not found.\n",
      "findfont: Font family 'Arial Unicode MS' not found.\n",
      "findfont: Font family 'Arial Unicode MS' not found.\n",
      "findfont: Font family 'Arial Unicode MS' not found.\n",
      "findfont: Font family 'Arial Unicode MS' not found.\n",
      "findfont: Font family 'Arial Unicode MS' not found.\n",
      "findfont: Font family 'Arial Unicode MS' not found.\n",
      "findfont: Font family 'Arial Unicode MS' not found.\n",
      "findfont: Font family 'Arial Unicode MS' not found.\n"
     ]
    },
    {
     "name": "stdout",
     "output_type": "stream",
     "text": [
      "\n",
      "策略表现图表已保存至: optimized_strategy_evaluation/strategy_performance.png\n",
      "\n",
      "所有流程完成!\n",
      "选股结果目录: optimized_selection_results（每日文件含强势行业标签）\n",
      "评测结果目录: optimized_strategy_evaluation（含行业收益对比）\n"
     ]
    }
   ],
   "source": [
    "import pandas as pd\n",
    "import numpy as np\n",
    "import os\n",
    "from datetime import datetime, timedelta\n",
    "import matplotlib.pyplot as plt\n",
    "from tqdm import tqdm\n",
    "import matplotlib.dates as mdates\n",
    "from typing import List, Dict, Optional, Tuple\n",
    "\n",
    "# 全局配置\n",
    "pd.set_option('display.max_columns', None)\n",
    "plt.rcParams[\"font.family\"] = [\"SimHei\", \"Microsoft YaHei\", \"Arial Unicode MS\"]\n",
    "plt.rcParams['axes.unicode_minus'] = False\n",
    "\n",
    "# 核心字段（新增买一/卖一挂单字段，用于精准计算买卖盘比）\n",
    "CORE_FIELDS = [\n",
    "    # 基础信息\n",
    "    \"date\", \"stock_code\", \"stock_name\", \"open\", \"close\", \"pre_close\",\n",
    "    # 竞价数据\n",
    "    \"auc_volume\", \"auc_volume_ratio_vs_5d_avg\",\n",
    "    # 量能数据\n",
    "    \"volume\", \"volume_ratio_vs_5d_avg\", \"money_ratio_vs_5d_avg\",\n",
    "    # 盘口数据（新增买一/卖一挂单量，修正买卖盘比计算）\n",
    "    \"buy_total\", \"sell_total\", \"b1_v\", \"a1_v\", \"order_book_volume_ratio\",\n",
    "    # 波动数据\n",
    "    \"volatility\", \"amplitude\",\n",
    "    # 行业分类\n",
    "    \"sw_l1_industry_name\"\n",
    "]\n",
    "\n",
    "class OptimizedIntradayStrategy:\n",
    "    def __init__(self, data_path: str, \n",
    "                 output_dir: str = \"optimized_selection_results\",\n",
    "                 eval_dir: str = \"optimized_strategy_evaluation\"):\n",
    "        \"\"\"初始化优化版超短选股策略（修正指标+行业逻辑）\"\"\"\n",
    "        self.data_path = data_path\n",
    "        self.output_dir = output_dir\n",
    "        self.eval_dir = eval_dir\n",
    "        \n",
    "        # 创建输出目录\n",
    "        os.makedirs(self.output_dir, exist_ok=True)\n",
    "        os.makedirs(self.eval_dir, exist_ok=True)\n",
    "        \n",
    "        # 数据存储\n",
    "        self.raw_data = None\n",
    "        self.processed_data = None\n",
    "        self.trading_dates = []\n",
    "        self.trading_dates_map = {}  # 日期→索引映射，提升效率\n",
    "        \n",
    "        # 策略结果\n",
    "        self.daily_selections = {}\n",
    "        self.trade_records = None\n",
    "        self.performance = None\n",
    "\n",
    "    def load_data(self) -> bool:\n",
    "        \"\"\"加载数据（新增买一/卖一字段检查）\"\"\"\n",
    "        try:\n",
    "            print(\"加载优化版超短选股数据...\")\n",
    "            # 支持CSV/Parquet格式\n",
    "            if self.data_path.endswith('.csv'):\n",
    "                self.raw_data = pd.read_csv(self.data_path)\n",
    "            elif self.data_path.endswith('.parquet'):\n",
    "                self.raw_data = pd.read_parquet(self.data_path)\n",
    "            else:\n",
    "                raise ValueError(\"仅支持CSV或Parquet格式数据\")\n",
    "            \n",
    "            # 检查核心字段（含买一/卖一挂单量）\n",
    "            missing_fields = [f for f in CORE_FIELDS if f not in self.raw_data.columns]\n",
    "            if missing_fields:\n",
    "                raise ValueError(f\"缺失核心字段: {missing_fields}\")\n",
    "            \n",
    "            # 数据预处理\n",
    "            df = self.raw_data[CORE_FIELDS].copy()\n",
    "            # 日期格式统一\n",
    "            df['date'] = pd.to_datetime(df['date'], errors='coerce').dropna()\n",
    "            # 数值字段转换\n",
    "            numeric_fields = [f for f in CORE_FIELDS if f not in \n",
    "                             [\"date\", \"stock_code\", \"stock_name\", \"sw_l1_industry_name\"]]\n",
    "            for field in numeric_fields:\n",
    "                df[field] = pd.to_numeric(df[field], errors='coerce')\n",
    "            \n",
    "            # 过滤无效数据（确保可交易）\n",
    "            initial_count = len(df)\n",
    "            df = df[\n",
    "                (df['auc_volume'] > 0) &  # 有竞价数据\n",
    "                (df['volume'] > 0) &       # 有当日成交\n",
    "                (df['open'] > 0) &        # 有效开盘价（T+1日可买入）\n",
    "                (df['close'] > 0) &       # 有效收盘价\n",
    "                (df['b1_v'] > 0) &         # 有买一挂单\n",
    "                (df['a1_v'] > 0)          # 有卖一挂单\n",
    "            ].dropna(subset=numeric_fields + [\"date\"])\n",
    "            \n",
    "            # 按股票+日期排序\n",
    "            df = df.sort_values(['stock_code', 'date']).reset_index(drop=True)\n",
    "            self.processed_data = df\n",
    "            \n",
    "            # 生成交易日映射\n",
    "            self.trading_dates = sorted(df['date'].unique())\n",
    "            self.trading_dates_map = {date: idx for idx, date in enumerate(self.trading_dates)}\n",
    "            \n",
    "            print(f\"数据预处理完成: 保留 {len(self.processed_data)} 条记录，{len(self.trading_dates)} 个交易日\")\n",
    "            return True\n",
    "        except Exception as e:\n",
    "            print(f\"数据加载失败: {str(e)}\")\n",
    "            return False\n",
    "\n",
    "    def calculate_daily_percentiles(self, date_data: pd.DataFrame) -> pd.DataFrame:\n",
    "        \"\"\"计算每日个股百分位（核心优化：修正买卖盘比、明确高开幅度价值）\"\"\"\n",
    "        df = date_data.copy()\n",
    "        \n",
    "        # 1. 计算核心衍生指标（修正+新增）\n",
    "        # （1）高开幅度：用于T+1日买入安全性判断（0.3%-5%最优）\n",
    "        df['open_pct'] = (df['open'] - df['pre_close']) / df['pre_close'] * 100\n",
    "        # （2）盘口量比：买一至买五总量 ÷ 卖一至卖五总量（反映整体多空预期）\n",
    "        df['order_book_volume_ratio'] = df['buy_total'] / df['sell_total'].clip(lower=1)\n",
    "        # （3）买卖盘比：买一挂单量 ÷ 卖一挂单量（反映瞬时多空，修正后公式）\n",
    "        df['buy_sell_ratio'] = df['b1_v'] / df['a1_v'].clip(lower=1)\n",
    "        \n",
    "        # 2. 百分位评分维度（7个指标，权重100分，贴合超短需求）\n",
    "        percentile_fields = [\n",
    "            # 资金关注度（40分）：竞价+成交量，反映资金是否关注\n",
    "            (\"auc_volume_ratio_vs_5d_avg\", 1, 20),  # 竞价量5日比：越高越好\n",
    "            (\"volume_ratio_vs_5d_avg\", 1, 20),     # 成交量5日比：越高越好\n",
    "            # 多空力量（30分）：总量+瞬时，双重验证买盘强度\n",
    "            (\"order_book_volume_ratio\", 1, 15),    # 盘口量比：总量买盘占优\n",
    "            (\"buy_sell_ratio\", 1, 15),             # 买卖盘比：瞬时买盘占优\n",
    "            # 风险控制（30分）：高开+波动，避免踩坑\n",
    "            (\"open_pct\", 1, 10),                   # 高开幅度：0.3%-5%最优\n",
    "            (\"volatility\", -1, 10),                # 20日波动率：越低越稳\n",
    "            (\"amplitude\", -1, 10)                  # 当日振幅：越低越安全\n",
    "        ]\n",
    "        \n",
    "        # 3. 计算百分位及加权分\n",
    "        total_score = 0\n",
    "        for field, direction, weight in percentile_fields:\n",
    "            # 特殊处理：高开幅度（0.3%-5%最优，超出部分扣分）\n",
    "            if field == \"open_pct\":\n",
    "                # 先将高开幅度clip到0.3-5%，再算百分位\n",
    "                clipped_field = df[field].clip(0.3, 5)\n",
    "                df[f'{field}_pctile'] = clipped_field.rank(pct=True) * 100\n",
    "            else:\n",
    "                # 普通字段：正向（越高分高）/反向（越低分高）\n",
    "                rank_pct = df[field].rank(pct=True)\n",
    "                df[f'{field}_pctile'] = rank_pct * 100 if direction == 1 else (1 - rank_pct) * 100\n",
    "            \n",
    "            # 加权分计算\n",
    "            df[f'{field}_score'] = df[f'{field}_pctile'] * (weight / 100)\n",
    "            total_score += df[f'{field}_score']\n",
    "        \n",
    "        # 4. 综合评分（保留1位小数）\n",
    "        df['composite_score'] = total_score.round(1)\n",
    "        \n",
    "        return df\n",
    "\n",
    "    def select_stocks_by_percentile(self, date: datetime, \n",
    "                                   top_quality_pct: float = 0.2,  # 前20%优质股\n",
    "                                   top_industry_n: int = 3,      # 选前3个强势行业\n",
    "                                   top_stock_per_industry: int = 2,  # 每行业选前2只\n",
    "                                   max_total: int = 6) -> Optional[pd.DataFrame]:\n",
    "        \"\"\"优化版选股逻辑：先选强势行业，再选行业内个股（贴合A股轮动）\"\"\"\n",
    "        # 1. 获取当日有效个股数据\n",
    "        date_data = self.processed_data[self.processed_data['date'] == date].copy()\n",
    "        if len(date_data) < 20:  # 个股数量不足，避免样本偏差\n",
    "            print(f\"{date.strftime('%Y-%m-%d')} 当日个股不足20只，跳过选股\")\n",
    "            return None\n",
    "        \n",
    "        # 2. 计算个股百分位及综合评分\n",
    "        date_data = self.calculate_daily_percentiles(date_data)\n",
    "        \n",
    "        # 3. 步骤1：筛选前20%优质股（综合评分前20%）\n",
    "        quality_threshold = date_data['composite_score'].quantile(1 - top_quality_pct)  # 80分位数\n",
    "        high_quality_stocks = date_data[date_data['composite_score'] >= quality_threshold].copy()\n",
    "        if len(high_quality_stocks) == 0:\n",
    "            print(f\"{date.strftime('%Y-%m-%d')} 无符合条件的优质股，跳过\")\n",
    "            return None\n",
    "        \n",
    "        # 4. 步骤2：找强势行业（优质股数量最多的前N个行业）\n",
    "        # 统计每个行业的优质股数量\n",
    "        industry_quality_count = high_quality_stocks.groupby('sw_l1_industry_name').agg({\n",
    "            'stock_code': 'count',  # 优质股数量\n",
    "            'composite_score': 'mean'  # 行业平均评分（避免数量少但评分低的行业）\n",
    "        }).reset_index()\n",
    "        industry_quality_count.columns = ['industry_name', 'quality_count', 'avg_score']\n",
    "        \n",
    "        # 筛选：优质股数量≥2，且按数量降序取前N个行业\n",
    "        valid_industries = industry_quality_count[industry_quality_count['quality_count'] >= 2]\n",
    "        if len(valid_industries) < top_industry_n:\n",
    "            # 若有效行业不足，按平均评分补充\n",
    "            top_industries = industry_quality_count.nlargest(top_industry_n, 'avg_score')['industry_name'].tolist()\n",
    "        else:\n",
    "            top_industries = valid_industries.nlargest(top_industry_n, 'quality_count')['industry_name'].tolist()\n",
    "        \n",
    "        print(f\"{date.strftime('%Y-%m-%d')} 强势行业TOP{len(top_industries)}：{top_industries}\")\n",
    "        \n",
    "        # 5. 步骤3：每个强势行业选前1-2只优质股\n",
    "        selected = []\n",
    "        for industry in top_industries:\n",
    "            industry_stocks = high_quality_stocks[high_quality_stocks['sw_l1_industry_name'] == industry]\n",
    "            # 行业内按综合评分降序，取前N只\n",
    "            top_stocks = industry_stocks.nlargest(min(top_stock_per_industry, len(industry_stocks)), 'composite_score')\n",
    "            selected.append(top_stocks)\n",
    "        \n",
    "        # 6. 合并结果，控制总数量（最多6只，避免过度分散）\n",
    "        final_selected = pd.concat(selected, ignore_index=True)\n",
    "        final_selected = final_selected.nlargest(min(max_total, len(final_selected)), 'composite_score')\n",
    "        \n",
    "        # 7. 格式化输出字段（含T+1日买入参考信息）\n",
    "        output_cols = [\n",
    "            'date', 'stock_code', 'stock_name', 'sw_l1_industry_name',\n",
    "            'open', 'open_pct', 'composite_score',\n",
    "            'auc_volume_ratio_vs_5d_avg', 'volume_ratio_vs_5d_avg',\n",
    "            'order_book_volume_ratio', 'buy_sell_ratio',\n",
    "            'volatility', 'amplitude'\n",
    "        ]\n",
    "        result = final_selected[output_cols].copy()\n",
    "        \n",
    "        # 重命名列名（突出T+1日价值）\n",
    "        result.columns = [\n",
    "            '选股日期', '股票代码', '股票名称', '所属强势行业',\n",
    "            'T日开盘价', 'T日高开幅度(%)', '综合评分',\n",
    "            'T日竞价量5日比', 'T日成交量5日比',\n",
    "            'T日盘口量比(总量)', 'T日买卖盘比(瞬时)',\n",
    "            'T日20日波动率', 'T日当日振幅'\n",
    "        ]\n",
    "        \n",
    "        # 数值格式化\n",
    "        float_cols = ['T日高开幅度(%)', 'T日竞价量5日比', 'T日成交量5日比', \n",
    "                     'T日盘口量比(总量)', 'T日买卖盘比(瞬时)', 'T日20日波动率', 'T日当日振幅']\n",
    "        for col in float_cols:\n",
    "            result[col] = result[col].round(3)\n",
    "        \n",
    "        print(f\"{date.strftime('%Y-%m-%d')} 选股完成：共选出 {len(result)} 只个股（强势行业内TOP{top_stock_per_industry}）\")\n",
    "        return result\n",
    "\n",
    "    def run_daily_selection(self, start_date: Optional[str] = None, end_date: Optional[str] = None) -> bool:\n",
    "        \"\"\"执行每日选股（排除最后1个交易日，确保T+1日可买入）\"\"\"\n",
    "        target_dates = self.trading_dates\n",
    "        if start_date:\n",
    "            start = pd.to_datetime(start_date)\n",
    "            target_dates = [d for d in target_dates if d >= start]\n",
    "        if end_date:\n",
    "            end = pd.to_datetime(end_date)\n",
    "            target_dates = [d for d in target_dates if d <= end]\n",
    "        \n",
    "        # 排除最后1个交易日（避免T+1日无买入日期）\n",
    "        if len(target_dates) > 1:\n",
    "            target_dates = target_dates[:-1]\n",
    "        else:\n",
    "            print(\"无足够交易日（需至少2个：T日选股+T+1日买入）\")\n",
    "            return False\n",
    "        \n",
    "        print(f\"开始每日选股：{len(target_dates)} 个交易日（聚焦强势行业）\")\n",
    "        \n",
    "        all_results = []\n",
    "        for date in tqdm(target_dates, desc=\"选股进度\"):\n",
    "            try:\n",
    "                daily_result = self.select_stocks_by_percentile(date)\n",
    "                if daily_result is not None and not daily_result.empty:\n",
    "                    self.daily_selections[date] = daily_result\n",
    "                    all_results.append(daily_result)\n",
    "                    \n",
    "                    # 保存每日结果\n",
    "                    date_str = date.strftime(\"%Y%m%d\")\n",
    "                    daily_result.to_csv(\n",
    "                        os.path.join(self.output_dir, f\"selected_{date_str}.csv\"),\n",
    "                        index=False, encoding=\"utf-8-sig\"\n",
    "                    )\n",
    "            except Exception as e:\n",
    "                print(f\"{date.strftime('%Y-%m-%d')} 选股出错: {str(e)}\")\n",
    "                continue\n",
    "        \n",
    "        if all_results:\n",
    "            # 保存合并结果\n",
    "            all_selected = pd.concat(all_results, ignore_index=True)\n",
    "            all_selected.to_csv(\n",
    "                os.path.join(self.output_dir, \"all_selected_stocks.csv\"),\n",
    "                index=False, encoding=\"utf-8-sig\"\n",
    "            )\n",
    "            print(f\"选股完成：累计选出 {len(all_selected)} 只个股，覆盖 {len(all_results)} 个交易日\")\n",
    "            return True\n",
    "        else:\n",
    "            print(\"未选出任何个股（所有日期均无足够优质股）\")\n",
    "            return False\n",
    "\n",
    "    def evaluate_strategy(self, hold_days: int = 1) -> bool:\n",
    "        \"\"\"评测策略收益（T日选股→T+1日买入→T+2日卖出）\"\"\"\n",
    "        if not self.daily_selections:\n",
    "            print(\"无选股结果，无法评测\")\n",
    "            return False\n",
    "        if hold_days < 1:\n",
    "            print(\"持有天数需≥1（超短策略至少持有1天）\")\n",
    "            return False\n",
    "        \n",
    "        print(f\"开始策略评测：T日选股→T+1日买入→持有{hold_days}天→T+1+{hold_days}日卖出\")\n",
    "        records = []\n",
    "        \n",
    "        for select_date, selections in tqdm(self.daily_selections.items(), desc=\"计算收益\"):\n",
    "            # 1. 确定买卖日期（T+1买入，T+1+hold_days卖出）\n",
    "            if select_date not in self.trading_dates_map:\n",
    "                continue\n",
    "            select_idx = self.trading_dates_map[select_date]\n",
    "            \n",
    "            # 买入日期（T+1）\n",
    "            buy_idx = select_idx + 1\n",
    "            if buy_idx >= len(self.trading_dates):\n",
    "                continue\n",
    "            buy_date = self.trading_dates[buy_idx]\n",
    "            \n",
    "            # 卖出日期（T+1+hold_days）\n",
    "            sell_idx = buy_idx + hold_days\n",
    "            if sell_idx >= len(self.trading_dates):\n",
    "                continue\n",
    "            sell_date = self.trading_dates[sell_idx]\n",
    "            \n",
    "            # 2. 模拟每只个股的交易\n",
    "            for _, stock in selections.iterrows():\n",
    "                stock_code = stock['股票代码']\n",
    "                \n",
    "                # 获取买入价格（T+1日开盘价）\n",
    "                buy_data = self.processed_data[\n",
    "                    (self.processed_data['stock_code'] == stock_code) &\n",
    "                    (self.processed_data['date'] == buy_date)\n",
    "                ]\n",
    "                if buy_data.empty:\n",
    "                    continue\n",
    "                buy_price = buy_data['open'].values[0]\n",
    "                \n",
    "                # 获取卖出价格（T+1+hold_days日收盘价）\n",
    "                sell_data = self.processed_data[\n",
    "                    (self.processed_data['stock_code'] == stock_code) &\n",
    "                    (self.processed_data['date'] == sell_date)\n",
    "                ]\n",
    "                if sell_data.empty:\n",
    "                    continue\n",
    "                sell_price = sell_data['close'].values[0]\n",
    "                \n",
    "                # 计算收益\n",
    "                profit_pct = (sell_price - buy_price) / buy_price * 100\n",
    "                profit_ratio = round(profit_pct, 2)\n",
    "                \n",
    "                # 记录交易（含强势行业标签）\n",
    "                records.append({\n",
    "                    '选股日期': select_date,\n",
    "                    '买入日期': buy_date,\n",
    "                    '卖出日期': sell_date,\n",
    "                    '股票代码': stock_code,\n",
    "                    '股票名称': stock['股票名称'],\n",
    "                    '所属强势行业': stock['所属强势行业'],\n",
    "                    '选股时综合评分': stock['综合评分'],\n",
    "                    'T日高开幅度(%)': stock['T日高开幅度(%)'],\n",
    "                    '买入价格(元)': round(buy_price, 2),\n",
    "                    '卖出价格(元)': round(sell_price, 2),\n",
    "                    '持有天数': hold_days,\n",
    "                    '收益率(%)': profit_ratio\n",
    "                })\n",
    "        \n",
    "        if not records:\n",
    "            print(\"无有效交易记录用于评测\")\n",
    "            return False\n",
    "        \n",
    "        # 整理交易记录与指标\n",
    "        self.trade_records = pd.DataFrame(records)\n",
    "        total_trades = len(self.trade_records)\n",
    "        profitable = (self.trade_records['收益率(%)'] > 0).sum()\n",
    "        win_rate = round(profitable / total_trades * 100, 2) if total_trades > 0 else 0\n",
    "        \n",
    "        # 按强势行业统计表现\n",
    "        industry_perf = self.trade_records.groupby('所属强势行业').agg({\n",
    "            '收益率(%)': ['count', 'mean', lambda x: (x>0).mean()*100],\n",
    "            '选股时综合评分': 'mean'\n",
    "        }).round(2)\n",
    "        industry_perf.columns = ['交易次数', '平均收益率(%)', '胜率(%)', '平均综合评分']\n",
    "        \n",
    "        # 计算累计收益（按买入日期排序，复利计算）\n",
    "        self.trade_records = self.trade_records.sort_values('买入日期').reset_index(drop=True)\n",
    "        self.trade_records['累计收益(%)'] = ((1 + self.trade_records['收益率(%)']/100).cumprod() - 1) * 100\n",
    "        \n",
    "        # 整体表现统计\n",
    "        self.performance = {\n",
    "            '总交易次数': total_trades,\n",
    "            '盈利次数': profitable,\n",
    "            '胜率(%)': win_rate,\n",
    "            '平均收益率(%)': round(self.trade_records['收益率(%)'].mean(), 2),\n",
    "            '累计收益率(%)': round(self.trade_records['累计收益(%)'].iloc[-1], 2),\n",
    "            '最大盈利(%)': round(self.trade_records['收益率(%)'].max(), 2),\n",
    "            '最大亏损(%)': round(self.trade_records['收益率(%)'].min(), 2),\n",
    "            '收益标准差(%)': round(self.trade_records['收益率(%)'].std(), 2),\n",
    "            '回测期间': f\"{self.trade_records['买入日期'].min().strftime('%Y-%m-%d')} 至 {self.trade_records['买入日期'].max().strftime('%Y-%m-%d')}\"\n",
    "        }\n",
    "        \n",
    "        # 保存评测结果\n",
    "        self.trade_records.to_csv(\n",
    "            os.path.join(self.eval_dir, \"trade_records.csv\"),\n",
    "            index=False, encoding=\"utf-8-sig\"\n",
    "        )\n",
    "        \n",
    "        with pd.ExcelWriter(os.path.join(self.eval_dir, \"strategy_performance.xlsx\")) as writer:\n",
    "            pd.DataFrame([self.performance]).to_excel(writer, sheet_name=\"整体统计\", index=False)\n",
    "            industry_perf.to_excel(writer, sheet_name=\"强势行业表现\", index=True)\n",
    "            self.trade_records.sort_values('收益率(%)', ascending=False).head(10).to_excel(writer, sheet_name=\"最佳个股\", index=False)\n",
    "        \n",
    "        # 打印结果\n",
    "        print(\"\\n===== 优化版超短策略评测结果 =====\")\n",
    "        print(f\"交易规则: T日选强势行业个股 → T+1日开盘买入 → 持有{hold_days}天卖出\")\n",
    "        print(f\"回测期间: {self.performance['回测期间']}\")\n",
    "        print(\"\\n----- 核心指标 -----\")\n",
    "        for key in ['总交易次数', '胜率(%)', '平均收益率(%)', '累计收益率(%)', '最大盈利(%)', '最大亏损(%)']:\n",
    "            print(f\"{key}: {self.performance[key]}\")\n",
    "        \n",
    "        print(\"\\n----- 强势行业表现TOP3 -----\")\n",
    "        print(industry_perf.sort_values('平均收益率(%)', ascending=False).head(3).to_string())\n",
    "        \n",
    "        return True\n",
    "\n",
    "    def plot_performance(self) -> None:\n",
    "        \"\"\"可视化策略表现（突出强势行业收益）\"\"\"\n",
    "        if self.trade_records is None or self.performance is None:\n",
    "            print(\"无评测数据，无法绘图\")\n",
    "            return\n",
    "        \n",
    "        plt.figure(figsize=(15, 12))\n",
    "        \n",
    "        # 子图1：累计收益率走势\n",
    "        plt.subplot(3, 1, 1)\n",
    "        plt.plot(\n",
    "            self.trade_records['买入日期'],\n",
    "            self.trade_records['累计收益(%)'],\n",
    "            'g-', linewidth=2.5,\n",
    "            label=f'累计收益率: {self.performance[\"累计收益率(%)\"]}%'\n",
    "        )\n",
    "        plt.axhline(y=0, color='r', linestyle='--', alpha=0.6)\n",
    "        plt.fill_between(\n",
    "            self.trade_records['买入日期'],\n",
    "            self.trade_records['累计收益(%)'],\n",
    "            0,\n",
    "            where=(self.trade_records['累计收益(%)'] >= 0),\n",
    "            color='lightgreen', alpha=0.3\n",
    "        )\n",
    "        plt.title('优化版超短策略累计收益率走势（按买入日期）', fontsize=14)\n",
    "        plt.ylabel('累计收益率(%)', fontsize=12)\n",
    "        plt.grid(alpha=0.3)\n",
    "        plt.legend()\n",
    "        plt.gca().xaxis.set_major_formatter(mdates.DateFormatter('%Y-%m'))\n",
    "        plt.gca().xaxis.set_major_locator(mdates.MonthLocator(interval=2))\n",
    "        plt.gcf().autofmt_xdate()\n",
    "        \n",
    "        # 子图2：强势行业平均收益率对比\n",
    "        plt.subplot(3, 1, 2)\n",
    "        industry_avg = self.trade_records.groupby('所属强势行业')['收益率(%)'].mean().reset_index()\n",
    "        industry_avg = industry_avg.sort_values('收益率(%)', ascending=False).head(5)  # 取前5个行业\n",
    "        \n",
    "        bars = plt.bar(\n",
    "            industry_avg['所属强势行业'],\n",
    "            industry_avg['收益率(%)'],\n",
    "            color=['darkgreen', 'green', 'lightgreen', 'gold', 'orange']\n",
    "        )\n",
    "        plt.axhline(y=0, color='r', linestyle='--', alpha=0.6)\n",
    "        plt.title('强势行业平均收益率TOP5', fontsize=14)\n",
    "        plt.ylabel('平均收益率(%)', fontsize=12)\n",
    "        plt.grid(alpha=0.3, axis='y')\n",
    "        \n",
    "        # 添加数值标签\n",
    "        for bar in bars:\n",
    "            height = bar.get_height()\n",
    "            plt.text(bar.get_x() + bar.get_width()/2., height + (0.05 if height>0 else -0.15),\n",
    "                     f'{height:.2f}%', ha='center', va='bottom' if height>0 else 'top')\n",
    "        \n",
    "        # 子图3：高开幅度与收益率关系（验证T+1日价值）\n",
    "        plt.subplot(3, 1, 3)\n",
    "        # 按高开幅度分组\n",
    "        self.trade_records['高开幅度区间'] = pd.cut(\n",
    "            self.trade_records['T日高开幅度(%)'],\n",
    "            bins=[0, 0.3, 1, 3, 5, 10],\n",
    "            labels=['0-0.3%', '0.3-1%', '1-3%', '3-5%', '5-10%']\n",
    "        )\n",
    "        open_pct_perf = self.trade_records.groupby('高开幅度区间')['收益率(%)'].agg(['mean', 'count']).reset_index()\n",
    "        \n",
    "        bars = plt.bar(\n",
    "            open_pct_perf['高开幅度区间'],\n",
    "            open_pct_perf['mean'],\n",
    "            alpha=0.8,\n",
    "            color='skyblue'\n",
    "        )\n",
    "        plt.axhline(y=0, color='r', linestyle='--', alpha=0.6)\n",
    "        plt.title('T日高开幅度区间与T+1日交易收益率关系', fontsize=14)\n",
    "        plt.xlabel('T日高开幅度区间', fontsize=12)\n",
    "        plt.ylabel('平均收益率(%)', fontsize=12)\n",
    "        plt.grid(alpha=0.3, axis='y')\n",
    "        \n",
    "        # 添加数值标签（含交易次数）\n",
    "        for i, (_, row) in enumerate(open_pct_perf.iterrows()):\n",
    "            plt.text(i, row['mean'] + (0.05 if row['mean']>0 else -0.15),\n",
    "                     f'{row[\"mean\"]:.2f}%\\n(N={int(row[\"count\"])})',\n",
    "                     ha='center', va='bottom' if row['mean']>0 else 'top')\n",
    "        \n",
    "        plt.tight_layout(pad=3.0)\n",
    "        plt.savefig(\n",
    "            os.path.join(self.eval_dir, 'strategy_performance.png'),\n",
    "            dpi=300,\n",
    "            bbox_inches='tight'\n",
    "        )\n",
    "        plt.close()\n",
    "        \n",
    "        print(f\"\\n策略表现图表已保存至: {self.eval_dir}/strategy_performance.png\")\n",
    "\n",
    "# 主函数入口（实盘逻辑）\n",
    "if __name__ == \"__main__\":\n",
    "    # 配置参数（替换为你的实际路径）\n",
    "    DATA_PATH = r\"D:\\workspace\\xiaoyao\\data\\factortable.parquet\"  # 数据文件路径\n",
    "    START_DATE = \"2025-01-01\"  # 选股开始日期\n",
    "    END_DATE = \"2025-09-20\"    # 选股结束日期（提前2天，确保卖出）\n",
    "    HOLD_DAYS = 1              # 超短持有天数（1天）\n",
    "    \n",
    "    # 启动策略\n",
    "    print(\"=== 启动优化版超短选股策略（贴合A股轮动） ===\")\n",
    "    strategy = OptimizedIntradayStrategy(DATA_PATH)\n",
    "    \n",
    "    # 执行流程：加载数据→每日选股→收益评测→可视化\n",
    "    if strategy.load_data():\n",
    "        if strategy.run_daily_selection(start_date=START_DATE, end_date=END_DATE):\n",
    "            if strategy.evaluate_strategy(hold_days=HOLD_DAYS):\n",
    "                strategy.plot_performance()\n",
    "    \n",
    "    print(f\"\\n所有流程完成!\")\n",
    "    print(f\"选股结果目录: {strategy.output_dir}（每日文件含强势行业标签）\")\n",
    "    print(f\"评测结果目录: {strategy.eval_dir}（含行业收益对比）\")"
   ]
  },
  {
   "cell_type": "code",
   "execution_count": null,
   "id": "1cad0047",
   "metadata": {},
   "outputs": [
    {
     "name": "stdout",
     "output_type": "stream",
     "text": [
      "         date    return\n",
      "0  2025-01-03  0.260000\n",
      "1  2025-01-06  2.933333\n",
      "2  2025-01-07 -1.100000\n",
      "3  2025-01-08 -1.916667\n",
      "4  2025-01-09 -2.562500\n"
     ]
    }
   ],
   "source": [
    "import pandas as pd\n",
    "\n",
    "# 读取交易记录文件\n",
    "df = pd.read_csv(r'D:\\workspace\\xiaoyao\\works\\trytry\\optimized_strategy_evaluation/trade_records.csv')\n",
    "\n",
    "# 按选股日期分组，计算每日平均收益率\n",
    "sydf = df.groupby('选股日期')['收益率(%)'].mean().reset_index()\n",
    "\n",
    "# 重命名列名\n",
    "sydf = sydf.rename(columns={'选股日期': 'date', '收益率(%)': 'return'})\n",
    "\n",
    "# 查看结果\n",
    "print(sydf.head())"
   ]
  },
  {
   "cell_type": "code",
   "execution_count": 23,
   "id": "5b770dfc",
   "metadata": {},
   "outputs": [
    {
     "data": {
      "text/html": [
       "<div>\n",
       "<style scoped>\n",
       "    .dataframe tbody tr th:only-of-type {\n",
       "        vertical-align: middle;\n",
       "    }\n",
       "\n",
       "    .dataframe tbody tr th {\n",
       "        vertical-align: top;\n",
       "    }\n",
       "\n",
       "    .dataframe thead th {\n",
       "        text-align: right;\n",
       "    }\n",
       "</style>\n",
       "<table border=\"1\" class=\"dataframe\">\n",
       "  <thead>\n",
       "    <tr style=\"text-align: right;\">\n",
       "      <th></th>\n",
       "      <th>date</th>\n",
       "      <th>return</th>\n",
       "    </tr>\n",
       "  </thead>\n",
       "  <tbody>\n",
       "    <tr>\n",
       "      <th>0</th>\n",
       "      <td>2025-01-03</td>\n",
       "      <td>1.001300</td>\n",
       "    </tr>\n",
       "    <tr>\n",
       "      <th>1</th>\n",
       "      <td>2025-01-06</td>\n",
       "      <td>1.014667</td>\n",
       "    </tr>\n",
       "    <tr>\n",
       "      <th>2</th>\n",
       "      <td>2025-01-07</td>\n",
       "      <td>0.994500</td>\n",
       "    </tr>\n",
       "    <tr>\n",
       "      <th>3</th>\n",
       "      <td>2025-01-08</td>\n",
       "      <td>0.990417</td>\n",
       "    </tr>\n",
       "    <tr>\n",
       "      <th>4</th>\n",
       "      <td>2025-01-09</td>\n",
       "      <td>0.987187</td>\n",
       "    </tr>\n",
       "    <tr>\n",
       "      <th>...</th>\n",
       "      <td>...</td>\n",
       "      <td>...</td>\n",
       "    </tr>\n",
       "    <tr>\n",
       "      <th>169</th>\n",
       "      <td>2025-09-12</td>\n",
       "      <td>0.998962</td>\n",
       "    </tr>\n",
       "    <tr>\n",
       "      <th>170</th>\n",
       "      <td>2025-09-15</td>\n",
       "      <td>0.997333</td>\n",
       "    </tr>\n",
       "    <tr>\n",
       "      <th>171</th>\n",
       "      <td>2025-09-16</td>\n",
       "      <td>0.994175</td>\n",
       "    </tr>\n",
       "    <tr>\n",
       "      <th>172</th>\n",
       "      <td>2025-09-17</td>\n",
       "      <td>0.994825</td>\n",
       "    </tr>\n",
       "    <tr>\n",
       "      <th>173</th>\n",
       "      <td>2025-09-18</td>\n",
       "      <td>0.995363</td>\n",
       "    </tr>\n",
       "  </tbody>\n",
       "</table>\n",
       "<p>174 rows × 2 columns</p>\n",
       "</div>"
      ],
      "text/plain": [
       "           date    return\n",
       "0    2025-01-03  1.001300\n",
       "1    2025-01-06  1.014667\n",
       "2    2025-01-07  0.994500\n",
       "3    2025-01-08  0.990417\n",
       "4    2025-01-09  0.987187\n",
       "..          ...       ...\n",
       "169  2025-09-12  0.998962\n",
       "170  2025-09-15  0.997333\n",
       "171  2025-09-16  0.994175\n",
       "172  2025-09-17  0.994825\n",
       "173  2025-09-18  0.995363\n",
       "\n",
       "[174 rows x 2 columns]"
      ]
     },
     "execution_count": 23,
     "metadata": {},
     "output_type": "execute_result"
    }
   ],
   "source": [
    "# 用1+0.5*return后 得到收益增长\n",
    "sydf['return'] = 1 + 0.5 * sydf['return']/100\n",
    "sydf"
   ]
  },
  {
   "cell_type": "code",
   "execution_count": 24,
   "id": "525a91b0",
   "metadata": {},
   "outputs": [
    {
     "data": {
      "text/html": [
       "<div>\n",
       "<style scoped>\n",
       "    .dataframe tbody tr th:only-of-type {\n",
       "        vertical-align: middle;\n",
       "    }\n",
       "\n",
       "    .dataframe tbody tr th {\n",
       "        vertical-align: top;\n",
       "    }\n",
       "\n",
       "    .dataframe thead th {\n",
       "        text-align: right;\n",
       "    }\n",
       "</style>\n",
       "<table border=\"1\" class=\"dataframe\">\n",
       "  <thead>\n",
       "    <tr style=\"text-align: right;\">\n",
       "      <th></th>\n",
       "      <th>date</th>\n",
       "      <th>return</th>\n",
       "    </tr>\n",
       "  </thead>\n",
       "  <tbody>\n",
       "    <tr>\n",
       "      <th>0</th>\n",
       "      <td>2025-01-03</td>\n",
       "      <td>1.001300</td>\n",
       "    </tr>\n",
       "    <tr>\n",
       "      <th>1</th>\n",
       "      <td>2025-01-06</td>\n",
       "      <td>1.015986</td>\n",
       "    </tr>\n",
       "    <tr>\n",
       "      <th>2</th>\n",
       "      <td>2025-01-07</td>\n",
       "      <td>1.010398</td>\n",
       "    </tr>\n",
       "    <tr>\n",
       "      <th>3</th>\n",
       "      <td>2025-01-08</td>\n",
       "      <td>1.000715</td>\n",
       "    </tr>\n",
       "    <tr>\n",
       "      <th>4</th>\n",
       "      <td>2025-01-09</td>\n",
       "      <td>0.987893</td>\n",
       "    </tr>\n",
       "    <tr>\n",
       "      <th>...</th>\n",
       "      <td>...</td>\n",
       "      <td>...</td>\n",
       "    </tr>\n",
       "    <tr>\n",
       "      <th>169</th>\n",
       "      <td>2025-09-12</td>\n",
       "      <td>1.309799</td>\n",
       "    </tr>\n",
       "    <tr>\n",
       "      <th>170</th>\n",
       "      <td>2025-09-15</td>\n",
       "      <td>1.306306</td>\n",
       "    </tr>\n",
       "    <tr>\n",
       "      <th>171</th>\n",
       "      <td>2025-09-16</td>\n",
       "      <td>1.298697</td>\n",
       "    </tr>\n",
       "    <tr>\n",
       "      <th>172</th>\n",
       "      <td>2025-09-17</td>\n",
       "      <td>1.291976</td>\n",
       "    </tr>\n",
       "    <tr>\n",
       "      <th>173</th>\n",
       "      <td>2025-09-18</td>\n",
       "      <td>1.285984</td>\n",
       "    </tr>\n",
       "  </tbody>\n",
       "</table>\n",
       "<p>174 rows × 2 columns</p>\n",
       "</div>"
      ],
      "text/plain": [
       "           date    return\n",
       "0    2025-01-03  1.001300\n",
       "1    2025-01-06  1.015986\n",
       "2    2025-01-07  1.010398\n",
       "3    2025-01-08  1.000715\n",
       "4    2025-01-09  0.987893\n",
       "..          ...       ...\n",
       "169  2025-09-12  1.309799\n",
       "170  2025-09-15  1.306306\n",
       "171  2025-09-16  1.298697\n",
       "172  2025-09-17  1.291976\n",
       "173  2025-09-18  1.285984\n",
       "\n",
       "[174 rows x 2 columns]"
      ]
     },
     "execution_count": 24,
     "metadata": {},
     "output_type": "execute_result"
    }
   ],
   "source": [
    "# 将return依次连乘，得到累计收益率\n",
    "sydf['return'] = sydf['return'].cumprod()\n",
    "sydf"
   ]
  },
  {
   "cell_type": "code",
   "execution_count": null,
   "id": "1403db22",
   "metadata": {},
   "outputs": [],
   "source": []
  }
 ],
 "metadata": {
  "kernelspec": {
   "display_name": "xiaoyao",
   "language": "python",
   "name": "python3"
  },
  "language_info": {
   "codemirror_mode": {
    "name": "ipython",
    "version": 3
   },
   "file_extension": ".py",
   "mimetype": "text/x-python",
   "name": "python",
   "nbconvert_exporter": "python",
   "pygments_lexer": "ipython3",
   "version": "3.10.6"
  }
 },
 "nbformat": 4,
 "nbformat_minor": 5
}
