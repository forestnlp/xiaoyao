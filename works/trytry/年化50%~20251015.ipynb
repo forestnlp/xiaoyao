{
 "cells": [
  {
   "cell_type": "code",
   "execution_count": 8,
   "id": "262a781f",
   "metadata": {},
   "outputs": [
    {
     "name": "stdout",
     "output_type": "stream",
     "text": [
      "=== 启动股票选股策略 ===\n",
      "加载选股数据...\n",
      "数据预处理完成: 保留 924052 条记录，5183 只股票，182 个交易日\n",
      "开始双阶段选股：174 个交易日\n"
     ]
    },
    {
     "name": "stderr",
     "output_type": "stream",
     "text": [
      "选股进度:   1%|          | 1/174 [00:00<00:22,  7.85it/s]"
     ]
    },
    {
     "name": "stdout",
     "output_type": "stream",
     "text": [
      "2025-01-03 双阶段选股完成：6只（经T+1日确认）\n"
     ]
    },
    {
     "name": "stderr",
     "output_type": "stream",
     "text": [
      "选股进度:   2%|▏         | 3/174 [00:00<00:18,  9.14it/s]"
     ]
    },
    {
     "name": "stdout",
     "output_type": "stream",
     "text": [
      "2025-01-06 双阶段选股完成：6只（经T+1日确认）\n",
      "2025-01-07 双阶段选股完成：6只（经T+1日确认）\n"
     ]
    },
    {
     "name": "stderr",
     "output_type": "stream",
     "text": [
      "选股进度:   3%|▎         | 5/174 [00:00<00:17,  9.69it/s]"
     ]
    },
    {
     "name": "stdout",
     "output_type": "stream",
     "text": [
      "2025-01-08 双阶段选股完成：6只（经T+1日确认）\n",
      "2025-01-09 双阶段选股完成：6只（经T+1日确认）\n",
      "2025-01-10 双阶段选股完成：6只（经T+1日确认）\n"
     ]
    },
    {
     "name": "stderr",
     "output_type": "stream",
     "text": [
      "选股进度:   4%|▍         | 7/174 [00:00<00:15, 10.54it/s]"
     ]
    },
    {
     "name": "stdout",
     "output_type": "stream",
     "text": [
      "2025-01-13 双阶段选股完成：6只（经T+1日确认）\n",
      "2025-01-14 双阶段选股完成：6只（经T+1日确认）\n",
      "2025-01-15 双阶段选股完成：6只（经T+1日确认）\n"
     ]
    },
    {
     "name": "stderr",
     "output_type": "stream",
     "text": [
      "选股进度:   6%|▋         | 11/174 [00:01<00:17,  9.18it/s]"
     ]
    },
    {
     "name": "stdout",
     "output_type": "stream",
     "text": [
      "2025-01-16 双阶段选股完成：6只（经T+1日确认）\n",
      "2025-01-17 双阶段选股完成：6只（经T+1日确认）\n"
     ]
    },
    {
     "name": "stderr",
     "output_type": "stream",
     "text": [
      "选股进度:   7%|▋         | 12/174 [00:01<00:20,  7.83it/s]"
     ]
    },
    {
     "name": "stdout",
     "output_type": "stream",
     "text": [
      "2025-01-20 双阶段选股完成：6只（经T+1日确认）\n",
      "2025-01-21 双阶段选股完成：6只（经T+1日确认）\n"
     ]
    },
    {
     "name": "stderr",
     "output_type": "stream",
     "text": [
      "选股进度:   9%|▉         | 16/174 [00:01<00:17,  8.80it/s]"
     ]
    },
    {
     "name": "stdout",
     "output_type": "stream",
     "text": [
      "2025-01-22 双阶段选股完成：6只（经T+1日确认）\n",
      "2025-01-23 双阶段选股完成：6只（经T+1日确认）\n",
      "2025-01-24 双阶段选股完成：6只（经T+1日确认）\n"
     ]
    },
    {
     "name": "stderr",
     "output_type": "stream",
     "text": [
      "选股进度:  10%|█         | 18/174 [00:02<00:16,  9.47it/s]"
     ]
    },
    {
     "name": "stdout",
     "output_type": "stream",
     "text": [
      "2025-01-27 双阶段选股完成：6只（经T+1日确认）\n",
      "2025-02-05 双阶段选股完成：6只（经T+1日确认）\n",
      "2025-02-06 双阶段选股完成：6只（经T+1日确认）\n"
     ]
    },
    {
     "name": "stderr",
     "output_type": "stream",
     "text": [
      "选股进度:  13%|█▎        | 22/174 [00:02<00:13, 11.18it/s]"
     ]
    },
    {
     "name": "stdout",
     "output_type": "stream",
     "text": [
      "2025-02-07 双阶段选股完成：6只（经T+1日确认）\n",
      "2025-02-10 双阶段选股完成：6只（经T+1日确认）\n",
      "2025-02-11 双阶段选股完成：6只（经T+1日确认）\n",
      "2025-02-12 双阶段选股完成：6只（经T+1日确认）\n"
     ]
    },
    {
     "name": "stderr",
     "output_type": "stream",
     "text": [
      "选股进度:  14%|█▍        | 24/174 [00:02<00:12, 11.80it/s]"
     ]
    },
    {
     "name": "stdout",
     "output_type": "stream",
     "text": [
      "2025-02-13 双阶段选股完成：6只（经T+1日确认）\n",
      "2025-02-14 双阶段选股完成：6只（经T+1日确认）\n",
      "2025-02-17 双阶段选股完成：6只（经T+1日确认）\n"
     ]
    },
    {
     "name": "stderr",
     "output_type": "stream",
     "text": [
      "选股进度:  16%|█▌        | 28/174 [00:02<00:12, 11.27it/s]"
     ]
    },
    {
     "name": "stdout",
     "output_type": "stream",
     "text": [
      "2025-02-18 双阶段选股完成：6只（经T+1日确认）\n",
      "2025-02-19 双阶段选股完成：6只（经T+1日确认）\n",
      "2025-02-20 双阶段选股完成：6只（经T+1日确认）\n",
      "2025-02-21 双阶段选股完成：6只（经T+1日确认）\n"
     ]
    },
    {
     "name": "stderr",
     "output_type": "stream",
     "text": [
      "选股进度:  18%|█▊        | 32/174 [00:03<00:13, 10.36it/s]"
     ]
    },
    {
     "name": "stdout",
     "output_type": "stream",
     "text": [
      "2025-02-24 双阶段选股完成：6只（经T+1日确认）\n",
      "2025-02-25 双阶段选股完成：6只（经T+1日确认）\n",
      "2025-02-26 双阶段选股完成：6只（经T+1日确认）\n"
     ]
    },
    {
     "name": "stderr",
     "output_type": "stream",
     "text": [
      "选股进度:  21%|██        | 36/174 [00:03<00:12, 11.45it/s]"
     ]
    },
    {
     "name": "stdout",
     "output_type": "stream",
     "text": [
      "2025-02-27 双阶段选股完成：6只（经T+1日确认）\n",
      "2025-02-28 双阶段选股完成：6只（经T+1日确认）\n",
      "2025-03-03 双阶段选股完成：6只（经T+1日确认）\n"
     ]
    },
    {
     "name": "stderr",
     "output_type": "stream",
     "text": [
      "选股进度:  22%|██▏       | 38/174 [00:03<00:12, 11.17it/s]"
     ]
    },
    {
     "name": "stdout",
     "output_type": "stream",
     "text": [
      "2025-03-04 双阶段选股完成：6只（经T+1日确认）\n",
      "2025-03-05 双阶段选股完成：6只（经T+1日确认）\n"
     ]
    },
    {
     "name": "stderr",
     "output_type": "stream",
     "text": [
      "选股进度:  23%|██▎       | 40/174 [00:03<00:12, 10.55it/s]"
     ]
    },
    {
     "name": "stdout",
     "output_type": "stream",
     "text": [
      "2025-03-06 双阶段选股完成：6只（经T+1日确认）\n",
      "2025-03-07 双阶段选股完成：6只（经T+1日确认）\n",
      "2025-03-10 双阶段选股完成：6只（经T+1日确认）\n",
      "2025-03-11 双阶段选股完成：6只（经T+1日确认）\n"
     ]
    },
    {
     "name": "stderr",
     "output_type": "stream",
     "text": [
      "选股进度:  26%|██▌       | 45/174 [00:04<00:13,  9.30it/s]"
     ]
    },
    {
     "name": "stdout",
     "output_type": "stream",
     "text": [
      "2025-03-12 双阶段选股完成：6只（经T+1日确认）\n",
      "2025-03-13 双阶段选股完成：6只（经T+1日确认）\n",
      "2025-03-14 双阶段选股完成：6只（经T+1日确认）\n"
     ]
    },
    {
     "name": "stderr",
     "output_type": "stream",
     "text": [
      "选股进度:  27%|██▋       | 47/174 [00:04<00:13,  9.59it/s]"
     ]
    },
    {
     "name": "stdout",
     "output_type": "stream",
     "text": [
      "2025-03-17 双阶段选股完成：6只（经T+1日确认）\n",
      "2025-03-18 双阶段选股完成：6只（经T+1日确认）\n",
      "2025-03-19 双阶段选股完成：6只（经T+1日确认）\n"
     ]
    },
    {
     "name": "stderr",
     "output_type": "stream",
     "text": [
      "选股进度:  29%|██▊       | 50/174 [00:05<00:13,  9.26it/s]"
     ]
    },
    {
     "name": "stdout",
     "output_type": "stream",
     "text": [
      "2025-03-20 双阶段选股完成：6只（经T+1日确认）\n",
      "2025-03-21 双阶段选股完成：6只（经T+1日确认）\n"
     ]
    },
    {
     "name": "stderr",
     "output_type": "stream",
     "text": [
      "选股进度:  30%|██▉       | 52/174 [00:05<00:12,  9.72it/s]"
     ]
    },
    {
     "name": "stdout",
     "output_type": "stream",
     "text": [
      "2025-03-24 双阶段选股完成：6只（经T+1日确认）\n",
      "2025-03-25 双阶段选股完成：6只（经T+1日确认）\n",
      "2025-03-26 双阶段选股完成：6只（经T+1日确认）\n"
     ]
    },
    {
     "name": "stderr",
     "output_type": "stream",
     "text": [
      "选股进度:  32%|███▏      | 55/174 [00:05<00:12,  9.63it/s]"
     ]
    },
    {
     "name": "stdout",
     "output_type": "stream",
     "text": [
      "2025-03-27 双阶段选股完成：6只（经T+1日确认）\n",
      "2025-03-28 双阶段选股完成：6只（经T+1日确认）\n"
     ]
    },
    {
     "name": "stderr",
     "output_type": "stream",
     "text": [
      "选股进度:  33%|███▎      | 57/174 [00:05<00:11, 10.05it/s]"
     ]
    },
    {
     "name": "stdout",
     "output_type": "stream",
     "text": [
      "2025-03-31 双阶段选股完成：6只（经T+1日确认）\n",
      "2025-04-01 双阶段选股完成：6只（经T+1日确认）\n"
     ]
    },
    {
     "name": "stderr",
     "output_type": "stream",
     "text": [
      "选股进度:  34%|███▍      | 59/174 [00:06<00:12,  8.92it/s]"
     ]
    },
    {
     "name": "stdout",
     "output_type": "stream",
     "text": [
      "2025-04-02 双阶段选股完成：6只（经T+1日确认）\n",
      "2025-04-03 双阶段选股完成：6只（经T+1日确认）\n"
     ]
    },
    {
     "name": "stderr",
     "output_type": "stream",
     "text": [
      "选股进度:  35%|███▌      | 61/174 [00:06<00:13,  8.37it/s]"
     ]
    },
    {
     "name": "stdout",
     "output_type": "stream",
     "text": [
      "2025-04-07 双阶段选股完成：6只（经T+1日确认）\n",
      "2025-04-08 双阶段选股完成：6只（经T+1日确认）\n"
     ]
    },
    {
     "name": "stderr",
     "output_type": "stream",
     "text": [
      "选股进度:  36%|███▌      | 63/174 [00:06<00:11,  9.68it/s]"
     ]
    },
    {
     "name": "stdout",
     "output_type": "stream",
     "text": [
      "2025-04-09 双阶段选股完成：6只（经T+1日确认）\n",
      "2025-04-10 双阶段选股完成：6只（经T+1日确认）\n",
      "2025-04-11 双阶段选股完成：6只（经T+1日确认）\n"
     ]
    },
    {
     "name": "stderr",
     "output_type": "stream",
     "text": [
      "选股进度:  37%|███▋      | 65/174 [00:06<00:10, 10.24it/s]"
     ]
    },
    {
     "name": "stdout",
     "output_type": "stream",
     "text": [
      "2025-04-14 双阶段选股完成：6只（经T+1日确认）\n",
      "2025-04-15 双阶段选股完成：6只（经T+1日确认）\n",
      "2025-04-16 双阶段选股完成：6只（经T+1日确认）\n"
     ]
    },
    {
     "name": "stderr",
     "output_type": "stream",
     "text": [
      "选股进度:  40%|███▉      | 69/174 [00:07<00:12,  8.46it/s]"
     ]
    },
    {
     "name": "stdout",
     "output_type": "stream",
     "text": [
      "2025-04-17 双阶段选股完成：6只（经T+1日确认）\n",
      "2025-04-18 双阶段选股完成：6只（经T+1日确认）\n",
      "2025-04-21 双阶段选股完成：6只（经T+1日确认）\n"
     ]
    },
    {
     "name": "stderr",
     "output_type": "stream",
     "text": [
      "选股进度:  42%|████▏     | 73/174 [00:07<00:10,  9.88it/s]"
     ]
    },
    {
     "name": "stdout",
     "output_type": "stream",
     "text": [
      "2025-04-22 双阶段选股完成：6只（经T+1日确认）\n",
      "2025-04-23 双阶段选股完成：6只（经T+1日确认）\n",
      "2025-04-24 双阶段选股完成：6只（经T+1日确认）\n"
     ]
    },
    {
     "name": "stderr",
     "output_type": "stream",
     "text": [
      "选股进度:  43%|████▎     | 75/174 [00:07<00:10,  9.72it/s]"
     ]
    },
    {
     "name": "stdout",
     "output_type": "stream",
     "text": [
      "2025-04-25 双阶段选股完成：6只（经T+1日确认）\n",
      "2025-04-28 双阶段选股完成：6只（经T+1日确认）\n"
     ]
    },
    {
     "name": "stderr",
     "output_type": "stream",
     "text": [
      "选股进度:  44%|████▍     | 77/174 [00:08<00:10,  9.32it/s]"
     ]
    },
    {
     "name": "stdout",
     "output_type": "stream",
     "text": [
      "2025-04-29 双阶段选股完成：6只（经T+1日确认）\n",
      "2025-04-30 双阶段选股完成：6只（经T+1日确认）\n",
      "2025-05-06 双阶段选股完成：6只（经T+1日确认）\n"
     ]
    },
    {
     "name": "stderr",
     "output_type": "stream",
     "text": [
      "选股进度:  45%|████▌     | 79/174 [00:08<00:09,  9.97it/s]"
     ]
    },
    {
     "name": "stdout",
     "output_type": "stream",
     "text": [
      "2025-05-07 双阶段选股完成：6只（经T+1日确认）\n",
      "2025-05-08 双阶段选股完成：6只（经T+1日确认）\n"
     ]
    },
    {
     "name": "stderr",
     "output_type": "stream",
     "text": [
      "选股进度:  47%|████▋     | 81/174 [00:08<00:09,  9.88it/s]"
     ]
    },
    {
     "name": "stdout",
     "output_type": "stream",
     "text": [
      "2025-05-09 双阶段选股完成：6只（经T+1日确认）\n",
      "2025-05-12 双阶段选股完成：6只（经T+1日确认）\n",
      "2025-05-13 双阶段选股完成：6只（经T+1日确认）\n"
     ]
    },
    {
     "name": "stderr",
     "output_type": "stream",
     "text": [
      "选股进度:  49%|████▉     | 85/174 [00:08<00:08, 10.87it/s]"
     ]
    },
    {
     "name": "stdout",
     "output_type": "stream",
     "text": [
      "2025-05-14 双阶段选股完成：6只（经T+1日确认）\n",
      "2025-05-15 双阶段选股完成：6只（经T+1日确认）\n",
      "2025-05-16 双阶段选股完成：6只（经T+1日确认）\n"
     ]
    },
    {
     "name": "stderr",
     "output_type": "stream",
     "text": [
      "选股进度:  51%|█████     | 89/174 [00:09<00:07, 11.22it/s]"
     ]
    },
    {
     "name": "stdout",
     "output_type": "stream",
     "text": [
      "2025-05-19 双阶段选股完成：6只（经T+1日确认）\n",
      "2025-05-20 双阶段选股完成：6只（经T+1日确认）\n",
      "2025-05-21 双阶段选股完成：6只（经T+1日确认）\n"
     ]
    },
    {
     "name": "stderr",
     "output_type": "stream",
     "text": [
      "选股进度:  52%|█████▏    | 91/174 [00:09<00:07, 11.66it/s]"
     ]
    },
    {
     "name": "stdout",
     "output_type": "stream",
     "text": [
      "2025-05-22 双阶段选股完成：6只（经T+1日确认）\n",
      "2025-05-23 双阶段选股完成：6只（经T+1日确认）\n",
      "2025-05-26 双阶段选股完成：6只（经T+1日确认）\n"
     ]
    },
    {
     "name": "stderr",
     "output_type": "stream",
     "text": [
      "选股进度:  53%|█████▎    | 93/174 [00:09<00:08,  9.79it/s]"
     ]
    },
    {
     "name": "stdout",
     "output_type": "stream",
     "text": [
      "2025-05-27 双阶段选股完成：6只（经T+1日确认）\n"
     ]
    },
    {
     "name": "stderr",
     "output_type": "stream",
     "text": [
      "选股进度:  55%|█████▍    | 95/174 [00:09<00:09,  8.22it/s]"
     ]
    },
    {
     "name": "stdout",
     "output_type": "stream",
     "text": [
      "2025-05-28 双阶段选股完成：6只（经T+1日确认）\n",
      "2025-05-29 双阶段选股完成：6只（经T+1日确认）\n"
     ]
    },
    {
     "name": "stderr",
     "output_type": "stream",
     "text": [
      "选股进度:  56%|█████▌    | 97/174 [00:10<00:08,  8.58it/s]"
     ]
    },
    {
     "name": "stdout",
     "output_type": "stream",
     "text": [
      "2025-05-30 双阶段选股完成：6只（经T+1日确认）\n",
      "2025-06-03 双阶段选股完成：6只（经T+1日确认）\n",
      "2025-06-04 双阶段选股完成：6只（经T+1日确认）\n"
     ]
    },
    {
     "name": "stderr",
     "output_type": "stream",
     "text": [
      "选股进度:  58%|█████▊    | 101/174 [00:10<00:06, 10.60it/s]"
     ]
    },
    {
     "name": "stdout",
     "output_type": "stream",
     "text": [
      "2025-06-05 双阶段选股完成：6只（经T+1日确认）\n",
      "2025-06-06 双阶段选股完成：6只（经T+1日确认）\n",
      "2025-06-09 双阶段选股完成：6只（经T+1日确认）\n"
     ]
    },
    {
     "name": "stderr",
     "output_type": "stream",
     "text": [
      "选股进度:  59%|█████▉    | 103/174 [00:10<00:06, 11.35it/s]"
     ]
    },
    {
     "name": "stdout",
     "output_type": "stream",
     "text": [
      "2025-06-10 双阶段选股完成：6只（经T+1日确认）\n",
      "2025-06-11 双阶段选股完成：6只（经T+1日确认）\n",
      "2025-06-12 双阶段选股完成：6只（经T+1日确认）\n"
     ]
    },
    {
     "name": "stderr",
     "output_type": "stream",
     "text": [
      "选股进度:  60%|██████    | 105/174 [00:10<00:06, 10.81it/s]"
     ]
    },
    {
     "name": "stdout",
     "output_type": "stream",
     "text": [
      "2025-06-13 双阶段选股完成：6只（经T+1日确认）\n",
      "2025-06-16 双阶段选股完成：6只（经T+1日确认）\n",
      "2025-06-17 双阶段选股完成：6只（经T+1日确认）\n"
     ]
    },
    {
     "name": "stderr",
     "output_type": "stream",
     "text": [
      "选股进度:  63%|██████▎   | 109/174 [00:11<00:06, 10.22it/s]"
     ]
    },
    {
     "name": "stdout",
     "output_type": "stream",
     "text": [
      "2025-06-18 双阶段选股完成：6只（经T+1日确认）\n",
      "2025-06-19 双阶段选股完成：6只（经T+1日确认）\n",
      "2025-06-20 双阶段选股完成：6只（经T+1日确认）\n",
      "2025-06-23 双阶段选股完成：6只（经T+1日确认）\n"
     ]
    },
    {
     "name": "stderr",
     "output_type": "stream",
     "text": [
      "选股进度:  65%|██████▍   | 113/174 [00:11<00:05, 11.62it/s]"
     ]
    },
    {
     "name": "stdout",
     "output_type": "stream",
     "text": [
      "2025-06-24 双阶段选股完成：6只（经T+1日确认）\n",
      "2025-06-25 双阶段选股完成：6只（经T+1日确认）\n",
      "2025-06-26 双阶段选股完成：6只（经T+1日确认）\n",
      "2025-06-27 双阶段选股完成：6只（经T+1日确认）\n"
     ]
    },
    {
     "name": "stderr",
     "output_type": "stream",
     "text": [
      "选股进度:  67%|██████▋   | 117/174 [00:11<00:04, 11.77it/s]"
     ]
    },
    {
     "name": "stdout",
     "output_type": "stream",
     "text": [
      "2025-06-30 双阶段选股完成：6只（经T+1日确认）\n",
      "2025-07-01 双阶段选股完成：6只（经T+1日确认）\n",
      "2025-07-02 双阶段选股完成：6只（经T+1日确认）\n"
     ]
    },
    {
     "name": "stderr",
     "output_type": "stream",
     "text": [
      "选股进度:  70%|██████▉   | 121/174 [00:12<00:04, 11.72it/s]"
     ]
    },
    {
     "name": "stdout",
     "output_type": "stream",
     "text": [
      "2025-07-03 双阶段选股完成：6只（经T+1日确认）\n",
      "2025-07-04 双阶段选股完成：6只（经T+1日确认）\n",
      "2025-07-07 双阶段选股完成：6只（经T+1日确认）\n",
      "2025-07-08 双阶段选股完成：6只（经T+1日确认）\n",
      "2025-07-09 双阶段选股完成：6只（经T+1日确认）\n"
     ]
    },
    {
     "name": "stderr",
     "output_type": "stream",
     "text": [
      "选股进度:  71%|███████   | 123/174 [00:12<00:05,  8.95it/s]"
     ]
    },
    {
     "name": "stdout",
     "output_type": "stream",
     "text": [
      "2025-07-10 双阶段选股完成：6只（经T+1日确认）\n"
     ]
    },
    {
     "name": "stderr",
     "output_type": "stream",
     "text": [
      "选股进度:  72%|███████▏  | 125/174 [00:13<00:07,  6.73it/s]"
     ]
    },
    {
     "name": "stdout",
     "output_type": "stream",
     "text": [
      "2025-07-11 双阶段选股完成：6只（经T+1日确认）\n"
     ]
    },
    {
     "name": "stderr",
     "output_type": "stream",
     "text": [
      "选股进度:  72%|███████▏  | 126/174 [00:13<00:07,  6.16it/s]"
     ]
    },
    {
     "name": "stdout",
     "output_type": "stream",
     "text": [
      "2025-07-14 双阶段选股完成：6只（经T+1日确认）\n"
     ]
    },
    {
     "name": "stderr",
     "output_type": "stream",
     "text": [
      "选股进度:  73%|███████▎  | 127/174 [00:13<00:08,  5.71it/s]"
     ]
    },
    {
     "name": "stdout",
     "output_type": "stream",
     "text": [
      "2025-07-15 双阶段选股完成：6只（经T+1日确认）\n"
     ]
    },
    {
     "name": "stderr",
     "output_type": "stream",
     "text": [
      "选股进度:  74%|███████▍  | 129/174 [00:13<00:08,  5.31it/s]"
     ]
    },
    {
     "name": "stdout",
     "output_type": "stream",
     "text": [
      "2025-07-16 双阶段选股完成：6只（经T+1日确认）\n",
      "2025-07-17 双阶段选股完成：6只（经T+1日确认）\n"
     ]
    },
    {
     "name": "stderr",
     "output_type": "stream",
     "text": [
      "选股进度:  75%|███████▌  | 131/174 [00:14<00:07,  6.14it/s]"
     ]
    },
    {
     "name": "stdout",
     "output_type": "stream",
     "text": [
      "2025-07-18 双阶段选股完成：6只（经T+1日确认）\n",
      "2025-07-21 双阶段选股完成：6只（经T+1日确认）\n"
     ]
    },
    {
     "name": "stderr",
     "output_type": "stream",
     "text": [
      "选股进度:  76%|███████▋  | 133/174 [00:14<00:06,  6.15it/s]"
     ]
    },
    {
     "name": "stdout",
     "output_type": "stream",
     "text": [
      "2025-07-22 双阶段选股完成：6只（经T+1日确认）\n",
      "2025-07-23 双阶段选股完成：6只（经T+1日确认）\n"
     ]
    },
    {
     "name": "stderr",
     "output_type": "stream",
     "text": [
      "选股进度:  78%|███████▊  | 135/174 [00:14<00:05,  7.75it/s]"
     ]
    },
    {
     "name": "stdout",
     "output_type": "stream",
     "text": [
      "2025-07-24 双阶段选股完成：6只（经T+1日确认）\n",
      "2025-07-25 双阶段选股完成：6只（经T+1日确认）\n",
      "2025-07-28 双阶段选股完成：6只（经T+1日确认）\n"
     ]
    },
    {
     "name": "stderr",
     "output_type": "stream",
     "text": [
      "选股进度:  80%|███████▉  | 139/174 [00:15<00:03,  9.99it/s]"
     ]
    },
    {
     "name": "stdout",
     "output_type": "stream",
     "text": [
      "2025-07-29 双阶段选股完成：6只（经T+1日确认）\n",
      "2025-07-30 双阶段选股完成：6只（经T+1日确认）\n",
      "2025-07-31 双阶段选股完成：6只（经T+1日确认）\n"
     ]
    },
    {
     "name": "stderr",
     "output_type": "stream",
     "text": [
      "选股进度:  81%|████████  | 141/174 [00:15<00:03, 10.23it/s]"
     ]
    },
    {
     "name": "stdout",
     "output_type": "stream",
     "text": [
      "2025-08-01 双阶段选股完成：6只（经T+1日确认）\n",
      "2025-08-04 双阶段选股完成：6只（经T+1日确认）\n",
      "2025-08-05 双阶段选股完成：6只（经T+1日确认）\n"
     ]
    },
    {
     "name": "stderr",
     "output_type": "stream",
     "text": [
      "选股进度:  82%|████████▏ | 143/174 [00:15<00:03,  8.22it/s]"
     ]
    },
    {
     "name": "stdout",
     "output_type": "stream",
     "text": [
      "2025-08-06 双阶段选股完成：6只（经T+1日确认）\n"
     ]
    },
    {
     "name": "stderr",
     "output_type": "stream",
     "text": [
      "选股进度:  83%|████████▎ | 145/174 [00:15<00:04,  6.65it/s]"
     ]
    },
    {
     "name": "stdout",
     "output_type": "stream",
     "text": [
      "2025-08-07 双阶段选股完成：6只（经T+1日确认）\n",
      "2025-08-08 双阶段选股完成：6只（经T+1日确认）\n"
     ]
    },
    {
     "name": "stderr",
     "output_type": "stream",
     "text": [
      "选股进度:  84%|████████▍ | 147/174 [00:16<00:04,  6.70it/s]"
     ]
    },
    {
     "name": "stdout",
     "output_type": "stream",
     "text": [
      "2025-08-11 双阶段选股完成：6只（经T+1日确认）\n",
      "2025-08-12 双阶段选股完成：6只（经T+1日确认）\n"
     ]
    },
    {
     "name": "stderr",
     "output_type": "stream",
     "text": [
      "选股进度:  86%|████████▌ | 149/174 [00:16<00:03,  7.44it/s]"
     ]
    },
    {
     "name": "stdout",
     "output_type": "stream",
     "text": [
      "2025-08-13 双阶段选股完成：6只（经T+1日确认）\n",
      "2025-08-14 双阶段选股完成：6只（经T+1日确认）\n"
     ]
    },
    {
     "name": "stderr",
     "output_type": "stream",
     "text": [
      "选股进度:  87%|████████▋ | 151/174 [00:16<00:02,  7.93it/s]"
     ]
    },
    {
     "name": "stdout",
     "output_type": "stream",
     "text": [
      "2025-08-15 双阶段选股完成：6只（经T+1日确认）\n",
      "2025-08-18 双阶段选股完成：6只（经T+1日确认）\n",
      "2025-08-19 双阶段选股完成：6只（经T+1日确认）\n"
     ]
    },
    {
     "name": "stderr",
     "output_type": "stream",
     "text": [
      "选股进度:  89%|████████▊ | 154/174 [00:17<00:02,  9.05it/s]"
     ]
    },
    {
     "name": "stdout",
     "output_type": "stream",
     "text": [
      "2025-08-20 双阶段选股完成：6只（经T+1日确认）\n",
      "2025-08-21 双阶段选股完成：6只（经T+1日确认）\n"
     ]
    },
    {
     "name": "stderr",
     "output_type": "stream",
     "text": [
      "选股进度:  90%|█████████ | 157/174 [00:17<00:01,  9.47it/s]"
     ]
    },
    {
     "name": "stdout",
     "output_type": "stream",
     "text": [
      "2025-08-22 双阶段选股完成：6只（经T+1日确认）\n",
      "2025-08-25 双阶段选股完成：6只（经T+1日确认）\n",
      "2025-08-26 双阶段选股完成：6只（经T+1日确认）\n"
     ]
    },
    {
     "name": "stderr",
     "output_type": "stream",
     "text": [
      "选股进度:  91%|█████████▏| 159/174 [00:17<00:01,  9.13it/s]"
     ]
    },
    {
     "name": "stdout",
     "output_type": "stream",
     "text": [
      "2025-08-27 双阶段选股完成：6只（经T+1日确认）\n",
      "2025-08-28 双阶段选股完成：6只（经T+1日确认）\n",
      "2025-08-29 双阶段选股完成：6只（经T+1日确认）\n"
     ]
    },
    {
     "name": "stderr",
     "output_type": "stream",
     "text": [
      "选股进度:  93%|█████████▎| 162/174 [00:17<00:01,  9.05it/s]"
     ]
    },
    {
     "name": "stdout",
     "output_type": "stream",
     "text": [
      "2025-09-01 双阶段选股完成：6只（经T+1日确认）\n",
      "2025-09-02 双阶段选股完成：6只（经T+1日确认）\n",
      "2025-09-03 双阶段选股完成：6只（经T+1日确认）\n"
     ]
    },
    {
     "name": "stderr",
     "output_type": "stream",
     "text": [
      "选股进度:  94%|█████████▍| 164/174 [00:18<00:01,  7.46it/s]"
     ]
    },
    {
     "name": "stdout",
     "output_type": "stream",
     "text": [
      "2025-09-04 双阶段选股完成：6只（经T+1日确认）\n"
     ]
    },
    {
     "name": "stderr",
     "output_type": "stream",
     "text": [
      "选股进度:  95%|█████████▌| 166/174 [00:18<00:01,  6.39it/s]"
     ]
    },
    {
     "name": "stdout",
     "output_type": "stream",
     "text": [
      "2025-09-05 双阶段选股完成：6只（经T+1日确认）\n",
      "2025-09-08 双阶段选股完成：6只（经T+1日确认）\n"
     ]
    },
    {
     "name": "stderr",
     "output_type": "stream",
     "text": [
      "选股进度:  97%|█████████▋| 168/174 [00:18<00:00,  8.02it/s]"
     ]
    },
    {
     "name": "stdout",
     "output_type": "stream",
     "text": [
      "2025-09-09 双阶段选股完成：6只（经T+1日确认）\n",
      "2025-09-10 双阶段选股完成：6只（经T+1日确认）\n",
      "2025-09-11 双阶段选股完成：6只（经T+1日确认）\n"
     ]
    },
    {
     "name": "stderr",
     "output_type": "stream",
     "text": [
      "选股进度:  98%|█████████▊| 171/174 [00:19<00:00,  8.41it/s]"
     ]
    },
    {
     "name": "stdout",
     "output_type": "stream",
     "text": [
      "2025-09-12 双阶段选股完成：6只（经T+1日确认）\n",
      "2025-09-15 双阶段选股完成：6只（经T+1日确认）\n",
      "2025-09-16 双阶段选股完成：6只（经T+1日确认）\n"
     ]
    },
    {
     "name": "stderr",
     "output_type": "stream",
     "text": [
      "选股进度: 100%|██████████| 174/174 [00:19<00:00,  8.94it/s]"
     ]
    },
    {
     "name": "stdout",
     "output_type": "stream",
     "text": [
      "2025-09-17 双阶段选股完成：6只（经T+1日确认）\n",
      "2025-09-18 双阶段选股完成：6只（经T+1日确认）\n"
     ]
    },
    {
     "name": "stderr",
     "output_type": "stream",
     "text": [
      "\n"
     ]
    },
    {
     "name": "stdout",
     "output_type": "stream",
     "text": [
      "双阶段选股完成：累计选出 1044 只个股\n",
      "开始策略评测：T+1日开盘买入→持有1天卖出\n"
     ]
    },
    {
     "name": "stderr",
     "output_type": "stream",
     "text": [
      "计算收益: 100%|██████████| 174/174 [00:00<00:00, 192.25it/s]\n",
      "C:\\Users\\user\\AppData\\Local\\Temp\\ipykernel_5572\\1384055557.py:529: FutureWarning: The default of observed=False is deprecated and will be changed to True in a future version of pandas. Pass observed=False to retain current behavior or observed=True to adopt the future default and silence this warning.\n",
      "  auc_perf = self.trade_records.groupby('竞价强度区间')['收益率(%)'].agg(['mean', 'count']).reset_index()\n",
      "C:\\Users\\user\\AppData\\Local\\Temp\\ipykernel_5572\\1384055557.py:551: FutureWarning: The default of observed=False is deprecated and will be changed to True in a future version of pandas. Pass observed=False to retain current behavior or observed=True to adopt the future default and silence this warning.\n",
      "  buy_sell_perf = self.trade_records.groupby('承接力区间')['收益率(%)'].agg(['mean', 'count']).reset_index()\n"
     ]
    },
    {
     "name": "stdout",
     "output_type": "stream",
     "text": [
      "\n",
      "===== 策略评测结果 =====\n",
      "交易规则: T日初选→T+1日确认→开盘买入→持有1天卖出\n",
      "总交易次数: 1038\n",
      "胜率: 50.48%\n",
      "平均收益率: 0.51%\n",
      "累计收益率: 5173.21%\n",
      "\n",
      "----- T+1日指标有效性验证 -----\n",
      "竞价强度>1.2 平均收益率: 1.91%\n",
      "竞价强度≤1.2 平均收益率: 0.47%\n",
      "承接力>1.5 平均收益率: 0.78%\n",
      "承接力≤1.5 平均收益率: 0.0%\n"
     ]
    },
    {
     "name": "stderr",
     "output_type": "stream",
     "text": [
      "findfont: Font family 'Arial Unicode MS' not found.\n",
      "findfont: Font family 'Arial Unicode MS' not found.\n",
      "findfont: Font family 'Arial Unicode MS' not found.\n",
      "findfont: Font family 'Arial Unicode MS' not found.\n",
      "findfont: Font family 'Arial Unicode MS' not found.\n",
      "findfont: Font family 'Arial Unicode MS' not found.\n",
      "findfont: Font family 'Arial Unicode MS' not found.\n",
      "findfont: Font family 'Arial Unicode MS' not found.\n",
      "findfont: Font family 'Arial Unicode MS' not found.\n",
      "findfont: Font family 'Arial Unicode MS' not found.\n",
      "findfont: Font family 'Arial Unicode MS' not found.\n",
      "findfont: Font family 'Arial Unicode MS' not found.\n",
      "findfont: Font family 'Arial Unicode MS' not found.\n",
      "findfont: Font family 'Arial Unicode MS' not found.\n",
      "findfont: Font family 'Arial Unicode MS' not found.\n",
      "findfont: Font family 'Arial Unicode MS' not found.\n",
      "findfont: Font family 'Arial Unicode MS' not found.\n",
      "findfont: Font family 'Arial Unicode MS' not found.\n",
      "findfont: Font family 'Arial Unicode MS' not found.\n",
      "findfont: Font family 'Arial Unicode MS' not found.\n",
      "findfont: Font family 'Arial Unicode MS' not found.\n",
      "findfont: Font family 'Arial Unicode MS' not found.\n",
      "findfont: Font family 'Arial Unicode MS' not found.\n",
      "findfont: Font family 'Arial Unicode MS' not found.\n",
      "findfont: Font family 'Arial Unicode MS' not found.\n",
      "findfont: Font family 'Arial Unicode MS' not found.\n",
      "findfont: Font family 'Arial Unicode MS' not found.\n",
      "findfont: Font family 'Arial Unicode MS' not found.\n",
      "findfont: Font family 'Arial Unicode MS' not found.\n",
      "findfont: Font family 'Arial Unicode MS' not found.\n",
      "findfont: Font family 'Arial Unicode MS' not found.\n",
      "findfont: Font family 'Arial Unicode MS' not found.\n",
      "findfont: Font family 'Arial Unicode MS' not found.\n",
      "findfont: Font family 'Arial Unicode MS' not found.\n",
      "findfont: Font family 'Arial Unicode MS' not found.\n",
      "findfont: Font family 'Arial Unicode MS' not found.\n",
      "findfont: Font family 'Arial Unicode MS' not found.\n",
      "findfont: Font family 'Arial Unicode MS' not found.\n",
      "findfont: Font family 'Arial Unicode MS' not found.\n",
      "findfont: Font family 'Arial Unicode MS' not found.\n",
      "findfont: Font family 'Arial Unicode MS' not found.\n",
      "findfont: Font family 'Arial Unicode MS' not found.\n",
      "findfont: Font family 'Arial Unicode MS' not found.\n",
      "findfont: Font family 'Arial Unicode MS' not found.\n",
      "findfont: Font family 'Arial Unicode MS' not found.\n",
      "findfont: Font family 'Arial Unicode MS' not found.\n",
      "findfont: Font family 'Arial Unicode MS' not found.\n",
      "findfont: Font family 'Arial Unicode MS' not found.\n",
      "findfont: Font family 'Arial Unicode MS' not found.\n",
      "findfont: Font family 'Arial Unicode MS' not found.\n",
      "findfont: Font family 'Arial Unicode MS' not found.\n",
      "findfont: Font family 'Arial Unicode MS' not found.\n",
      "findfont: Font family 'Arial Unicode MS' not found.\n",
      "findfont: Font family 'Arial Unicode MS' not found.\n",
      "findfont: Font family 'Arial Unicode MS' not found.\n",
      "findfont: Font family 'Arial Unicode MS' not found.\n",
      "findfont: Font family 'Arial Unicode MS' not found.\n",
      "findfont: Font family 'Arial Unicode MS' not found.\n",
      "findfont: Font family 'Arial Unicode MS' not found.\n",
      "findfont: Font family 'Arial Unicode MS' not found.\n",
      "findfont: Font family 'Arial Unicode MS' not found.\n",
      "findfont: Font family 'Arial Unicode MS' not found.\n",
      "findfont: Font family 'Arial Unicode MS' not found.\n",
      "findfont: Font family 'Arial Unicode MS' not found.\n",
      "findfont: Font family 'Arial Unicode MS' not found.\n",
      "findfont: Font family 'Arial Unicode MS' not found.\n",
      "findfont: Font family 'Arial Unicode MS' not found.\n",
      "findfont: Font family 'Arial Unicode MS' not found.\n",
      "findfont: Font family 'Arial Unicode MS' not found.\n",
      "findfont: Font family 'Arial Unicode MS' not found.\n",
      "findfont: Font family 'Arial Unicode MS' not found.\n",
      "findfont: Font family 'Arial Unicode MS' not found.\n",
      "findfont: Font family 'Arial Unicode MS' not found.\n",
      "findfont: Font family 'Arial Unicode MS' not found.\n",
      "findfont: Font family 'Arial Unicode MS' not found.\n",
      "findfont: Font family 'Arial Unicode MS' not found.\n",
      "findfont: Font family 'Arial Unicode MS' not found.\n",
      "findfont: Font family 'Arial Unicode MS' not found.\n",
      "findfont: Font family 'Arial Unicode MS' not found.\n",
      "findfont: Font family 'Arial Unicode MS' not found.\n",
      "findfont: Font family 'Arial Unicode MS' not found.\n",
      "findfont: Font family 'Arial Unicode MS' not found.\n",
      "findfont: Font family 'Arial Unicode MS' not found.\n",
      "findfont: Font family 'Arial Unicode MS' not found.\n",
      "findfont: Font family 'Arial Unicode MS' not found.\n",
      "findfont: Font family 'Arial Unicode MS' not found.\n",
      "findfont: Font family 'Arial Unicode MS' not found.\n",
      "findfont: Font family 'Arial Unicode MS' not found.\n",
      "findfont: Font family 'Arial Unicode MS' not found.\n",
      "findfont: Font family 'Arial Unicode MS' not found.\n",
      "findfont: Font family 'Arial Unicode MS' not found.\n",
      "findfont: Font family 'Arial Unicode MS' not found.\n",
      "findfont: Font family 'Arial Unicode MS' not found.\n",
      "findfont: Font family 'Arial Unicode MS' not found.\n",
      "findfont: Font family 'Arial Unicode MS' not found.\n",
      "findfont: Font family 'Arial Unicode MS' not found.\n",
      "findfont: Font family 'Arial Unicode MS' not found.\n",
      "findfont: Font family 'Arial Unicode MS' not found.\n",
      "findfont: Font family 'Arial Unicode MS' not found.\n",
      "findfont: Font family 'Arial Unicode MS' not found.\n",
      "findfont: Font family 'Arial Unicode MS' not found.\n",
      "findfont: Font family 'Arial Unicode MS' not found.\n",
      "findfont: Font family 'Arial Unicode MS' not found.\n",
      "findfont: Font family 'Arial Unicode MS' not found.\n",
      "findfont: Font family 'Arial Unicode MS' not found.\n",
      "findfont: Font family 'Arial Unicode MS' not found.\n",
      "findfont: Font family 'Arial Unicode MS' not found.\n",
      "findfont: Font family 'Arial Unicode MS' not found.\n",
      "findfont: Font family 'Arial Unicode MS' not found.\n",
      "findfont: Font family 'Arial Unicode MS' not found.\n",
      "findfont: Font family 'Arial Unicode MS' not found.\n",
      "findfont: Font family 'Arial Unicode MS' not found.\n",
      "findfont: Font family 'Arial Unicode MS' not found.\n",
      "findfont: Font family 'Arial Unicode MS' not found.\n",
      "findfont: Font family 'Arial Unicode MS' not found.\n",
      "findfont: Font family 'Arial Unicode MS' not found.\n",
      "findfont: Font family 'Arial Unicode MS' not found.\n",
      "findfont: Font family 'Arial Unicode MS' not found.\n",
      "findfont: Font family 'Arial Unicode MS' not found.\n",
      "findfont: Font family 'Arial Unicode MS' not found.\n",
      "findfont: Font family 'Arial Unicode MS' not found.\n",
      "findfont: Font family 'Arial Unicode MS' not found.\n",
      "findfont: Font family 'Arial Unicode MS' not found.\n",
      "findfont: Font family 'Arial Unicode MS' not found.\n",
      "findfont: Font family 'Arial Unicode MS' not found.\n",
      "findfont: Font family 'Arial Unicode MS' not found.\n",
      "findfont: Font family 'Arial Unicode MS' not found.\n",
      "findfont: Font family 'Arial Unicode MS' not found.\n",
      "findfont: Font family 'Arial Unicode MS' not found.\n",
      "findfont: Font family 'Arial Unicode MS' not found.\n",
      "findfont: Font family 'Arial Unicode MS' not found.\n",
      "findfont: Font family 'Arial Unicode MS' not found.\n",
      "findfont: Font family 'Arial Unicode MS' not found.\n",
      "findfont: Font family 'Arial Unicode MS' not found.\n",
      "findfont: Font family 'Arial Unicode MS' not found.\n",
      "findfont: Font family 'Arial Unicode MS' not found.\n",
      "findfont: Font family 'Arial Unicode MS' not found.\n",
      "findfont: Font family 'Arial Unicode MS' not found.\n",
      "findfont: Font family 'Arial Unicode MS' not found.\n",
      "findfont: Font family 'Arial Unicode MS' not found.\n",
      "findfont: Font family 'Arial Unicode MS' not found.\n",
      "findfont: Font family 'Arial Unicode MS' not found.\n",
      "findfont: Font family 'Arial Unicode MS' not found.\n",
      "findfont: Font family 'Arial Unicode MS' not found.\n",
      "findfont: Font family 'Arial Unicode MS' not found.\n",
      "findfont: Font family 'Arial Unicode MS' not found.\n",
      "findfont: Font family 'Arial Unicode MS' not found.\n",
      "findfont: Font family 'Arial Unicode MS' not found.\n",
      "findfont: Font family 'Arial Unicode MS' not found.\n",
      "findfont: Font family 'Arial Unicode MS' not found.\n",
      "findfont: Font family 'Arial Unicode MS' not found.\n",
      "findfont: Font family 'Arial Unicode MS' not found.\n",
      "findfont: Font family 'Arial Unicode MS' not found.\n",
      "findfont: Font family 'Arial Unicode MS' not found.\n",
      "findfont: Font family 'Arial Unicode MS' not found.\n",
      "findfont: Font family 'Arial Unicode MS' not found.\n",
      "findfont: Font family 'Arial Unicode MS' not found.\n",
      "findfont: Font family 'Arial Unicode MS' not found.\n",
      "findfont: Font family 'Arial Unicode MS' not found.\n",
      "findfont: Font family 'Arial Unicode MS' not found.\n",
      "findfont: Font family 'Arial Unicode MS' not found.\n",
      "findfont: Font family 'Arial Unicode MS' not found.\n",
      "findfont: Font family 'Arial Unicode MS' not found.\n",
      "findfont: Font family 'Arial Unicode MS' not found.\n",
      "findfont: Font family 'Arial Unicode MS' not found.\n",
      "findfont: Font family 'Arial Unicode MS' not found.\n",
      "findfont: Font family 'Arial Unicode MS' not found.\n",
      "findfont: Font family 'Arial Unicode MS' not found.\n",
      "findfont: Font family 'Arial Unicode MS' not found.\n",
      "findfont: Font family 'Arial Unicode MS' not found.\n",
      "findfont: Font family 'Arial Unicode MS' not found.\n",
      "findfont: Font family 'Arial Unicode MS' not found.\n",
      "findfont: Font family 'Arial Unicode MS' not found.\n",
      "findfont: Font family 'Arial Unicode MS' not found.\n",
      "findfont: Font family 'Arial Unicode MS' not found.\n",
      "findfont: Font family 'Arial Unicode MS' not found.\n",
      "findfont: Font family 'Arial Unicode MS' not found.\n",
      "findfont: Font family 'Arial Unicode MS' not found.\n",
      "findfont: Font family 'Arial Unicode MS' not found.\n",
      "findfont: Font family 'Arial Unicode MS' not found.\n",
      "findfont: Font family 'Arial Unicode MS' not found.\n",
      "findfont: Font family 'Arial Unicode MS' not found.\n",
      "findfont: Font family 'Arial Unicode MS' not found.\n",
      "findfont: Font family 'Arial Unicode MS' not found.\n",
      "findfont: Font family 'Arial Unicode MS' not found.\n",
      "findfont: Font family 'Arial Unicode MS' not found.\n",
      "findfont: Font family 'Arial Unicode MS' not found.\n",
      "findfont: Font family 'Arial Unicode MS' not found.\n",
      "findfont: Font family 'Arial Unicode MS' not found.\n",
      "findfont: Font family 'Arial Unicode MS' not found.\n",
      "findfont: Font family 'Arial Unicode MS' not found.\n",
      "findfont: Font family 'Arial Unicode MS' not found.\n",
      "findfont: Font family 'Arial Unicode MS' not found.\n",
      "findfont: Font family 'Arial Unicode MS' not found.\n",
      "findfont: Font family 'Arial Unicode MS' not found.\n",
      "findfont: Font family 'Arial Unicode MS' not found.\n",
      "findfont: Font family 'Arial Unicode MS' not found.\n",
      "findfont: Font family 'Arial Unicode MS' not found.\n",
      "findfont: Font family 'Arial Unicode MS' not found.\n",
      "findfont: Font family 'Arial Unicode MS' not found.\n",
      "findfont: Font family 'Arial Unicode MS' not found.\n",
      "findfont: Font family 'Arial Unicode MS' not found.\n",
      "findfont: Font family 'Arial Unicode MS' not found.\n",
      "findfont: Font family 'Arial Unicode MS' not found.\n",
      "findfont: Font family 'Arial Unicode MS' not found.\n",
      "findfont: Font family 'Arial Unicode MS' not found.\n",
      "findfont: Font family 'Arial Unicode MS' not found.\n",
      "findfont: Font family 'Arial Unicode MS' not found.\n",
      "findfont: Font family 'Arial Unicode MS' not found.\n",
      "findfont: Font family 'Arial Unicode MS' not found.\n",
      "findfont: Font family 'Arial Unicode MS' not found.\n",
      "findfont: Font family 'Arial Unicode MS' not found.\n",
      "findfont: Font family 'Arial Unicode MS' not found.\n",
      "findfont: Font family 'Arial Unicode MS' not found.\n",
      "findfont: Font family 'Arial Unicode MS' not found.\n",
      "findfont: Font family 'Arial Unicode MS' not found.\n",
      "findfont: Font family 'Arial Unicode MS' not found.\n",
      "findfont: Font family 'Arial Unicode MS' not found.\n",
      "findfont: Font family 'Arial Unicode MS' not found.\n",
      "findfont: Font family 'Arial Unicode MS' not found.\n",
      "findfont: Font family 'Arial Unicode MS' not found.\n",
      "findfont: Font family 'Arial Unicode MS' not found.\n",
      "findfont: Font family 'Arial Unicode MS' not found.\n",
      "findfont: Font family 'Arial Unicode MS' not found.\n",
      "findfont: Font family 'Arial Unicode MS' not found.\n",
      "findfont: Font family 'Arial Unicode MS' not found.\n",
      "findfont: Font family 'Arial Unicode MS' not found.\n",
      "findfont: Font family 'Arial Unicode MS' not found.\n",
      "findfont: Font family 'Arial Unicode MS' not found.\n",
      "findfont: Font family 'Arial Unicode MS' not found.\n",
      "findfont: Font family 'Arial Unicode MS' not found.\n",
      "findfont: Font family 'Arial Unicode MS' not found.\n",
      "findfont: Font family 'Arial Unicode MS' not found.\n",
      "findfont: Font family 'Arial Unicode MS' not found.\n",
      "findfont: Font family 'Arial Unicode MS' not found.\n",
      "findfont: Font family 'Arial Unicode MS' not found.\n",
      "findfont: Font family 'Arial Unicode MS' not found.\n",
      "findfont: Font family 'Arial Unicode MS' not found.\n",
      "findfont: Font family 'Arial Unicode MS' not found.\n",
      "findfont: Font family 'Arial Unicode MS' not found.\n",
      "findfont: Font family 'Arial Unicode MS' not found.\n",
      "findfont: Font family 'Arial Unicode MS' not found.\n",
      "findfont: Font family 'Arial Unicode MS' not found.\n",
      "findfont: Font family 'Arial Unicode MS' not found.\n",
      "findfont: Font family 'Arial Unicode MS' not found.\n",
      "findfont: Font family 'Arial Unicode MS' not found.\n",
      "findfont: Font family 'Arial Unicode MS' not found.\n",
      "findfont: Font family 'Arial Unicode MS' not found.\n",
      "findfont: Font family 'Arial Unicode MS' not found.\n",
      "findfont: Font family 'Arial Unicode MS' not found.\n",
      "findfont: Font family 'Arial Unicode MS' not found.\n",
      "findfont: Font family 'Arial Unicode MS' not found.\n",
      "findfont: Font family 'Arial Unicode MS' not found.\n",
      "findfont: Font family 'Arial Unicode MS' not found.\n",
      "findfont: Font family 'Arial Unicode MS' not found.\n",
      "findfont: Font family 'Arial Unicode MS' not found.\n",
      "findfont: Font family 'Arial Unicode MS' not found.\n",
      "findfont: Font family 'Arial Unicode MS' not found.\n",
      "findfont: Font family 'Arial Unicode MS' not found.\n",
      "findfont: Font family 'Arial Unicode MS' not found.\n",
      "findfont: Font family 'Arial Unicode MS' not found.\n",
      "findfont: Font family 'Arial Unicode MS' not found.\n",
      "findfont: Font family 'Arial Unicode MS' not found.\n",
      "findfont: Font family 'Arial Unicode MS' not found.\n",
      "findfont: Font family 'Arial Unicode MS' not found.\n",
      "findfont: Font family 'Arial Unicode MS' not found.\n",
      "findfont: Font family 'Arial Unicode MS' not found.\n",
      "findfont: Font family 'Arial Unicode MS' not found.\n",
      "findfont: Font family 'Arial Unicode MS' not found.\n",
      "findfont: Font family 'Arial Unicode MS' not found.\n",
      "findfont: Font family 'Arial Unicode MS' not found.\n",
      "findfont: Font family 'Arial Unicode MS' not found.\n",
      "findfont: Font family 'Arial Unicode MS' not found.\n",
      "findfont: Font family 'Arial Unicode MS' not found.\n",
      "findfont: Font family 'Arial Unicode MS' not found.\n",
      "findfont: Font family 'Arial Unicode MS' not found.\n",
      "findfont: Font family 'Arial Unicode MS' not found.\n",
      "findfont: Font family 'Arial Unicode MS' not found.\n",
      "findfont: Font family 'Arial Unicode MS' not found.\n",
      "findfont: Font family 'Arial Unicode MS' not found.\n",
      "findfont: Font family 'Arial Unicode MS' not found.\n",
      "findfont: Font family 'Arial Unicode MS' not found.\n",
      "findfont: Font family 'Arial Unicode MS' not found.\n",
      "findfont: Font family 'Arial Unicode MS' not found.\n",
      "findfont: Font family 'Arial Unicode MS' not found.\n",
      "findfont: Font family 'Arial Unicode MS' not found.\n",
      "findfont: Font family 'Arial Unicode MS' not found.\n",
      "findfont: Font family 'Arial Unicode MS' not found.\n",
      "findfont: Font family 'Arial Unicode MS' not found.\n",
      "findfont: Font family 'Arial Unicode MS' not found.\n",
      "findfont: Font family 'Arial Unicode MS' not found.\n",
      "findfont: Font family 'Arial Unicode MS' not found.\n",
      "findfont: Font family 'Arial Unicode MS' not found.\n",
      "findfont: Font family 'Arial Unicode MS' not found.\n",
      "findfont: Font family 'Arial Unicode MS' not found.\n",
      "findfont: Font family 'Arial Unicode MS' not found.\n",
      "findfont: Font family 'Arial Unicode MS' not found.\n",
      "findfont: Font family 'Arial Unicode MS' not found.\n",
      "findfont: Font family 'Arial Unicode MS' not found.\n",
      "findfont: Font family 'Arial Unicode MS' not found.\n",
      "findfont: Font family 'Arial Unicode MS' not found.\n",
      "findfont: Font family 'Arial Unicode MS' not found.\n",
      "findfont: Font family 'Arial Unicode MS' not found.\n",
      "findfont: Font family 'Arial Unicode MS' not found.\n",
      "findfont: Font family 'Arial Unicode MS' not found.\n",
      "findfont: Font family 'Arial Unicode MS' not found.\n",
      "findfont: Font family 'Arial Unicode MS' not found.\n",
      "findfont: Font family 'Arial Unicode MS' not found.\n",
      "findfont: Font family 'Arial Unicode MS' not found.\n",
      "findfont: Font family 'Arial Unicode MS' not found.\n",
      "findfont: Font family 'Arial Unicode MS' not found.\n",
      "findfont: Font family 'Arial Unicode MS' not found.\n",
      "findfont: Font family 'Arial Unicode MS' not found.\n",
      "findfont: Font family 'Arial Unicode MS' not found.\n",
      "findfont: Font family 'Arial Unicode MS' not found.\n",
      "findfont: Font family 'Arial Unicode MS' not found.\n",
      "findfont: Font family 'Arial Unicode MS' not found.\n",
      "findfont: Font family 'Arial Unicode MS' not found.\n",
      "findfont: Font family 'Arial Unicode MS' not found.\n",
      "findfont: Font family 'Arial Unicode MS' not found.\n",
      "findfont: Font family 'Arial Unicode MS' not found.\n",
      "findfont: Font family 'Arial Unicode MS' not found.\n",
      "findfont: Font family 'Arial Unicode MS' not found.\n",
      "findfont: Font family 'Arial Unicode MS' not found.\n",
      "findfont: Font family 'Arial Unicode MS' not found.\n",
      "findfont: Font family 'Arial Unicode MS' not found.\n",
      "findfont: Font family 'Arial Unicode MS' not found.\n",
      "findfont: Font family 'Arial Unicode MS' not found.\n",
      "findfont: Font family 'Arial Unicode MS' not found.\n",
      "findfont: Font family 'Arial Unicode MS' not found.\n",
      "findfont: Font family 'Arial Unicode MS' not found.\n",
      "findfont: Font family 'Arial Unicode MS' not found.\n",
      "findfont: Font family 'Arial Unicode MS' not found.\n",
      "findfont: Font family 'Arial Unicode MS' not found.\n",
      "findfont: Font family 'Arial Unicode MS' not found.\n",
      "findfont: Font family 'Arial Unicode MS' not found.\n",
      "findfont: Font family 'Arial Unicode MS' not found.\n",
      "findfont: Font family 'Arial Unicode MS' not found.\n",
      "findfont: Font family 'Arial Unicode MS' not found.\n",
      "findfont: Font family 'Arial Unicode MS' not found.\n",
      "findfont: Font family 'Arial Unicode MS' not found.\n",
      "findfont: Font family 'Arial Unicode MS' not found.\n",
      "findfont: Font family 'Arial Unicode MS' not found.\n",
      "findfont: Font family 'Arial Unicode MS' not found.\n",
      "findfont: Font family 'Arial Unicode MS' not found.\n",
      "findfont: Font family 'Arial Unicode MS' not found.\n",
      "findfont: Font family 'Arial Unicode MS' not found.\n",
      "findfont: Font family 'Arial Unicode MS' not found.\n",
      "findfont: Font family 'Arial Unicode MS' not found.\n",
      "findfont: Font family 'Arial Unicode MS' not found.\n",
      "findfont: Font family 'Arial Unicode MS' not found.\n",
      "findfont: Font family 'Arial Unicode MS' not found.\n",
      "findfont: Font family 'Arial Unicode MS' not found.\n",
      "findfont: Font family 'Arial Unicode MS' not found.\n",
      "findfont: Font family 'Arial Unicode MS' not found.\n",
      "findfont: Font family 'Arial Unicode MS' not found.\n",
      "findfont: Font family 'Arial Unicode MS' not found.\n",
      "findfont: Font family 'Arial Unicode MS' not found.\n",
      "findfont: Font family 'Arial Unicode MS' not found.\n",
      "findfont: Font family 'Arial Unicode MS' not found.\n",
      "findfont: Font family 'Arial Unicode MS' not found.\n",
      "findfont: Font family 'Arial Unicode MS' not found.\n",
      "findfont: Font family 'Arial Unicode MS' not found.\n",
      "findfont: Font family 'Arial Unicode MS' not found.\n",
      "findfont: Font family 'Arial Unicode MS' not found.\n",
      "findfont: Font family 'Arial Unicode MS' not found.\n",
      "findfont: Font family 'Arial Unicode MS' not found.\n",
      "findfont: Font family 'Arial Unicode MS' not found.\n",
      "findfont: Font family 'Arial Unicode MS' not found.\n",
      "findfont: Font family 'Arial Unicode MS' not found.\n",
      "findfont: Font family 'Arial Unicode MS' not found.\n",
      "findfont: Font family 'Arial Unicode MS' not found.\n",
      "findfont: Font family 'Arial Unicode MS' not found.\n",
      "findfont: Font family 'Arial Unicode MS' not found.\n",
      "findfont: Font family 'Arial Unicode MS' not found.\n",
      "findfont: Font family 'Arial Unicode MS' not found.\n",
      "findfont: Font family 'Arial Unicode MS' not found.\n",
      "findfont: Font family 'Arial Unicode MS' not found.\n",
      "findfont: Font family 'Arial Unicode MS' not found.\n",
      "findfont: Font family 'Arial Unicode MS' not found.\n",
      "findfont: Font family 'Arial Unicode MS' not found.\n",
      "findfont: Font family 'Arial Unicode MS' not found.\n",
      "findfont: Font family 'Arial Unicode MS' not found.\n",
      "findfont: Font family 'Arial Unicode MS' not found.\n",
      "findfont: Font family 'Arial Unicode MS' not found.\n",
      "findfont: Font family 'Arial Unicode MS' not found.\n",
      "findfont: Font family 'Arial Unicode MS' not found.\n",
      "findfont: Font family 'Arial Unicode MS' not found.\n",
      "findfont: Font family 'Arial Unicode MS' not found.\n",
      "findfont: Font family 'Arial Unicode MS' not found.\n",
      "findfont: Font family 'Arial Unicode MS' not found.\n",
      "findfont: Font family 'Arial Unicode MS' not found.\n",
      "findfont: Font family 'Arial Unicode MS' not found.\n",
      "findfont: Font family 'Arial Unicode MS' not found.\n",
      "findfont: Font family 'Arial Unicode MS' not found.\n",
      "findfont: Font family 'Arial Unicode MS' not found.\n",
      "findfont: Font family 'Arial Unicode MS' not found.\n",
      "findfont: Font family 'Arial Unicode MS' not found.\n",
      "findfont: Font family 'Arial Unicode MS' not found.\n",
      "findfont: Font family 'Arial Unicode MS' not found.\n",
      "findfont: Font family 'Arial Unicode MS' not found.\n",
      "findfont: Font family 'Arial Unicode MS' not found.\n",
      "findfont: Font family 'Arial Unicode MS' not found.\n",
      "findfont: Font family 'Arial Unicode MS' not found.\n"
     ]
    },
    {
     "name": "stdout",
     "output_type": "stream",
     "text": [
      "策略表现图表已保存至: enhanced_strategy_evaluation/strategy_performance.png\n",
      "\n",
      "所有流程完成!\n",
      "最终选股结果目录: enhanced_selection_results\n",
      "评测结果目录: enhanced_strategy_evaluation\n"
     ]
    }
   ],
   "source": [
    "import pandas as pd\n",
    "import numpy as np\n",
    "import os\n",
    "from datetime import datetime, timedelta\n",
    "import matplotlib.pyplot as plt\n",
    "from tqdm import tqdm\n",
    "import matplotlib.dates as mdates\n",
    "from typing import List, Dict, Optional, Tuple\n",
    "\n",
    "# 全局配置\n",
    "pd.set_option('display.max_columns', None)\n",
    "plt.rcParams[\"font.family\"] = [\"SimHei\", \"Microsoft YaHei\", \"Arial Unicode MS\"]\n",
    "plt.rcParams['axes.unicode_minus'] = False\n",
    "\n",
    "# 核心字段定义\n",
    "CORE_FIELDS = [\n",
    "    \"date\", \"stock_code\", \"stock_name\", \"open\", \"close\", \"pre_close\",\n",
    "    \"auc_volume\", \"current\", \"auc_volume_ratio_vs_5d_avg\",\n",
    "    \"volume\", \"volume_ratio_vs_5d_avg\",\n",
    "    \"buy_total\", \"sell_total\", \"b1_v\", \"a1_v\", \"b1_p\", \"a1_p\",\n",
    "    \"volatility\", \"amplitude\",\n",
    "    \"sw_l1_industry_name\"\n",
    "]\n",
    "\n",
    "class StockSelectionStrategy:\n",
    "    def __init__(self, data_path: str, \n",
    "                 output_dir: str = \"enhanced_selection_results\",\n",
    "                 eval_dir: str = \"enhanced_strategy_evaluation\"):\n",
    "        \"\"\"股票选股策略主类\"\"\"\n",
    "        self.data_path = data_path\n",
    "        self.output_dir = output_dir\n",
    "        self.eval_dir = eval_dir\n",
    "        \n",
    "        # 创建输出目录\n",
    "        os.makedirs(self.output_dir, exist_ok=True)\n",
    "        os.makedirs(self.eval_dir, exist_ok=True)\n",
    "        \n",
    "        # 数据存储\n",
    "        self.raw_data = None\n",
    "        self.processed_data = None\n",
    "        self.stock_daily_data = {}  # 按股票分组的数据\n",
    "        self.trading_dates = []\n",
    "        self.trading_dates_map = {}  # 日期→索引映射\n",
    "        \n",
    "        # 策略结果\n",
    "        self.daily_selections = {}\n",
    "        self.final_selections = {}\n",
    "        self.trade_records = None\n",
    "        self.performance = None\n",
    "\n",
    "    def load_data(self) -> bool:\n",
    "        \"\"\"加载并预处理数据\"\"\"\n",
    "        try:\n",
    "            print(\"加载选股数据...\")\n",
    "            # 支持CSV和Parquet格式\n",
    "            if self.data_path.endswith('.csv'):\n",
    "                self.raw_data = pd.read_csv(self.data_path)\n",
    "            elif self.data_path.endswith('.parquet'):\n",
    "                self.raw_data = pd.read_parquet(self.data_path)\n",
    "            else:\n",
    "                raise ValueError(\"仅支持CSV或Parquet格式数据\")\n",
    "            \n",
    "            # 检查核心字段\n",
    "            missing_fields = [f for f in CORE_FIELDS if f not in self.raw_data.columns]\n",
    "            if missing_fields:\n",
    "                raise ValueError(f\"缺失核心字段: {missing_fields}\")\n",
    "            \n",
    "            # 数据预处理\n",
    "            df = self.raw_data[CORE_FIELDS].copy()\n",
    "            # 日期格式处理\n",
    "            df['date'] = pd.to_datetime(df['date'], errors='coerce').dropna()\n",
    "            # 数值字段转换\n",
    "            numeric_fields = [f for f in CORE_FIELDS if f not in \n",
    "                             [\"date\", \"stock_code\", \"stock_name\", \"sw_l1_industry_name\"]]\n",
    "            for field in numeric_fields:\n",
    "                df[field] = pd.to_numeric(df[field], errors='coerce')\n",
    "            \n",
    "            # 过滤无效数据\n",
    "            initial_count = len(df)\n",
    "            df = df[\n",
    "                (df['auc_volume'] > 0) &\n",
    "                (df['volume'] > 0) &\n",
    "                (df['open'] > 0) &\n",
    "                (df['close'] > 0)\n",
    "            ].dropna(subset=numeric_fields + [\"date\"])\n",
    "            \n",
    "            # 按股票分组存储\n",
    "            self.processed_data = df\n",
    "            for code, group in df.groupby('stock_code'):\n",
    "                sorted_group = group.sort_values('date').reset_index(drop=True)\n",
    "                sorted_group['date_idx'] = range(len(sorted_group))\n",
    "                date_map = {row['date']: row['date_idx'] for _, row in sorted_group.iterrows()}\n",
    "                self.stock_daily_data[code] = {\n",
    "                    'data': sorted_group,\n",
    "                    'date_map': date_map\n",
    "                }\n",
    "            \n",
    "            # 生成交易日列表及映射\n",
    "            self.trading_dates = sorted(df['date'].unique())\n",
    "            self.trading_dates_map = {date: idx for idx, date in enumerate(self.trading_dates)}\n",
    "            \n",
    "            print(f\"数据预处理完成: 保留 {len(self.processed_data)} 条记录，{len(self.stock_daily_data)} 只股票，{len(self.trading_dates)} 个交易日\")\n",
    "            return True\n",
    "        except Exception as e:\n",
    "            print(f\"数据加载失败: {str(e)}\")\n",
    "            return False\n",
    "\n",
    "    def get_t1_data(self, stock_code: str, t_date: datetime) -> Optional[pd.Series]:\n",
    "        \"\"\"获取单只股票的T+1日数据\"\"\"\n",
    "        if stock_code not in self.stock_daily_data:\n",
    "            return None\n",
    "        \n",
    "        stock_info = self.stock_daily_data[stock_code]\n",
    "        stock_df = stock_info['data']\n",
    "        date_map = stock_info['date_map']\n",
    "        \n",
    "        # 计算T+1日日期\n",
    "        t1_date = t_date + timedelta(days=1)\n",
    "        # 检查T+1日是否为交易日\n",
    "        if t1_date not in date_map:\n",
    "            t_idx = self.trading_dates_map.get(t_date, -1)\n",
    "            if t_idx == -1 or t_idx + 1 >= len(self.trading_dates):\n",
    "                return None\n",
    "            t1_date = self.trading_dates[t_idx + 1]\n",
    "        \n",
    "        # 获取T+1日数据\n",
    "        if t1_date not in date_map:\n",
    "            return None\n",
    "        t1_row_idx = date_map[t1_date]\n",
    "        t1_data = stock_df.iloc[t1_row_idx]\n",
    "        \n",
    "        return t1_data\n",
    "\n",
    "    # 辅助函数：处理单个数值的限制范围\n",
    "    @staticmethod\n",
    "    def clip_value(value: float, min_value: float, max_value: float) -> float:\n",
    "        \"\"\"将单个数值限制在[min_value, max_value]范围内\"\"\"\n",
    "        return max(min_value, min(value, max_value))\n",
    "\n",
    "    def calculate_t_daily_scores(self, date_data: pd.DataFrame) -> pd.DataFrame:\n",
    "        \"\"\"计算T日基础评分\"\"\"\n",
    "        df = date_data.copy()\n",
    "        \n",
    "        # T日衍生指标\n",
    "        df['t_open_pct'] = (df['open'] - df['pre_close']) / df['pre_close'] * 100\n",
    "        df['t_order_book_ratio'] = df['buy_total'] / df['sell_total'].clip(lower=1)\n",
    "        df['t_buy_sell_ratio'] = df['b1_v'] / df['a1_v'].clip(lower=1)\n",
    "        \n",
    "        # T日百分位评分（权重50分）\n",
    "        t_fields = [\n",
    "            (\"auc_volume_ratio_vs_5d_avg\", 1, 10),\n",
    "            (\"volume_ratio_vs_5d_avg\", 1, 10),\n",
    "            (\"t_order_book_ratio\", 1, 7),\n",
    "            (\"t_buy_sell_ratio\", 1, 7),\n",
    "            (\"t_open_pct\", 1, 6),\n",
    "            (\"volatility\", -1, 5),\n",
    "            (\"amplitude\", -1, 5)\n",
    "        ]\n",
    "        \n",
    "        # 计算T日评分\n",
    "        t_total = 0\n",
    "        for field, direction, weight in t_fields:\n",
    "            if field == \"t_open_pct\":\n",
    "                clipped = df[field].clip(0.3, 5)\n",
    "                df[f'{field}_pctile'] = clipped.rank(pct=True) * 100\n",
    "            else:\n",
    "                rank_pct = df[field].rank(pct=True)\n",
    "                df[f'{field}_pctile'] = rank_pct * 100 if direction == 1 else (1 - rank_pct) * 100\n",
    "            \n",
    "            df[f'{field}_score'] = df[f'{field}_pctile'] * (weight / 100)\n",
    "            t_total += df[f'{field}_score']\n",
    "        \n",
    "        df['t_score'] = t_total.round(1)  # T日基础分（满分50）\n",
    "        return df\n",
    "\n",
    "    def calculate_t1_confirm_scores(self, t_data: pd.Series, t1_data: pd.Series) -> Dict[str, float]:\n",
    "        \"\"\"计算T+1日确认评分\"\"\"\n",
    "        t1_scores = {}\n",
    "        \n",
    "        # 计算T+1日关键指标\n",
    "        t1_scores['t1_auc_strength'] = t1_data['auc_volume'] / self.clip_value(t_data['volume'], 1, float('inf'))\n",
    "        t1_scores['t1_auc_premium'] = (t1_data['current'] - t_data['close']) / self.clip_value(t_data['close'], 1e-6, float('inf')) * 100\n",
    "        t1_scores['t1_buy_sell_ratio'] = t1_data['b1_v'] / self.clip_value(t1_data['a1_v'], 1, float('inf'))\n",
    "        t1_scores['t1_spread'] = (t1_data['a1_p'] - t1_data['b1_p']) / self.clip_value(t1_data['b1_p'], 1e-6, float('inf')) * 100\n",
    "        \n",
    "        # 计算T+1日确认评分（满分50）\n",
    "        t1_total = 0\n",
    "        # 竞价强度评分\n",
    "        if t1_scores['t1_auc_strength'] >= 1.2:\n",
    "            t1_total += 15\n",
    "        elif t1_scores['t1_auc_strength'] >= 1.0:\n",
    "            t1_total += 10\n",
    "        else:\n",
    "            t1_total += 5\n",
    "        \n",
    "        # 竞价溢价评分\n",
    "        if 0.1 <= t1_scores['t1_auc_premium'] <= 3:\n",
    "            t1_total += 10\n",
    "        elif (0 <= t1_scores['t1_auc_premium'] < 0.1) or (3 < t1_scores['t1_auc_premium'] <= 5):\n",
    "            t1_total += 5\n",
    "        else:\n",
    "            t1_total += 2\n",
    "        \n",
    "        # 盘口承接力评分\n",
    "        if t1_scores['t1_buy_sell_ratio'] >= 1.5:\n",
    "            t1_total += 15\n",
    "        elif t1_scores['t1_buy_sell_ratio'] >= 1.2:\n",
    "            t1_total += 10\n",
    "        else:\n",
    "            t1_total += 5\n",
    "        \n",
    "        # 买卖价差评分\n",
    "        if t1_scores['t1_spread'] < 0.5:\n",
    "            t1_total += 10\n",
    "        elif t1_scores['t1_spread'] <= 1:\n",
    "            t1_total += 5\n",
    "        else:\n",
    "            t1_total += 2\n",
    "        \n",
    "        t1_scores['t1_score'] = round(t1_total, 1)\n",
    "        t1_scores['final_score'] = round(t_data['t_score'] + t1_scores['t1_score'], 1)\n",
    "        return t1_scores\n",
    "\n",
    "    def select_stocks_with_t1_confirm(self, date: datetime, \n",
    "                                   top_quality_pct: float = 0.2,\n",
    "                                   top_industry_n: int = 3,\n",
    "                                   top_stock_per_industry: int = 3,\n",
    "                                   t1_confirm_threshold: float = 70) -> Optional[pd.DataFrame]:\n",
    "        \"\"\"双阶段选股：T日初选+T+1日确认\"\"\"\n",
    "        # T日初选\n",
    "        t_data = self.processed_data[self.processed_data['date'] == date].copy()\n",
    "        if len(t_data) < 30:\n",
    "            print(f\"{date.strftime('%Y-%m-%d')} T日个股不足30只，跳过\")\n",
    "            return None\n",
    "        \n",
    "        # 计算T日评分并初选\n",
    "        t_scored = self.calculate_t_daily_scores(t_data)\n",
    "        t_quality_threshold = t_scored['t_score'].quantile(1 - top_quality_pct)\n",
    "        t_high_quality = t_scored[t_scored['t_score'] >= t_quality_threshold].copy()\n",
    "        if len(t_high_quality) < 10:\n",
    "            print(f\"{date.strftime('%Y-%m-%d')} T日优质股不足10只，跳过\")\n",
    "            return None\n",
    "        \n",
    "        # T日按行业初选\n",
    "        industry_count = t_high_quality.groupby('sw_l1_industry_name').size().reset_index(name='count')\n",
    "        top_industries = industry_count.nlargest(top_industry_n, 'count')['sw_l1_industry_name'].tolist()\n",
    "        \n",
    "        t_selected = []\n",
    "        for industry in top_industries:\n",
    "            industry_stocks = t_high_quality[t_high_quality['sw_l1_industry_name'] == industry]\n",
    "            top_in_industry = industry_stocks.nlargest(min(top_stock_per_industry, len(industry_stocks)), 't_score')\n",
    "            t_selected.append(top_in_industry)\n",
    "        \n",
    "        t_final = pd.concat(t_selected, ignore_index=True)\n",
    "        t_candidates = t_final.nlargest(15, 't_score')\n",
    "        self.daily_selections[date] = t_candidates\n",
    "        \n",
    "        # T+1日确认\n",
    "        final_results = []\n",
    "        t_idx = self.trading_dates_map.get(date, -1)\n",
    "        if t_idx == -1 or t_idx + 1 >= len(self.trading_dates):\n",
    "            print(f\"{date.strftime('%Y-%m-%d')} 无T+1日交易日，跳过确认\")\n",
    "            return None\n",
    "        t1_date = self.trading_dates[t_idx + 1]\n",
    "        \n",
    "        # 遍历T日候选股\n",
    "        for _, t_stock in t_candidates.iterrows():\n",
    "            stock_code = t_stock['stock_code']\n",
    "            t1_stock = self.get_t1_data(stock_code, date)\n",
    "            if t1_stock is None:\n",
    "                continue\n",
    "            \n",
    "            try:\n",
    "                t1_scores = self.calculate_t1_confirm_scores(t_stock, t1_stock)\n",
    "                \n",
    "                # 组装最终结果\n",
    "                final_stock = {\n",
    "                    'T日选股日期': date,\n",
    "                    'T+1确认日期': t1_date,\n",
    "                    '股票代码': stock_code,\n",
    "                    '股票名称': t_stock['stock_name'],\n",
    "                    '所属行业': t_stock['sw_l1_industry_name'],\n",
    "                    'T日基础分(50分)': t_stock['t_score'],\n",
    "                    'T+1确认分(50分)': t1_scores['t1_score'],\n",
    "                    '最终得分(100分)': t1_scores['final_score'],\n",
    "                    'T日高开幅度(%)': round(t_stock['t_open_pct'], 3),\n",
    "                    'T日竞价量5日比': round(t_stock['auc_volume_ratio_vs_5d_avg'], 3),\n",
    "                    'T日成交量5日比': round(t_stock['volume_ratio_vs_5d_avg'], 3),\n",
    "                    'T+1竞价强度(竞价量/T日成交量)': round(t1_scores['t1_auc_strength'], 3),\n",
    "                    'T+1竞价溢价(%)': round(t1_scores['t1_auc_premium'], 3),\n",
    "                    'T+1盘口承接力(买一/卖一)': round(t1_scores['t1_buy_sell_ratio'], 3),\n",
    "                    'T+1买卖价差(%)': round(t1_scores['t1_spread'], 3)\n",
    "                }\n",
    "                final_results.append(final_stock)\n",
    "            except Exception as e:\n",
    "                print(f\"处理股票 {stock_code} 时出错: {str(e)}\")\n",
    "                continue\n",
    "        \n",
    "        if not final_results:\n",
    "            print(f\"{date.strftime('%Y-%m-%d')} 无通过T+1日确认的个股\")\n",
    "            return None\n",
    "        \n",
    "        final_df = pd.DataFrame(final_results)\n",
    "        # 按行业控制数量\n",
    "        industry_filtered = []\n",
    "        for industry in top_industries:\n",
    "            industry_stocks = final_df[final_df['所属行业'] == industry]\n",
    "            if len(industry_stocks) > 0:\n",
    "                top_in_industry = industry_stocks.nlargest(min(2, len(industry_stocks)), '最终得分(100分)')\n",
    "                industry_filtered.append(top_in_industry)\n",
    "        \n",
    "        if not industry_filtered:\n",
    "            print(f\"{date.strftime('%Y-%m-%d')} 行业筛选后无个股\")\n",
    "            return None\n",
    "        \n",
    "        final_selected = pd.concat(industry_filtered, ignore_index=True)\n",
    "        final_selected = final_selected.nlargest(min(6, len(final_selected)), '最终得分(100分)')\n",
    "        \n",
    "        # 保存最终结果\n",
    "        self.final_selections[date] = {\n",
    "            't1_date': t1_date,\n",
    "            'stocks': final_selected\n",
    "        }\n",
    "        print(f\"{date.strftime('%Y-%m-%d')} 双阶段选股完成：{len(final_selected)}只（经T+1日确认）\")\n",
    "        return final_selected\n",
    "\n",
    "    def run_strategy(self, start_date: Optional[str] = None, end_date: Optional[str] = None) -> bool:\n",
    "        \"\"\"执行选股策略\"\"\"\n",
    "        target_dates = self.trading_dates\n",
    "        if start_date:\n",
    "            start = pd.to_datetime(start_date)\n",
    "            target_dates = [d for d in target_dates if d >= start]\n",
    "        if end_date:\n",
    "            end = pd.to_datetime(end_date)\n",
    "            target_dates = [d for d in target_dates if d <= end]\n",
    "        \n",
    "        # 排除最后1个交易日（确保有T+1日）\n",
    "        if len(target_dates) > 1:\n",
    "            target_dates = target_dates[:-1]\n",
    "        else:\n",
    "            print(\"无足够交易日（需至少2个：T日+T+1日）\")\n",
    "            return False\n",
    "        \n",
    "        print(f\"开始双阶段选股：{len(target_dates)} 个交易日\")\n",
    "        \n",
    "        all_results = []\n",
    "        for date in tqdm(target_dates, desc=\"选股进度\"):\n",
    "            try:\n",
    "                daily_result = self.select_stocks_with_t1_confirm(date)\n",
    "                if daily_result is not None and not daily_result.empty:\n",
    "                    all_results.append(daily_result)\n",
    "                    \n",
    "                    # 保存每日结果\n",
    "                    date_str = date.strftime(\"%Y%m%d\")\n",
    "                    daily_result.to_csv(\n",
    "                        os.path.join(self.output_dir, f\"final_selected_{date_str}.csv\"),\n",
    "                        index=False, encoding=\"utf-8-sig\"\n",
    "                    )\n",
    "            except Exception as e:\n",
    "                print(f\"{date.strftime('%Y-%m-%d')} 选股出错: {str(e)}\")\n",
    "                continue\n",
    "        \n",
    "        if all_results:\n",
    "            # 保存合并结果\n",
    "            all_selected = pd.concat(all_results, ignore_index=True)\n",
    "            all_selected.to_csv(\n",
    "                os.path.join(self.output_dir, \"all_final_selected.csv\"),\n",
    "                index=False, encoding=\"utf-8-sig\"\n",
    "            )\n",
    "            print(f\"双阶段选股完成：累计选出 {len(all_selected)} 只个股\")\n",
    "            return True\n",
    "        else:\n",
    "            print(\"未选出任何个股（所有日期均未通过T+1日确认）\")\n",
    "            return False\n",
    "\n",
    "    def evaluate_strategy(self, hold_days: int = 1) -> bool:\n",
    "        \"\"\"评测策略收益\"\"\"\n",
    "        if not self.final_selections:\n",
    "            print(\"无最终选股结果，无法评测\")\n",
    "            return False\n",
    "        \n",
    "        print(f\"开始策略评测：T+1日开盘买入→持有{hold_days}天卖出\")\n",
    "        records = []\n",
    "        \n",
    "        for select_date, data in tqdm(self.final_selections.items(), desc=\"计算收益\"):\n",
    "            t1_buy_date = data['t1_date']\n",
    "            selections = data['stocks']\n",
    "            \n",
    "            # 计算卖出日期\n",
    "            t1_idx = self.trading_dates_map.get(t1_buy_date, -1)\n",
    "            if t1_idx == -1 or t1_idx + hold_days >= len(self.trading_dates):\n",
    "                continue\n",
    "            sell_date = self.trading_dates[t1_idx + hold_days]\n",
    "            \n",
    "            # 遍历每只选出的股票\n",
    "            for _, stock in selections.iterrows():\n",
    "                stock_code = stock['股票代码']\n",
    "                \n",
    "                # 获取T+1日买入价格\n",
    "                t1_data = self.get_t1_data(stock_code, select_date)\n",
    "                if t1_data is None:\n",
    "                    continue\n",
    "                buy_price = t1_data['open']\n",
    "                \n",
    "                # 获取卖出日价格\n",
    "                sell_prev_date = sell_date - timedelta(days=1)\n",
    "                sell_data = self.get_t1_data(stock_code, sell_prev_date)\n",
    "                if sell_data is None:\n",
    "                    continue\n",
    "                sell_price = sell_data['close']\n",
    "                \n",
    "                # 计算收益\n",
    "                profit_pct = (sell_price - buy_price) / self.clip_value(buy_price, 1e-6, float('inf')) * 100\n",
    "                profit_ratio = round(profit_pct, 2)\n",
    "                \n",
    "                # 记录交易详情\n",
    "                records.append({\n",
    "                    'T日选股': select_date,\n",
    "                    'T+1买入日': t1_buy_date,\n",
    "                    '卖出日': sell_date,\n",
    "                    '股票代码': stock_code,\n",
    "                    '股票名称': stock['股票名称'],\n",
    "                    '所属行业': stock['所属行业'],\n",
    "                    '最终得分': stock['最终得分(100分)'],\n",
    "                    'T+1竞价强度': stock['T+1竞价强度(竞价量/T日成交量)'],\n",
    "                    'T+1盘口承接力': stock['T+1盘口承接力(买一/卖一)'],\n",
    "                    '买入价(元)': round(buy_price, 2),\n",
    "                    '卖出价(元)': round(sell_price, 2),\n",
    "                    '收益率(%)': profit_ratio\n",
    "                })\n",
    "        \n",
    "        if not records:\n",
    "            print(\"无有效交易记录用于评测\")\n",
    "            return False\n",
    "        \n",
    "        # 整理交易记录与指标\n",
    "        self.trade_records = pd.DataFrame(records)\n",
    "        total_trades = len(self.trade_records)\n",
    "        profitable = (self.trade_records['收益率(%)'] > 0).sum()\n",
    "        win_rate = round(profitable / total_trades * 100, 2) if total_trades > 0 else 0\n",
    "        \n",
    "        # 验证T+1日指标有效性\n",
    "        t1_factor_perf = {\n",
    "            '竞价强度>1.2': self.trade_records[\n",
    "                self.trade_records['T+1竞价强度'] > 1.2\n",
    "            ]['收益率(%)'].mean() if len(self.trade_records[self.trade_records['T+1竞价强度'] > 1.2]) > 0 else 0,\n",
    "            '竞价强度≤1.2': self.trade_records[\n",
    "                self.trade_records['T+1竞价强度'] <= 1.2\n",
    "            ]['收益率(%)'].mean() if len(self.trade_records[self.trade_records['T+1竞价强度'] <= 1.2]) > 0 else 0,\n",
    "            '承接力>1.5': self.trade_records[\n",
    "                self.trade_records['T+1盘口承接力'] > 1.5\n",
    "            ]['收益率(%)'].mean() if len(self.trade_records[self.trade_records['T+1盘口承接力'] > 1.5]) > 0 else 0,\n",
    "            '承接力≤1.5': self.trade_records[\n",
    "                self.trade_records['T+1盘口承接力'] <= 1.5\n",
    "            ]['收益率(%)'].mean() if len(self.trade_records[self.trade_records['T+1盘口承接力'] <= 1.5]) > 0 else 0\n",
    "        }\n",
    "        \n",
    "        # 计算累计收益\n",
    "        self.trade_records = self.trade_records.sort_values('T+1买入日').reset_index(drop=True)\n",
    "        self.trade_records['累计收益(%)'] = ((1 + self.trade_records['收益率(%)']/100).cumprod() - 1) * 100\n",
    "        \n",
    "        # 整体表现统计\n",
    "        self.performance = {\n",
    "            '总交易次数': total_trades,\n",
    "            '盈利次数': profitable,\n",
    "            '胜率(%)': win_rate,\n",
    "            '平均收益率(%)': round(self.trade_records['收益率(%)'].mean(), 2),\n",
    "            '累计收益率(%)': round(self.trade_records['累计收益(%)'].iloc[-1], 2),\n",
    "            'T+1指标有效性': {k: round(v, 2) for k, v in t1_factor_perf.items()}\n",
    "        }\n",
    "        \n",
    "        # 保存评测结果\n",
    "        self.trade_records.to_csv(\n",
    "            os.path.join(self.eval_dir, \"trade_records.csv\"),\n",
    "            index=False, encoding=\"utf-8-sig\"\n",
    "        )\n",
    "        \n",
    "        # 打印评测结果\n",
    "        print(\"\\n===== 策略评测结果 =====\")\n",
    "        print(f\"交易规则: T日初选→T+1日确认→开盘买入→持有{hold_days}天卖出\")\n",
    "        print(f\"总交易次数: {self.performance['总交易次数']}\")\n",
    "        print(f\"胜率: {self.performance['胜率(%)']}%\")\n",
    "        print(f\"平均收益率: {self.performance['平均收益率(%)']}%\")\n",
    "        print(f\"累计收益率: {self.performance['累计收益率(%)']}%\")\n",
    "        print(\"\\n----- T+1日指标有效性验证 -----\")\n",
    "        for k, v in self.performance['T+1指标有效性'].items():\n",
    "            print(f\"{k} 平均收益率: {v}%\")\n",
    "        \n",
    "        return True\n",
    "\n",
    "    def plot_performance(self) -> None:\n",
    "        \"\"\"可视化策略表现\"\"\"\n",
    "        if self.trade_records is None or self.performance is None:\n",
    "            print(\"无评测数据，无法绘图\")\n",
    "            return\n",
    "        \n",
    "        plt.figure(figsize=(15, 15))\n",
    "        \n",
    "        # 子图1：累计收益率走势\n",
    "        plt.subplot(3, 1, 1)\n",
    "        plt.plot(\n",
    "            self.trade_records['T+1买入日'],\n",
    "            self.trade_records['累计收益(%)'],\n",
    "            'g-', linewidth=2.5,\n",
    "            label=f'累计收益率: {self.performance[\"累计收益率(%)\"]}%'\n",
    "        )\n",
    "        plt.axhline(y=0, color='r', linestyle='--', alpha=0.6)\n",
    "        plt.fill_between(\n",
    "            self.trade_records['T+1买入日'],\n",
    "            self.trade_records['累计收益(%)'],\n",
    "            0,\n",
    "            where=(self.trade_records['累计收益(%)'] >= 0),\n",
    "            color='lightgreen', alpha=0.3\n",
    "        )\n",
    "        plt.title('策略累计收益率走势', fontsize=14)\n",
    "        plt.ylabel('累计收益率(%)', fontsize=12)\n",
    "        plt.grid(alpha=0.3)\n",
    "        plt.legend()\n",
    "        plt.gca().xaxis.set_major_formatter(mdates.DateFormatter('%Y-%m'))\n",
    "        plt.gcf().autofmt_xdate()\n",
    "        \n",
    "        # 子图2：T+1日竞价强度与收益率关系\n",
    "        plt.subplot(3, 1, 2)\n",
    "        self.trade_records['竞价强度区间'] = pd.cut(\n",
    "            self.trade_records['T+1竞价强度'],\n",
    "            bins=[0, 0.5, 1.0, 1.2, 1.5, 3.0, 10.0],\n",
    "            labels=['0-0.5', '0.5-1.0', '1.0-1.2', '1.2-1.5', '1.5-3.0', '3.0+']\n",
    "        )\n",
    "        auc_perf = self.trade_records.groupby('竞价强度区间')['收益率(%)'].agg(['mean', 'count']).reset_index()\n",
    "        \n",
    "        bars = plt.bar(\n",
    "            auc_perf['竞价强度区间'],\n",
    "            auc_perf['mean'],\n",
    "            color='royalblue'\n",
    "        )\n",
    "        plt.axhline(y=0, color='r', linestyle='--', alpha=0.6)\n",
    "        plt.title('T+1日竞价强度与收益率关系', fontsize=14)\n",
    "        plt.ylabel('平均收益率(%)', fontsize=12)\n",
    "        for i, (_, row) in enumerate(auc_perf.iterrows()):\n",
    "            plt.text(i, row['mean'] + 0.05,\n",
    "                     f'{row[\"mean\"]:.2f}%\\n(N={row[\"count\"]})',\n",
    "                     ha='center', va='bottom')\n",
    "        \n",
    "        # 子图3：T+1日盘口承接力与收益率关系\n",
    "        plt.subplot(3, 1, 3)\n",
    "        self.trade_records['承接力区间'] = pd.cut(\n",
    "            self.trade_records['T+1盘口承接力'],\n",
    "            bins=[0, 0.8, 1.2, 1.5, 2.0, 10.0],\n",
    "            labels=['0-0.8', '0.8-1.2', '1.2-1.5', '1.5-2.0', '2.0+']\n",
    "        )\n",
    "        buy_sell_perf = self.trade_records.groupby('承接力区间')['收益率(%)'].agg(['mean', 'count']).reset_index()\n",
    "        \n",
    "        bars = plt.bar(\n",
    "            buy_sell_perf['承接力区间'],\n",
    "            buy_sell_perf['mean'],\n",
    "            color='seagreen'\n",
    "        )\n",
    "        plt.axhline(y=0, color='r', linestyle='--', alpha=0.6)\n",
    "        plt.title('T+1日盘口承接力与收益率关系', fontsize=14)\n",
    "        plt.xlabel('T+1日买一/卖一挂单比区间', fontsize=12)\n",
    "        plt.ylabel('平均收益率(%)', fontsize=12)\n",
    "        for i, (_, row) in enumerate(buy_sell_perf.iterrows()):\n",
    "            plt.text(i, row['mean'] + 0.05,\n",
    "                     f'{row[\"mean\"]:.2f}%\\n(N={row[\"count\"]})',\n",
    "                     ha='center', va='bottom')\n",
    "        \n",
    "        plt.tight_layout(pad=3.0)\n",
    "        plt.savefig(\n",
    "            os.path.join(self.eval_dir, 'strategy_performance.png'),\n",
    "            dpi=300,\n",
    "            bbox_inches='tight'\n",
    "        )\n",
    "        plt.close()\n",
    "        \n",
    "        print(f\"策略表现图表已保存至: {self.eval_dir}/strategy_performance.png\")\n",
    "\n",
    "# 主函数入口\n",
    "if __name__ == \"__main__\":\n",
    "    # 配置参数（请替换为实际路径）\n",
    "    DATA_PATH = r\"D:\\workspace\\xiaoyao\\data\\factortable.parquet\"\n",
    "    START_DATE = \"2025-01-01\"\n",
    "    END_DATE = \"2025-09-20\"\n",
    "    HOLD_DAYS = 1  # 持有天数\n",
    "    \n",
    "    # 启动策略\n",
    "    print(\"=== 启动股票选股策略 ===\")\n",
    "    strategy = StockSelectionStrategy(DATA_PATH)\n",
    "    \n",
    "    # 执行流程\n",
    "    if strategy.load_data():\n",
    "        if strategy.run_strategy(start_date=START_DATE, end_date=END_DATE):\n",
    "            if strategy.evaluate_strategy(hold_days=HOLD_DAYS):\n",
    "                strategy.plot_performance()\n",
    "    \n",
    "    print(f\"\\n所有流程完成!\")\n",
    "    print(f\"最终选股结果目录: {strategy.output_dir}\")\n",
    "    print(f\"评测结果目录: {strategy.eval_dir}\")\n",
    "    "
   ]
  },
  {
   "cell_type": "code",
   "execution_count": null,
   "id": "1cad0047",
   "metadata": {},
   "outputs": [
    {
     "ename": "KeyError",
     "evalue": "'选股日期'",
     "output_type": "error",
     "traceback": [
      "\u001b[1;31m---------------------------------------------------------------------------\u001b[0m",
      "\u001b[1;31mKeyError\u001b[0m                                  Traceback (most recent call last)",
      "Cell \u001b[1;32mIn[10], line 7\u001b[0m\n\u001b[0;32m      4\u001b[0m df \u001b[38;5;241m=\u001b[39m pd\u001b[38;5;241m.\u001b[39mread_csv(\u001b[38;5;124mr\u001b[39m\u001b[38;5;124m'\u001b[39m\u001b[38;5;124mD:\u001b[39m\u001b[38;5;124m\\\u001b[39m\u001b[38;5;124mworkspace\u001b[39m\u001b[38;5;124m\\\u001b[39m\u001b[38;5;124mxiaoyao\u001b[39m\u001b[38;5;124m\\\u001b[39m\u001b[38;5;124mworks\u001b[39m\u001b[38;5;124m\\\u001b[39m\u001b[38;5;124mtrytry\u001b[39m\u001b[38;5;124m\\\u001b[39m\u001b[38;5;124menhanced_strategy_evaluation/trade_records.csv\u001b[39m\u001b[38;5;124m'\u001b[39m)\n\u001b[0;32m      6\u001b[0m \u001b[38;5;66;03m# 按选股日期分组，计算每日平均收益率\u001b[39;00m\n\u001b[1;32m----> 7\u001b[0m sydf \u001b[38;5;241m=\u001b[39m \u001b[43mdf\u001b[49m\u001b[38;5;241;43m.\u001b[39;49m\u001b[43mgroupby\u001b[49m\u001b[43m(\u001b[49m\u001b[38;5;124;43m'\u001b[39;49m\u001b[38;5;124;43m选股日期\u001b[39;49m\u001b[38;5;124;43m'\u001b[39;49m\u001b[43m)\u001b[49m[\u001b[38;5;124m'\u001b[39m\u001b[38;5;124m收益率(\u001b[39m\u001b[38;5;124m%\u001b[39m\u001b[38;5;124m)\u001b[39m\u001b[38;5;124m'\u001b[39m]\u001b[38;5;241m.\u001b[39mmean()\u001b[38;5;241m.\u001b[39mreset_index()\n\u001b[0;32m      9\u001b[0m \u001b[38;5;66;03m# 重命名列名\u001b[39;00m\n\u001b[0;32m     10\u001b[0m sydf \u001b[38;5;241m=\u001b[39m sydf\u001b[38;5;241m.\u001b[39mrename(columns\u001b[38;5;241m=\u001b[39m{\u001b[38;5;124m'\u001b[39m\u001b[38;5;124mT日选股\u001b[39m\u001b[38;5;124m'\u001b[39m: \u001b[38;5;124m'\u001b[39m\u001b[38;5;124mdate\u001b[39m\u001b[38;5;124m'\u001b[39m, \u001b[38;5;124m'\u001b[39m\u001b[38;5;124m收益率(\u001b[39m\u001b[38;5;124m%\u001b[39m\u001b[38;5;124m)\u001b[39m\u001b[38;5;124m'\u001b[39m: \u001b[38;5;124m'\u001b[39m\u001b[38;5;124mreturn\u001b[39m\u001b[38;5;124m'\u001b[39m})\n",
      "File \u001b[1;32md:\\Sdk\\Anaconda3\\envs\\xiaoyao\\lib\\site-packages\\pandas\\core\\frame.py:9190\u001b[0m, in \u001b[0;36mDataFrame.groupby\u001b[1;34m(self, by, axis, level, as_index, sort, group_keys, observed, dropna)\u001b[0m\n\u001b[0;32m   9187\u001b[0m \u001b[38;5;28;01mif\u001b[39;00m level \u001b[38;5;129;01mis\u001b[39;00m \u001b[38;5;28;01mNone\u001b[39;00m \u001b[38;5;129;01mand\u001b[39;00m by \u001b[38;5;129;01mis\u001b[39;00m \u001b[38;5;28;01mNone\u001b[39;00m:\n\u001b[0;32m   9188\u001b[0m     \u001b[38;5;28;01mraise\u001b[39;00m \u001b[38;5;167;01mTypeError\u001b[39;00m(\u001b[38;5;124m\"\u001b[39m\u001b[38;5;124mYou have to supply one of \u001b[39m\u001b[38;5;124m'\u001b[39m\u001b[38;5;124mby\u001b[39m\u001b[38;5;124m'\u001b[39m\u001b[38;5;124m and \u001b[39m\u001b[38;5;124m'\u001b[39m\u001b[38;5;124mlevel\u001b[39m\u001b[38;5;124m'\u001b[39m\u001b[38;5;124m\"\u001b[39m)\n\u001b[1;32m-> 9190\u001b[0m \u001b[38;5;28;01mreturn\u001b[39;00m \u001b[43mDataFrameGroupBy\u001b[49m\u001b[43m(\u001b[49m\n\u001b[0;32m   9191\u001b[0m \u001b[43m    \u001b[49m\u001b[43mobj\u001b[49m\u001b[38;5;241;43m=\u001b[39;49m\u001b[38;5;28;43mself\u001b[39;49m\u001b[43m,\u001b[49m\n\u001b[0;32m   9192\u001b[0m \u001b[43m    \u001b[49m\u001b[43mkeys\u001b[49m\u001b[38;5;241;43m=\u001b[39;49m\u001b[43mby\u001b[49m\u001b[43m,\u001b[49m\n\u001b[0;32m   9193\u001b[0m \u001b[43m    \u001b[49m\u001b[43maxis\u001b[49m\u001b[38;5;241;43m=\u001b[39;49m\u001b[43maxis\u001b[49m\u001b[43m,\u001b[49m\n\u001b[0;32m   9194\u001b[0m \u001b[43m    \u001b[49m\u001b[43mlevel\u001b[49m\u001b[38;5;241;43m=\u001b[39;49m\u001b[43mlevel\u001b[49m\u001b[43m,\u001b[49m\n\u001b[0;32m   9195\u001b[0m \u001b[43m    \u001b[49m\u001b[43mas_index\u001b[49m\u001b[38;5;241;43m=\u001b[39;49m\u001b[43mas_index\u001b[49m\u001b[43m,\u001b[49m\n\u001b[0;32m   9196\u001b[0m \u001b[43m    \u001b[49m\u001b[43msort\u001b[49m\u001b[38;5;241;43m=\u001b[39;49m\u001b[43msort\u001b[49m\u001b[43m,\u001b[49m\n\u001b[0;32m   9197\u001b[0m \u001b[43m    \u001b[49m\u001b[43mgroup_keys\u001b[49m\u001b[38;5;241;43m=\u001b[39;49m\u001b[43mgroup_keys\u001b[49m\u001b[43m,\u001b[49m\n\u001b[0;32m   9198\u001b[0m \u001b[43m    \u001b[49m\u001b[43mobserved\u001b[49m\u001b[38;5;241;43m=\u001b[39;49m\u001b[43mobserved\u001b[49m\u001b[43m,\u001b[49m\n\u001b[0;32m   9199\u001b[0m \u001b[43m    \u001b[49m\u001b[43mdropna\u001b[49m\u001b[38;5;241;43m=\u001b[39;49m\u001b[43mdropna\u001b[49m\u001b[43m,\u001b[49m\n\u001b[0;32m   9200\u001b[0m \u001b[43m\u001b[49m\u001b[43m)\u001b[49m\n",
      "File \u001b[1;32md:\\Sdk\\Anaconda3\\envs\\xiaoyao\\lib\\site-packages\\pandas\\core\\groupby\\groupby.py:1330\u001b[0m, in \u001b[0;36mGroupBy.__init__\u001b[1;34m(self, obj, keys, axis, level, grouper, exclusions, selection, as_index, sort, group_keys, observed, dropna)\u001b[0m\n\u001b[0;32m   1327\u001b[0m \u001b[38;5;28mself\u001b[39m\u001b[38;5;241m.\u001b[39mdropna \u001b[38;5;241m=\u001b[39m dropna\n\u001b[0;32m   1329\u001b[0m \u001b[38;5;28;01mif\u001b[39;00m grouper \u001b[38;5;129;01mis\u001b[39;00m \u001b[38;5;28;01mNone\u001b[39;00m:\n\u001b[1;32m-> 1330\u001b[0m     grouper, exclusions, obj \u001b[38;5;241m=\u001b[39m \u001b[43mget_grouper\u001b[49m\u001b[43m(\u001b[49m\n\u001b[0;32m   1331\u001b[0m \u001b[43m        \u001b[49m\u001b[43mobj\u001b[49m\u001b[43m,\u001b[49m\n\u001b[0;32m   1332\u001b[0m \u001b[43m        \u001b[49m\u001b[43mkeys\u001b[49m\u001b[43m,\u001b[49m\n\u001b[0;32m   1333\u001b[0m \u001b[43m        \u001b[49m\u001b[43maxis\u001b[49m\u001b[38;5;241;43m=\u001b[39;49m\u001b[43maxis\u001b[49m\u001b[43m,\u001b[49m\n\u001b[0;32m   1334\u001b[0m \u001b[43m        \u001b[49m\u001b[43mlevel\u001b[49m\u001b[38;5;241;43m=\u001b[39;49m\u001b[43mlevel\u001b[49m\u001b[43m,\u001b[49m\n\u001b[0;32m   1335\u001b[0m \u001b[43m        \u001b[49m\u001b[43msort\u001b[49m\u001b[38;5;241;43m=\u001b[39;49m\u001b[43msort\u001b[49m\u001b[43m,\u001b[49m\n\u001b[0;32m   1336\u001b[0m \u001b[43m        \u001b[49m\u001b[43mobserved\u001b[49m\u001b[38;5;241;43m=\u001b[39;49m\u001b[38;5;28;43;01mFalse\u001b[39;49;00m\u001b[43m \u001b[49m\u001b[38;5;28;43;01mif\u001b[39;49;00m\u001b[43m \u001b[49m\u001b[43mobserved\u001b[49m\u001b[43m \u001b[49m\u001b[38;5;129;43;01mis\u001b[39;49;00m\u001b[43m \u001b[49m\u001b[43mlib\u001b[49m\u001b[38;5;241;43m.\u001b[39;49m\u001b[43mno_default\u001b[49m\u001b[43m \u001b[49m\u001b[38;5;28;43;01melse\u001b[39;49;00m\u001b[43m \u001b[49m\u001b[43mobserved\u001b[49m\u001b[43m,\u001b[49m\n\u001b[0;32m   1337\u001b[0m \u001b[43m        \u001b[49m\u001b[43mdropna\u001b[49m\u001b[38;5;241;43m=\u001b[39;49m\u001b[38;5;28;43mself\u001b[39;49m\u001b[38;5;241;43m.\u001b[39;49m\u001b[43mdropna\u001b[49m\u001b[43m,\u001b[49m\n\u001b[0;32m   1338\u001b[0m \u001b[43m    \u001b[49m\u001b[43m)\u001b[49m\n\u001b[0;32m   1340\u001b[0m \u001b[38;5;28;01mif\u001b[39;00m observed \u001b[38;5;129;01mis\u001b[39;00m lib\u001b[38;5;241m.\u001b[39mno_default:\n\u001b[0;32m   1341\u001b[0m     \u001b[38;5;28;01mif\u001b[39;00m \u001b[38;5;28many\u001b[39m(ping\u001b[38;5;241m.\u001b[39m_passed_categorical \u001b[38;5;28;01mfor\u001b[39;00m ping \u001b[38;5;129;01min\u001b[39;00m grouper\u001b[38;5;241m.\u001b[39mgroupings):\n",
      "File \u001b[1;32md:\\Sdk\\Anaconda3\\envs\\xiaoyao\\lib\\site-packages\\pandas\\core\\groupby\\grouper.py:1043\u001b[0m, in \u001b[0;36mget_grouper\u001b[1;34m(obj, key, axis, level, sort, observed, validate, dropna)\u001b[0m\n\u001b[0;32m   1041\u001b[0m         in_axis, level, gpr \u001b[38;5;241m=\u001b[39m \u001b[38;5;28;01mFalse\u001b[39;00m, gpr, \u001b[38;5;28;01mNone\u001b[39;00m\n\u001b[0;32m   1042\u001b[0m     \u001b[38;5;28;01melse\u001b[39;00m:\n\u001b[1;32m-> 1043\u001b[0m         \u001b[38;5;28;01mraise\u001b[39;00m \u001b[38;5;167;01mKeyError\u001b[39;00m(gpr)\n\u001b[0;32m   1044\u001b[0m \u001b[38;5;28;01melif\u001b[39;00m \u001b[38;5;28misinstance\u001b[39m(gpr, Grouper) \u001b[38;5;129;01mand\u001b[39;00m gpr\u001b[38;5;241m.\u001b[39mkey \u001b[38;5;129;01mis\u001b[39;00m \u001b[38;5;129;01mnot\u001b[39;00m \u001b[38;5;28;01mNone\u001b[39;00m:\n\u001b[0;32m   1045\u001b[0m     \u001b[38;5;66;03m# Add key to exclusions\u001b[39;00m\n\u001b[0;32m   1046\u001b[0m     exclusions\u001b[38;5;241m.\u001b[39madd(gpr\u001b[38;5;241m.\u001b[39mkey)\n",
      "\u001b[1;31mKeyError\u001b[0m: '选股日期'"
     ]
    }
   ],
   "source": [
    "import pandas as pd\n",
    "\n",
    "# 读取交易记录文件\n",
    "df = pd.read_csv(r'D:\\workspace\\xiaoyao\\works\\trytry\\enhanced_strategy_evaluation/trade_records.csv')\n",
    "\n",
    "# 按选股日期分组，计算每日平均收益率\n",
    "sydf = df.groupby('T日选股')['收益率(%)'].mean().reset_index()\n",
    "\n",
    "# 重命名列名\n",
    "sydf = sydf.rename(columns={'T日选股': 'date', '收益率(%)': 'return'})\n",
    "\n",
    "# 查看结果\n",
    "print(sydf.head())"
   ]
  },
  {
   "cell_type": "code",
   "execution_count": 11,
   "id": "5b770dfc",
   "metadata": {},
   "outputs": [
    {
     "ename": "NameError",
     "evalue": "name 'sydf' is not defined",
     "output_type": "error",
     "traceback": [
      "\u001b[1;31m---------------------------------------------------------------------------\u001b[0m",
      "\u001b[1;31mNameError\u001b[0m                                 Traceback (most recent call last)",
      "Cell \u001b[1;32mIn[11], line 2\u001b[0m\n\u001b[0;32m      1\u001b[0m \u001b[38;5;66;03m# 用1+0.5*return后 得到收益增长\u001b[39;00m\n\u001b[1;32m----> 2\u001b[0m sydf[\u001b[38;5;124m'\u001b[39m\u001b[38;5;124mreturn\u001b[39m\u001b[38;5;124m'\u001b[39m] \u001b[38;5;241m=\u001b[39m \u001b[38;5;241m1\u001b[39m \u001b[38;5;241m+\u001b[39m \u001b[38;5;241m0.5\u001b[39m \u001b[38;5;241m*\u001b[39m \u001b[43msydf\u001b[49m[\u001b[38;5;124m'\u001b[39m\u001b[38;5;124mreturn\u001b[39m\u001b[38;5;124m'\u001b[39m]\u001b[38;5;241m/\u001b[39m\u001b[38;5;241m100\u001b[39m\n\u001b[0;32m      3\u001b[0m sydf\n",
      "\u001b[1;31mNameError\u001b[0m: name 'sydf' is not defined"
     ]
    }
   ],
   "source": [
    "# 用1+0.5*return后 得到收益增长\n",
    "sydf['return'] = 1 + 0.5 * sydf['return']/100\n",
    "sydf"
   ]
  },
  {
   "cell_type": "code",
   "execution_count": null,
   "id": "525a91b0",
   "metadata": {},
   "outputs": [
    {
     "data": {
      "text/html": [
       "<div>\n",
       "<style scoped>\n",
       "    .dataframe tbody tr th:only-of-type {\n",
       "        vertical-align: middle;\n",
       "    }\n",
       "\n",
       "    .dataframe tbody tr th {\n",
       "        vertical-align: top;\n",
       "    }\n",
       "\n",
       "    .dataframe thead th {\n",
       "        text-align: right;\n",
       "    }\n",
       "</style>\n",
       "<table border=\"1\" class=\"dataframe\">\n",
       "  <thead>\n",
       "    <tr style=\"text-align: right;\">\n",
       "      <th></th>\n",
       "      <th>date</th>\n",
       "      <th>return</th>\n",
       "    </tr>\n",
       "  </thead>\n",
       "  <tbody>\n",
       "    <tr>\n",
       "      <th>0</th>\n",
       "      <td>2025-01-03</td>\n",
       "      <td>1.004290</td>\n",
       "    </tr>\n",
       "    <tr>\n",
       "      <th>1</th>\n",
       "      <td>2025-01-06</td>\n",
       "      <td>0.997501</td>\n",
       "    </tr>\n",
       "    <tr>\n",
       "      <th>2</th>\n",
       "      <td>2025-01-07</td>\n",
       "      <td>1.003960</td>\n",
       "    </tr>\n",
       "    <tr>\n",
       "      <th>3</th>\n",
       "      <td>2025-01-08</td>\n",
       "      <td>0.992595</td>\n",
       "    </tr>\n",
       "    <tr>\n",
       "      <th>4</th>\n",
       "      <td>2025-01-09</td>\n",
       "      <td>0.965050</td>\n",
       "    </tr>\n",
       "    <tr>\n",
       "      <th>...</th>\n",
       "      <td>...</td>\n",
       "      <td>...</td>\n",
       "    </tr>\n",
       "    <tr>\n",
       "      <th>169</th>\n",
       "      <td>2025-09-12</td>\n",
       "      <td>1.293662</td>\n",
       "    </tr>\n",
       "    <tr>\n",
       "      <th>170</th>\n",
       "      <td>2025-09-15</td>\n",
       "      <td>1.305575</td>\n",
       "    </tr>\n",
       "    <tr>\n",
       "      <th>171</th>\n",
       "      <td>2025-09-16</td>\n",
       "      <td>1.303834</td>\n",
       "    </tr>\n",
       "    <tr>\n",
       "      <th>172</th>\n",
       "      <td>2025-09-17</td>\n",
       "      <td>1.295046</td>\n",
       "    </tr>\n",
       "    <tr>\n",
       "      <th>173</th>\n",
       "      <td>2025-09-18</td>\n",
       "      <td>1.285808</td>\n",
       "    </tr>\n",
       "  </tbody>\n",
       "</table>\n",
       "<p>174 rows × 2 columns</p>\n",
       "</div>"
      ],
      "text/plain": [
       "           date    return\n",
       "0    2025-01-03  1.004290\n",
       "1    2025-01-06  0.997501\n",
       "2    2025-01-07  1.003960\n",
       "3    2025-01-08  0.992595\n",
       "4    2025-01-09  0.965050\n",
       "..          ...       ...\n",
       "169  2025-09-12  1.293662\n",
       "170  2025-09-15  1.305575\n",
       "171  2025-09-16  1.303834\n",
       "172  2025-09-17  1.295046\n",
       "173  2025-09-18  1.285808\n",
       "\n",
       "[174 rows x 2 columns]"
      ]
     },
     "execution_count": 31,
     "metadata": {},
     "output_type": "execute_result"
    }
   ],
   "source": [
    "# 将return依次连乘，得到累计收益率\n",
    "sydf['return'] = sydf['return'].cumprod()\n",
    "sydf"
   ]
  },
  {
   "cell_type": "code",
   "execution_count": null,
   "id": "1403db22",
   "metadata": {},
   "outputs": [],
   "source": []
  }
 ],
 "metadata": {
  "kernelspec": {
   "display_name": "xiaoyao",
   "language": "python",
   "name": "python3"
  },
  "language_info": {
   "codemirror_mode": {
    "name": "ipython",
    "version": 3
   },
   "file_extension": ".py",
   "mimetype": "text/x-python",
   "name": "python",
   "nbconvert_exporter": "python",
   "pygments_lexer": "ipython3",
   "version": "3.10.6"
  }
 },
 "nbformat": 4,
 "nbformat_minor": 5
}
