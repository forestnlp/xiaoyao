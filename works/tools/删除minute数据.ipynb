{
 "cells": [
  {
   "cell_type": "code",
   "execution_count": 1,
   "id": "036c659c",
   "metadata": {},
   "outputs": [
    {
     "name": "stdout",
     "output_type": "stream",
     "text": [
      "Deleted directory: D:\\workspace\\xiaoyao\\data\\stock_minutely_price\\date=20250102\n",
      "Deleted directory: D:\\workspace\\xiaoyao\\data\\stock_minutely_price\\date=20250103\n",
      "Deleted directory: D:\\workspace\\xiaoyao\\data\\stock_minutely_price\\date=20250106\n",
      "Deleted directory: D:\\workspace\\xiaoyao\\data\\stock_minutely_price\\date=20251009\n"
     ]
    }
   ],
   "source": [
    "# 删除D:\\workspace\\xiaoyao\\data\\stock_minutely_price目录下所有子目录和文件\n",
    "import os\n",
    "import shutil\n",
    "\n",
    "# 定义目录路径\n",
    "dir_path = r\"D:\\workspace\\xiaoyao\\data\\stock_minutely_price\"\n",
    "\n",
    "# 遍历目录下所有子目录和文件\n",
    "for root, dirs, files in os.walk(dir_path):\n",
    "    for file in files:\n",
    "        # 构建文件的完整路径\n",
    "        file_path = os.path.join(root, file)\n",
    "        # 删除文件\n",
    "        os.remove(file_path)\n",
    "        print(f\"Deleted file: {file_path}\")\n",
    "    \n",
    "    for dir in dirs:\n",
    "        # 构建目录的完整路径\n",
    "        dir_path = os.path.join(root, dir)\n",
    "        # 删除目录\n",
    "        shutil.rmtree(dir_path)\n",
    "        print(f\"Deleted directory: {dir_path}\")"
   ]
  },
  {
   "cell_type": "code",
   "execution_count": null,
   "id": "ed5da6ca",
   "metadata": {},
   "outputs": [],
   "source": []
  }
 ],
 "metadata": {
  "kernelspec": {
   "display_name": "xiaoyao",
   "language": "python",
   "name": "python3"
  },
  "language_info": {
   "codemirror_mode": {
    "name": "ipython",
    "version": 3
   },
   "file_extension": ".py",
   "mimetype": "text/x-python",
   "name": "python",
   "nbconvert_exporter": "python",
   "pygments_lexer": "ipython3",
   "version": "3.10.6"
  }
 },
 "nbformat": 4,
 "nbformat_minor": 5
}
