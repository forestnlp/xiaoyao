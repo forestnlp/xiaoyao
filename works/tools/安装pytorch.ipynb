{
 "cells": [
  {
   "cell_type": "markdown",
   "id": "248004c6",
   "metadata": {},
   "source": [
    "## 查看环境"
   ]
  },
  {
   "cell_type": "code",
   "execution_count": 1,
   "id": "fae25e2f",
   "metadata": {},
   "outputs": [
    {
     "name": "stdout",
     "output_type": "stream",
     "text": [
      "1.9.0+cu102\n"
     ]
    }
   ],
   "source": [
    "import torch\n",
    "print(torch.__version__)  # 输出PyTorch版本，如2.3.1+cu118"
   ]
  },
  {
   "cell_type": "markdown",
   "id": "a757c356",
   "metadata": {},
   "source": []
  }
 ],
 "metadata": {
  "kernelspec": {
   "display_name": "pytorch",
   "language": "python",
   "name": "python3"
  },
  "language_info": {
   "codemirror_mode": {
    "name": "ipython",
    "version": 3
   },
   "file_extension": ".py",
   "mimetype": "text/x-python",
   "name": "python",
   "nbconvert_exporter": "python",
   "pygments_lexer": "ipython3",
   "version": "3.8.10"
  }
 },
 "nbformat": 4,
 "nbformat_minor": 5
}
