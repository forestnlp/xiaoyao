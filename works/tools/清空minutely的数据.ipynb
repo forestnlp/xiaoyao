{
 "cells": [
  {
   "cell_type": "code",
   "execution_count": 1,
   "id": "fdbc7046",
   "metadata": {},
   "outputs": [
    {
     "name": "stdout",
     "output_type": "stream",
     "text": [
      "已删除路径: D:\\workspace\\xiaoyao\\data\\stock_minutely_price\n"
     ]
    }
   ],
   "source": [
    "# 删除D:\\workspace\\xiaoyao\\data\\stock_minutely_price下的所有文件和子目录\n",
    "import os\n",
    "import shutil\n",
    "\n",
    "# 定义路径\n",
    "path = r\"D:\\workspace\\xiaoyao\\data\\stock_minutely_price\"\n",
    "\n",
    "# 检查路径是否存在\n",
    "if os.path.exists(path):\n",
    "    # 删除所有文件和子目录\n",
    "    shutil.rmtree(path)\n",
    "    print(f\"已删除路径: {path}\")\n",
    "else:\n",
    "    print(f\"路径不存在: {path}\")"
   ]
  },
  {
   "cell_type": "code",
   "execution_count": null,
   "id": "86f1ac11",
   "metadata": {},
   "outputs": [],
   "source": []
  }
 ],
 "metadata": {
  "kernelspec": {
   "display_name": "xiaoyao",
   "language": "python",
   "name": "python3"
  },
  "language_info": {
   "codemirror_mode": {
    "name": "ipython",
    "version": 3
   },
   "file_extension": ".py",
   "mimetype": "text/x-python",
   "name": "python",
   "nbconvert_exporter": "python",
   "pygments_lexer": "ipython3",
   "version": "3.10.18"
  }
 },
 "nbformat": 4,
 "nbformat_minor": 5
}
