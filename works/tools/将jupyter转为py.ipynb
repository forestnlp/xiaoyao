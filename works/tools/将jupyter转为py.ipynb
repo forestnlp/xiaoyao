{
 "cells": [
  {
   "cell_type": "code",
   "execution_count": null,
   "id": "0799f0b2",
   "metadata": {},
   "outputs": [
    {
     "name": "stdout",
     "output_type": "stream",
     "text": [
      "转换成功：D:\\workspace\\xiaoyao\\works\\preprocessor\\factors.py\n",
      "共提取 4 个代码块\n",
      "转换成功：D:\\workspace\\xiaoyao\\works\\preprocessor\\widetable.py\n",
      "共提取 9 个代码块\n"
     ]
    },
    {
     "ename": "",
     "evalue": "",
     "output_type": "error",
     "traceback": [
      "\u001b[1;31mThe Kernel crashed while executing code in the current cell or a previous cell. \n",
      "\u001b[1;31mPlease review the code in the cell(s) to identify a possible cause of the failure. \n",
      "\u001b[1;31mClick <a href='https://aka.ms/vscodeJupyterKernelCrash'>here</a> for more info. \n",
      "\u001b[1;31mView Jupyter <a href='command:jupyter.viewOutput'>log</a> for further details."
     ]
    }
   ],
   "source": [
    "import json\n",
    "import os\n",
    "\n",
    "def convert_notebook_to_python(ipynb_file):\n",
    "    \"\"\"\n",
    "    从.ipynb文件中提取代码，保存为.py文件\n",
    "    不依赖任何Jupyter扩展，纯JSON解析\n",
    "    \"\"\"\n",
    "    # 检查文件是否存在\n",
    "    if not os.path.exists(ipynb_file):\n",
    "        print(f\"错误：文件 {ipynb_file} 不存在\")\n",
    "        return\n",
    "    \n",
    "    # 读取Notebook的JSON结构\n",
    "    with open(ipynb_file, 'r', encoding='utf-8') as f:\n",
    "        try:\n",
    "            notebook_data = json.load(f)\n",
    "        except json.JSONDecodeError:\n",
    "            print(f\"错误：{ipynb_file} 不是有效的JSON文件（可能已损坏）\")\n",
    "            return\n",
    "    \n",
    "    # 提取所有代码单元格\n",
    "    code_cells = []\n",
    "    for cell in notebook_data.get('cells', []):\n",
    "        if cell.get('cell_type') == 'code':\n",
    "            # 提取代码内容（忽略输出）\n",
    "            code = ''.join(cell.get('source', []))\n",
    "            code_cells.append(code)\n",
    "    \n",
    "    # 生成输出文件名\n",
    "    py_file = os.path.splitext(ipynb_file)[0] + '.py'\n",
    "    \n",
    "    # 写入Python文件\n",
    "    with open(py_file, 'w', encoding='utf-8') as f:\n",
    "        # 加入分隔注释，区分不同代码块\n",
    "        f.write(\"# 从Jupyter Notebook转换而来的Python代码\\n\")\n",
    "        f.write(\"# 原始文件：\" + ipynb_file + \"\\n\\n\")\n",
    "        f.write('\\n\\n# ' + '-'*70 + '\\n\\n'.join(code_cells))\n",
    "    \n",
    "    print(f\"转换成功：{py_file}\")\n",
    "    print(f\"共提取 {len(code_cells)} 个代码块\")\n",
    "\n",
    "if __name__ == '__main__':\n",
    "    import sys\n",
    "    \n",
    "    # 定义要转换的目录\n",
    "    target_dir = r\"D:\\workspace\\xiaoyao\\works\\preprocessor\"\n",
    "    \n",
    "    # 将指定目录下的ipynb格式的文件批量进行转换，传入函数的是全路径\n",
    "    for file in os.listdir(target_dir):\n",
    "        if file.endswith('.ipynb'):\n",
    "            # 将file组装为全路径\n",
    "            ipynb_file = os.path.join(target_dir, file)\n",
    "            convert_notebook_to_python(ipynb_file)"
   ]
  },
  {
   "cell_type": "code",
   "execution_count": null,
   "id": "4acfb426",
   "metadata": {},
   "outputs": [],
   "source": []
  }
 ],
 "metadata": {
  "kernelspec": {
   "display_name": "xiaoyao",
   "language": "python",
   "name": "python3"
  },
  "language_info": {
   "codemirror_mode": {
    "name": "ipython",
    "version": 3
   },
   "file_extension": ".py",
   "mimetype": "text/x-python",
   "name": "python",
   "nbconvert_exporter": "python",
   "pygments_lexer": "ipython3",
   "version": "3.10.18"
  }
 },
 "nbformat": 4,
 "nbformat_minor": 5
}
