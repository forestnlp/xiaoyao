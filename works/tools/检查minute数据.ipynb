{
 "cells": [
  {
   "cell_type": "code",
   "execution_count": 1,
   "id": "fcbede47",
   "metadata": {},
   "outputs": [
    {
     "name": "stdout",
     "output_type": "stream",
     "text": [
      "目录 D:\\workspace\\xiaoyao\\data\\stock_minutely_price 下有 5447 个parquet文件\n"
     ]
    }
   ],
   "source": [
    "# 读取D:\\workspace\\xiaoyao\\data\\stock_minutely_price目录，检查*.parquet文件的数量\n",
    "import os\n",
    "import pandas as pd\n",
    "\n",
    "dir_path = r'D:\\workspace\\xiaoyao\\data\\stock_minutely_price'\n",
    "files = os.listdir(dir_path)\n",
    "parquet_files = [f for f in files if f.endswith(\".parquet\")]\n",
    "print(f\"目录 {dir_path} 下有 {len(parquet_files)} 个parquet文件\")\n"
   ]
  },
  {
   "cell_type": "code",
   "execution_count": null,
   "id": "5480b5ca",
   "metadata": {},
   "outputs": [],
   "source": [
    "# 将目录下所有的parquet读取，统计是否存在以下的日期：2025-09-30\n",
    "import pandas as pd\n",
    "import os\n",
    "\n",
    "dir_path = r'd:\\workspace\\xiaoyao\\data\\stock_minutely_price'\n",
    "target_date = '2025-09-22'\n",
    "\n",
    "# 遍历目录下所有parquet文件\n",
    "for file_name in os.listdir(dir_path):\n",
    "    if file_name.endswith('.parquet'):\n",
    "        file_path = os.path.join(dir_path, file_name)\n",
    "        \n",
    "        # 读取parquet文件\n",
    "        df = pd.read_parquet(file_path)\n",
    "        \n",
    "        # 将df里的date转换为字符串格式\n",
    "        df['date'] = df['date'].astype(str)\n",
    "        \n",
    "        # 检查日期列是否包含目标日期\n",
    "        if target_date in df['date'].values:\n",
    "            pass\n",
    "        else:\n",
    "            print(f\"文件 {file_name} 不包含日期 {target_date}\")"
   ]
  },
  {
   "cell_type": "code",
   "execution_count": null,
   "id": "5a252c45",
   "metadata": {},
   "outputs": [],
   "source": []
  }
 ],
 "metadata": {
  "kernelspec": {
   "display_name": "xiaoyao",
   "language": "python",
   "name": "python3"
  },
  "language_info": {
   "codemirror_mode": {
    "name": "ipython",
    "version": 3
   },
   "file_extension": ".py",
   "mimetype": "text/x-python",
   "name": "python",
   "nbconvert_exporter": "python",
   "pygments_lexer": "ipython3",
   "version": "3.10.18"
  }
 },
 "nbformat": 4,
 "nbformat_minor": 5
}
