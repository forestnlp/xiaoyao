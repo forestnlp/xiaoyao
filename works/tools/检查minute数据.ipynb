{
 "cells": [
  {
   "cell_type": "code",
   "execution_count": 3,
   "id": "fcbede47",
   "metadata": {},
   "outputs": [
    {
     "name": "stdout",
     "output_type": "stream",
     "text": [
      "目录 D:\\workspace\\xiaoyao\\data\\stock_minutely_price 下有 5447 个parquet文件\n"
     ]
    }
   ],
   "source": [
    "# 读取D:\\workspace\\xiaoyao\\data\\stock_minutely_price目录，检查*.parquet文件的数量\n",
    "import os\n",
    "import pandas as pd\n",
    "\n",
    "dir_path = r'D:\\workspace\\xiaoyao\\data\\stock_minutely_price'\n",
    "files = os.listdir(dir_path)\n",
    "parquet_files = [f for f in files if f.endswith(\".parquet\")]\n",
    "print(f\"目录 {dir_path} 下有 {len(parquet_files)} 个parquet文件\")\n"
   ]
  },
  {
   "cell_type": "code",
   "execution_count": null,
   "id": "5480b5ca",
   "metadata": {},
   "outputs": [],
   "source": []
  }
 ],
 "metadata": {
  "kernelspec": {
   "display_name": "xiaoyao",
   "language": "python",
   "name": "python3"
  },
  "language_info": {
   "codemirror_mode": {
    "name": "ipython",
    "version": 3
   },
   "file_extension": ".py",
   "mimetype": "text/x-python",
   "name": "python",
   "nbconvert_exporter": "python",
   "pygments_lexer": "ipython3",
   "version": "3.10.6"
  }
 },
 "nbformat": 4,
 "nbformat_minor": 5
}
