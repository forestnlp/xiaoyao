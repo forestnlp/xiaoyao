{
 "cells": [
  {
   "cell_type": "code",
   "execution_count": null,
   "id": "b373b887",
   "metadata": {},
   "outputs": [
    {
     "name": "stdout",
     "output_type": "stream",
     "text": [
      "✅ Redis数据库已清空\n"
     ]
    },
    {
     "ename": "",
     "evalue": "",
     "output_type": "error",
     "traceback": [
      "\u001b[1;31mThe Kernel crashed while executing code in the current cell or a previous cell. \n",
      "\u001b[1;31mPlease review the code in the cell(s) to identify a possible cause of the failure. \n",
      "\u001b[1;31mClick <a href='https://aka.ms/vscodeJupyterKernelCrash'>here</a> for more info. \n",
      "\u001b[1;31mView Jupyter <a href='command:jupyter.viewOutput'>log</a> for further details."
     ]
    }
   ],
   "source": [
    "# 读取redis.conf文件\n",
    "with open('redis.conf', 'r') as f:\n",
    "    for line in f:\n",
    "        if line.startswith('host='):\n",
    "            host = line.split('=')[1].strip()\n",
    "        elif line.startswith('port='):\n",
    "            port = int(line.split('=')[1].strip())\n",
    "        elif line.startswith('password='):\n",
    "            password = line.split('=')[1].strip()\n",
    "            \n",
    "# 连接Redis\n",
    "import redis\n",
    "redis_conn = redis.Redis(host=host, port=port, password=password, db=0)\n",
    "\n",
    "#清空db\n",
    "redis_conn.flushdb()\n",
    "print(\"✅ Redis数据库已清空\")"
   ]
  },
  {
   "cell_type": "code",
   "execution_count": null,
   "id": "001be120",
   "metadata": {},
   "outputs": [],
   "source": []
  }
 ],
 "metadata": {
  "kernelspec": {
   "display_name": "xiaoyao",
   "language": "python",
   "name": "python3"
  },
  "language_info": {
   "codemirror_mode": {
    "name": "ipython",
    "version": 3
   },
   "file_extension": ".py",
   "mimetype": "text/x-python",
   "name": "python",
   "nbconvert_exporter": "python",
   "pygments_lexer": "ipython3",
   "version": "3.10.6"
  }
 },
 "nbformat": 4,
 "nbformat_minor": 5
}
