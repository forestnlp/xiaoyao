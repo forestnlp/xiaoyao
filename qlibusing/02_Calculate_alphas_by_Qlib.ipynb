{
 "cells": [
  {
   "cell_type": "code",
   "execution_count": null,
   "id": "8d2b426a",
   "metadata": {},
   "outputs": [],
   "source": []
  },
  {
   "cell_type": "code",
   "execution_count": null,
   "id": "93317225",
   "metadata": {},
   "outputs": [],
   "source": [
    "# 测试一下expression相关的api\n"
   ]
  },
  {
   "cell_type": "code",
   "execution_count": null,
   "id": "65f85eba",
   "metadata": {},
   "outputs": [],
   "source": [
    "# 测试一下expression相关的api\n"
   ]
  },
  {
   "cell_type": "code",
   "execution_count": null,
   "id": "13080826",
   "metadata": {},
   "outputs": [],
   "source": [
    "# 测试一下expression相关的api\n"
   ]
  },
  {
   "cell_type": "code",
   "execution_count": null,
   "id": "183e64e3",
   "metadata": {},
   "outputs": [],
   "source": [
    "# 测试一下expression相关的api\n"
   ]
  }
 ],
 "metadata": {
  "kernelspec": {
   "display_name": "xiaoyao",
   "language": "python",
   "name": "python3"
  },
  "language_info": {
   "codemirror_mode": {
    "name": "ipython",
    "version": 3
   },
   "file_extension": ".py",
   "mimetype": "text/x-python",
   "name": "python",
   "nbconvert_exporter": "python",
   "pygments_lexer": "ipython3",
   "version": "3.10.6"
  }
 },
 "nbformat": 4,
 "nbformat_minor": 5
}
