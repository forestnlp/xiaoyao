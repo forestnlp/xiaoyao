{
 "cells": [
  {
   "cell_type": "code",
   "execution_count": 9,
   "id": "4453aee5",
   "metadata": {},
   "outputs": [
    {
     "name": "stdout",
     "output_type": "stream",
     "text": [
      "当前 pyqlib 版本： 0.9.7\n",
      "\n",
      "qlib 模块的所有属性（前20个）：\n",
      "['__doc__', '__file__', '__loader__', '__name__', '__package__', '__path__', '__spec__', 'config', 'constant', 'contrib', 'data', 'log', 'typehint', 'utils']\n",
      "\n",
      "qlib 是否有 init 方法： False\n"
     ]
    }
   ],
   "source": [
    "# 1. 查看当前环境中 pyqlib 的真实版本\n",
    "import importlib.metadata\n",
    "print(\"当前 pyqlib 版本：\", importlib.metadata.version(\"pyqlib\"))\n",
    "\n",
    "# 2. 尝试完整导入 qlib 并查看是否有 init 方法\n",
    "import qlib\n",
    "print(\"\\nqlib 模块的所有属性（前20个）：\")\n",
    "print(dir(qlib)[:20])  # 查看 qlib 模块是否有 init 属性\n",
    "print(\"\\nqlib 是否有 init 方法：\", hasattr(qlib, \"init\"))"
   ]
  },
  {
   "cell_type": "code",
   "execution_count": 8,
   "id": "d8cc7327",
   "metadata": {},
   "outputs": [
    {
     "ename": "AttributeError",
     "evalue": "module 'qlib' has no attribute 'init'",
     "output_type": "error",
     "traceback": [
      "\u001b[1;31m---------------------------------------------------------------------------\u001b[0m",
      "\u001b[1;31mAttributeError\u001b[0m                            Traceback (most recent call last)",
      "Cell \u001b[1;32mIn[8], line 6\u001b[0m\n\u001b[0;32m      3\u001b[0m \u001b[38;5;28;01mfrom\u001b[39;00m\u001b[38;5;250m \u001b[39m\u001b[38;5;21;01mqlib\u001b[39;00m\u001b[38;5;21;01m.\u001b[39;00m\u001b[38;5;21;01mcontrib\u001b[39;00m\u001b[38;5;21;01m.\u001b[39;00m\u001b[38;5;21;01mdata\u001b[39;00m\u001b[38;5;21;01m.\u001b[39;00m\u001b[38;5;21;01mhandler\u001b[39;00m\u001b[38;5;250m \u001b[39m\u001b[38;5;28;01mimport\u001b[39;00m Alpha158  \u001b[38;5;66;03m# 导入Alpha158因子处理器\u001b[39;00m\n\u001b[0;32m      5\u001b[0m \u001b[38;5;66;03m# 初始化Qlib：指定数据路径（必须和你导入数据时的--qlib_dir一致）\u001b[39;00m\n\u001b[1;32m----> 6\u001b[0m \u001b[43mqlib\u001b[49m\u001b[38;5;241;43m.\u001b[39;49m\u001b[43minit\u001b[49m(\n\u001b[0;32m      7\u001b[0m     provider_uri\u001b[38;5;241m=\u001b[39m\u001b[38;5;124mr\u001b[39m\u001b[38;5;124m\"\u001b[39m\u001b[38;5;124mD:\u001b[39m\u001b[38;5;124m\\\u001b[39m\u001b[38;5;124mworkspace\u001b[39m\u001b[38;5;124m\\\u001b[39m\u001b[38;5;124mxiaoyao\u001b[39m\u001b[38;5;124m\\\u001b[39m\u001b[38;5;124mqlib_data\u001b[39m\u001b[38;5;124m\"\u001b[39m,  \u001b[38;5;66;03m# Qlib数据根目录\u001b[39;00m\n\u001b[0;32m      8\u001b[0m     region\u001b[38;5;241m=\u001b[39m\u001b[38;5;124m\"\u001b[39m\u001b[38;5;124mcn\u001b[39m\u001b[38;5;124m\"\u001b[39m  \u001b[38;5;66;03m# 中国市场（默认是cn，可选us）\u001b[39;00m\n\u001b[0;32m      9\u001b[0m )\n",
      "\u001b[1;31mAttributeError\u001b[0m: module 'qlib' has no attribute 'init'"
     ]
    }
   ],
   "source": [
    "import qlib\n",
    "from qlib.data import D\n",
    "from qlib.contrib.data.handler import Alpha158  # 导入Alpha158因子处理器\n",
    "\n",
    "# 初始化Qlib：指定数据路径（必须和你导入数据时的--qlib_dir一致）\n",
    "qlib.init(\n",
    "    provider_uri=r\"D:\\workspace\\xiaoyao\\qlib_data\",  # Qlib数据根目录\n",
    "    region=\"cn\"  # 中国市场（默认是cn，可选us）\n",
    ")"
   ]
  },
  {
   "cell_type": "code",
   "execution_count": null,
   "id": "8d2b426a",
   "metadata": {},
   "outputs": [],
   "source": []
  }
 ],
 "metadata": {
  "kernelspec": {
   "display_name": "xiaoyao",
   "language": "python",
   "name": "python3"
  },
  "language_info": {
   "codemirror_mode": {
    "name": "ipython",
    "version": 3
   },
   "file_extension": ".py",
   "mimetype": "text/x-python",
   "name": "python",
   "nbconvert_exporter": "python",
   "pygments_lexer": "ipython3",
   "version": "3.10.6"
  }
 },
 "nbformat": 4,
 "nbformat_minor": 5
}
