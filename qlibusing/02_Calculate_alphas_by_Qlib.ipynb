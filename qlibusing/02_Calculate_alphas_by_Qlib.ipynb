{
 "cells": [
  {
   "cell_type": "code",
   "execution_count": 9,
   "id": "4453aee5",
   "metadata": {},
   "outputs": [
    {
     "name": "stdout",
     "output_type": "stream",
     "text": [
      "当前 pyqlib 版本： 0.9.7\n",
      "\n",
      "qlib 模块的所有属性（前20个）：\n",
      "['__doc__', '__file__', '__loader__', '__name__', '__package__', '__path__', '__spec__', 'config', 'constant', 'contrib', 'data', 'log', 'typehint', 'utils']\n",
      "\n",
      "qlib 是否有 init 方法： False\n"
     ]
    }
   ],
   "source": [
    "# 1. 查看当前环境中 pyqlib 的真实版本\n",
    "import importlib.metadata\n",
    "print(\"当前 pyqlib 版本：\", importlib.metadata.version(\"pyqlib\"))\n",
    "\n",
    "# 2. 尝试完整导入 qlib 并查看是否有 init 方法\n",
    "import qlib\n",
    "print(\"\\nqlib 模块的所有属性（前20个）：\")\n",
    "print(dir(qlib)[:20])  # 查看 qlib 模块是否有 init 属性\n",
    "print(\"\\nqlib 是否有 init 方法：\", hasattr(qlib, \"init\"))"
   ]
  },
  {
   "cell_type": "code",
   "execution_count": null,
   "id": "d8cc7327",
   "metadata": {},
   "outputs": [
    {
     "name": "stderr",
     "output_type": "stream",
     "text": [
      "[3844:MainThread](2025-09-11 22:13:23,394) INFO - qlib.Initialization - [config.py:452] - default_conf: client.\n",
      "[3844:MainThread](2025-09-11 22:13:23,397) WARNING - qlib.Initialization - [config.py:459] - Unrecognized config provider_cls\n",
      "[3844:MainThread](2025-09-11 22:13:23,405) INFO - qlib.Initialization - [__init__.py:75] - qlib successfully initialized based on client settings.\n",
      "[3844:MainThread](2025-09-11 22:13:23,408) INFO - qlib.Initialization - [__init__.py:77] - data_path={'__DEFAULT_FREQ': WindowsPath('C:/Users/user/.qlib/qlib_data/cn_data')}\n"
     ]
    },
    {
     "name": "stdout",
     "output_type": "stream",
     "text": [
      "CSI 300 Instruments (close > 50): ['SH600027', 'SH600031', 'SH600048', 'SH600066', 'SH600118']\n"
     ]
    },
    {
     "ename": "ValueError",
     "evalue": "Unsupported input type for param `instrument`",
     "output_type": "error",
     "traceback": [
      "\u001b[1;31m---------------------------------------------------------------------------\u001b[0m",
      "\u001b[1;31mTypeError\u001b[0m                                 Traceback (most recent call last)",
      "File \u001b[1;32md:\\Sdk\\Anaconda3\\envs\\xiaoyao\\lib\\site-packages\\qlib\\data\\data.py:1186\u001b[0m, in \u001b[0;36mBaseProvider.features\u001b[1;34m(self, instruments, fields, start_time, end_time, freq, disk_cache, inst_processors)\u001b[0m\n\u001b[0;32m   1185\u001b[0m \u001b[38;5;28;01mtry\u001b[39;00m:\n\u001b[1;32m-> 1186\u001b[0m     \u001b[38;5;28;01mreturn\u001b[39;00m \u001b[43mDatasetD\u001b[49m\u001b[38;5;241;43m.\u001b[39;49m\u001b[43mdataset\u001b[49m\u001b[43m(\u001b[49m\n\u001b[0;32m   1187\u001b[0m \u001b[43m        \u001b[49m\u001b[43minstruments\u001b[49m\u001b[43m,\u001b[49m\u001b[43m \u001b[49m\u001b[43mfields\u001b[49m\u001b[43m,\u001b[49m\u001b[43m \u001b[49m\u001b[43mstart_time\u001b[49m\u001b[43m,\u001b[49m\u001b[43m \u001b[49m\u001b[43mend_time\u001b[49m\u001b[43m,\u001b[49m\u001b[43m \u001b[49m\u001b[43mfreq\u001b[49m\u001b[43m,\u001b[49m\u001b[43m \u001b[49m\u001b[43mdisk_cache\u001b[49m\u001b[43m,\u001b[49m\u001b[43m \u001b[49m\u001b[43minst_processors\u001b[49m\u001b[38;5;241;43m=\u001b[39;49m\u001b[43minst_processors\u001b[49m\n\u001b[0;32m   1188\u001b[0m \u001b[43m    \u001b[49m\u001b[43m)\u001b[49m\n\u001b[0;32m   1189\u001b[0m \u001b[38;5;28;01mexcept\u001b[39;00m \u001b[38;5;167;01mTypeError\u001b[39;00m:\n",
      "\u001b[1;31mTypeError\u001b[0m: LocalDatasetProvider.dataset() got multiple values for argument 'inst_processors'",
      "\nDuring handling of the above exception, another exception occurred:\n",
      "\u001b[1;31mValueError\u001b[0m                                Traceback (most recent call last)",
      "Cell \u001b[1;32mIn[4], line 19\u001b[0m\n\u001b[0;32m     16\u001b[0m \u001b[38;5;28mprint\u001b[39m(\u001b[38;5;124m\"\u001b[39m\u001b[38;5;124mCSI 300 Instruments (close > 50):\u001b[39m\u001b[38;5;124m\"\u001b[39m, D\u001b[38;5;241m.\u001b[39mlist_instruments(instruments, as_list\u001b[38;5;241m=\u001b[39m\u001b[38;5;28;01mTrue\u001b[39;00m)[:\u001b[38;5;241m5\u001b[39m])\n\u001b[0;32m     18\u001b[0m \u001b[38;5;66;03m# 3. Retrieve 5-day MA for SH600000 (2020)\u001b[39;00m\n\u001b[1;32m---> 19\u001b[0m ma5 \u001b[38;5;241m=\u001b[39m \u001b[43mD\u001b[49m\u001b[38;5;241;43m.\u001b[39;49m\u001b[43mfeatures\u001b[49m\u001b[43m(\u001b[49m\n\u001b[0;32m     20\u001b[0m \u001b[43m    \u001b[49m\u001b[43minstruments\u001b[49m\u001b[38;5;241;43m=\u001b[39;49m\u001b[38;5;124;43m\"\u001b[39;49m\u001b[38;5;124;43mSH600000\u001b[39;49m\u001b[38;5;124;43m\"\u001b[39;49m\u001b[43m,\u001b[49m\n\u001b[0;32m     21\u001b[0m \u001b[43m    \u001b[49m\u001b[43mfields\u001b[49m\u001b[38;5;241;43m=\u001b[39;49m\u001b[43m[\u001b[49m\u001b[38;5;124;43m\"\u001b[39;49m\u001b[38;5;124;43mMean($close, 5)\u001b[39;49m\u001b[38;5;124;43m\"\u001b[39;49m\u001b[43m]\u001b[49m\u001b[43m,\u001b[49m\n\u001b[0;32m     22\u001b[0m \u001b[43m    \u001b[49m\u001b[43mstart_time\u001b[49m\u001b[38;5;241;43m=\u001b[39;49m\u001b[38;5;124;43m\"\u001b[39;49m\u001b[38;5;124;43m2020-01-01\u001b[39;49m\u001b[38;5;124;43m\"\u001b[39;49m\u001b[43m,\u001b[49m\n\u001b[0;32m     23\u001b[0m \u001b[43m    \u001b[49m\u001b[43mend_time\u001b[49m\u001b[38;5;241;43m=\u001b[39;49m\u001b[38;5;124;43m\"\u001b[39;49m\u001b[38;5;124;43m2020-01-10\u001b[39;49m\u001b[38;5;124;43m\"\u001b[39;49m\u001b[43m,\u001b[49m\n\u001b[0;32m     24\u001b[0m \u001b[43m    \u001b[49m\u001b[43mfreq\u001b[49m\u001b[38;5;241;43m=\u001b[39;49m\u001b[38;5;124;43m\"\u001b[39;49m\u001b[38;5;124;43mday\u001b[39;49m\u001b[38;5;124;43m\"\u001b[39;49m\n\u001b[0;32m     25\u001b[0m \u001b[43m)\u001b[49m\n\u001b[0;32m     26\u001b[0m \u001b[38;5;28mprint\u001b[39m(\u001b[38;5;124m\"\u001b[39m\u001b[38;5;124m5-day MA for SH600000 (2020-01):\u001b[39m\u001b[38;5;124m\"\u001b[39m)\n\u001b[0;32m     27\u001b[0m \u001b[38;5;28mprint\u001b[39m(ma5)\n",
      "File \u001b[1;32md:\\Sdk\\Anaconda3\\envs\\xiaoyao\\lib\\site-packages\\qlib\\data\\data.py:1190\u001b[0m, in \u001b[0;36mBaseProvider.features\u001b[1;34m(self, instruments, fields, start_time, end_time, freq, disk_cache, inst_processors)\u001b[0m\n\u001b[0;32m   1186\u001b[0m     \u001b[38;5;28;01mreturn\u001b[39;00m DatasetD\u001b[38;5;241m.\u001b[39mdataset(\n\u001b[0;32m   1187\u001b[0m         instruments, fields, start_time, end_time, freq, disk_cache, inst_processors\u001b[38;5;241m=\u001b[39minst_processors\n\u001b[0;32m   1188\u001b[0m     )\n\u001b[0;32m   1189\u001b[0m \u001b[38;5;28;01mexcept\u001b[39;00m \u001b[38;5;167;01mTypeError\u001b[39;00m:\n\u001b[1;32m-> 1190\u001b[0m     \u001b[38;5;28;01mreturn\u001b[39;00m \u001b[43mDatasetD\u001b[49m\u001b[38;5;241;43m.\u001b[39;49m\u001b[43mdataset\u001b[49m\u001b[43m(\u001b[49m\u001b[43minstruments\u001b[49m\u001b[43m,\u001b[49m\u001b[43m \u001b[49m\u001b[43mfields\u001b[49m\u001b[43m,\u001b[49m\u001b[43m \u001b[49m\u001b[43mstart_time\u001b[49m\u001b[43m,\u001b[49m\u001b[43m \u001b[49m\u001b[43mend_time\u001b[49m\u001b[43m,\u001b[49m\u001b[43m \u001b[49m\u001b[43mfreq\u001b[49m\u001b[43m,\u001b[49m\u001b[43m \u001b[49m\u001b[43minst_processors\u001b[49m\u001b[38;5;241;43m=\u001b[39;49m\u001b[43minst_processors\u001b[49m\u001b[43m)\u001b[49m\n",
      "File \u001b[1;32md:\\Sdk\\Anaconda3\\envs\\xiaoyao\\lib\\site-packages\\qlib\\data\\data.py:911\u001b[0m, in \u001b[0;36mLocalDatasetProvider.dataset\u001b[1;34m(self, instruments, fields, start_time, end_time, freq, inst_processors)\u001b[0m\n\u001b[0;32m    902\u001b[0m \u001b[38;5;28;01mdef\u001b[39;00m\u001b[38;5;250m \u001b[39m\u001b[38;5;21mdataset\u001b[39m(\n\u001b[0;32m    903\u001b[0m     \u001b[38;5;28mself\u001b[39m,\n\u001b[0;32m    904\u001b[0m     instruments,\n\u001b[1;32m   (...)\u001b[0m\n\u001b[0;32m    909\u001b[0m     inst_processors\u001b[38;5;241m=\u001b[39m[],\n\u001b[0;32m    910\u001b[0m ):\n\u001b[1;32m--> 911\u001b[0m     instruments_d \u001b[38;5;241m=\u001b[39m \u001b[38;5;28;43mself\u001b[39;49m\u001b[38;5;241;43m.\u001b[39;49m\u001b[43mget_instruments_d\u001b[49m\u001b[43m(\u001b[49m\u001b[43minstruments\u001b[49m\u001b[43m,\u001b[49m\u001b[43m \u001b[49m\u001b[43mfreq\u001b[49m\u001b[43m)\u001b[49m\n\u001b[0;32m    912\u001b[0m     column_names \u001b[38;5;241m=\u001b[39m \u001b[38;5;28mself\u001b[39m\u001b[38;5;241m.\u001b[39mget_column_names(fields)\n\u001b[0;32m    913\u001b[0m     \u001b[38;5;28;01mif\u001b[39;00m \u001b[38;5;28mself\u001b[39m\u001b[38;5;241m.\u001b[39malign_time:\n\u001b[0;32m    914\u001b[0m         \u001b[38;5;66;03m# NOTE: if the frequency is a fixed value.\u001b[39;00m\n\u001b[0;32m    915\u001b[0m         \u001b[38;5;66;03m# align the data to fixed calendar point\u001b[39;00m\n",
      "File \u001b[1;32md:\\Sdk\\Anaconda3\\envs\\xiaoyao\\lib\\site-packages\\qlib\\data\\data.py:528\u001b[0m, in \u001b[0;36mDatasetProvider.get_instruments_d\u001b[1;34m(instruments, freq)\u001b[0m\n\u001b[0;32m    526\u001b[0m     instruments_d \u001b[38;5;241m=\u001b[39m \u001b[38;5;28mlist\u001b[39m(instruments)\n\u001b[0;32m    527\u001b[0m \u001b[38;5;28;01melse\u001b[39;00m:\n\u001b[1;32m--> 528\u001b[0m     \u001b[38;5;28;01mraise\u001b[39;00m \u001b[38;5;167;01mValueError\u001b[39;00m(\u001b[38;5;124m\"\u001b[39m\u001b[38;5;124mUnsupported input type for param `instrument`\u001b[39m\u001b[38;5;124m\"\u001b[39m)\n\u001b[0;32m    529\u001b[0m \u001b[38;5;28;01mreturn\u001b[39;00m instruments_d\n",
      "\u001b[1;31mValueError\u001b[0m: Unsupported input type for param `instrument`"
     ]
    }
   ],
   "source": [
    "import qlib\n",
    "from qlib.data import LocalProvider, D\n",
    "from qlib.constant import REG_CN\n",
    "\n",
    "# 1. Initialize Qlib with LocalProvider\n",
    "qlib.init(\n",
    "    provider_uri=\"~/.qlib/qlib_data/cn_data\",  # Local data path\n",
    "    region=REG_CN,\n",
    "    provider_cls=LocalProvider  # Specify LocalProvider\n",
    ")\n",
    "\n",
    "# 2. Retrieve CSI 300 instruments (filtered by close > 50)\n",
    "from qlib.data.filter import ExpressionDFilter\n",
    "filter_close = ExpressionDFilter(rule_expression=\"$close>50\")\n",
    "instruments = D.instruments(market=\"csi300\", filter_pipe=[filter_close])\n",
    "print(\"CSI 300 Instruments (close > 50):\", D.list_instruments(instruments, as_list=True)[:5])\n",
    "\n",
    "# 3. Retrieve 5-day MA for SH600000 (2020)\n",
    "ma5 = D.features(\n",
    "    instruments=[\"SH600000\"],\n",
    "    fields=[\"Mean($close, 5)\"],\n",
    "    start_time=\"2020-01-01\",\n",
    "    end_time=\"2020-01-10\",\n",
    "    freq=\"day\"\n",
    ")\n",
    "print(\"5-day MA for SH600000 (2020-01):\")\n",
    "print(ma5)"
   ]
  },
  {
   "cell_type": "code",
   "execution_count": null,
   "id": "8d2b426a",
   "metadata": {},
   "outputs": [],
   "source": []
  }
 ],
 "metadata": {
  "kernelspec": {
   "display_name": "xiaoyao",
   "language": "python",
   "name": "python3"
  },
  "language_info": {
   "codemirror_mode": {
    "name": "ipython",
    "version": 3
   },
   "file_extension": ".py",
   "mimetype": "text/x-python",
   "name": "python",
   "nbconvert_exporter": "python",
   "pygments_lexer": "ipython3",
   "version": "3.10.6"
  }
 },
 "nbformat": 4,
 "nbformat_minor": 5
}
