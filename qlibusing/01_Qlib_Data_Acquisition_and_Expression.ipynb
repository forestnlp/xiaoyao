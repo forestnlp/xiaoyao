{
 "cells": [
  {
   "cell_type": "markdown",
   "id": "120b9e34",
   "metadata": {},
   "source": [
    "### 1. 设置proxy"
   ]
  },
  {
   "cell_type": "code",
   "execution_count": 1,
   "id": "0d8715c0",
   "metadata": {},
   "outputs": [],
   "source": [
    "# # 设置代理端口\n",
    "# import os\n",
    "# os.environ[\"http_proxy\"] = \"http://127.0.0.1:10809\"\n",
    "# os.environ[\"https_proxy\"] = \"http://127.0.0.1:10809\"\n",
    "\n",
    "# # 测试下能否访问外网\n",
    "# import requests\n",
    "# response = requests.get(\"http://www.google.com\")\n",
    "# print(response.status_code)"
   ]
  },
  {
   "cell_type": "markdown",
   "id": "b46c03d4",
   "metadata": {},
   "source": [
    "### 2. 尝试获取数据"
   ]
  },
  {
   "cell_type": "code",
   "execution_count": 2,
   "id": "96269fcd",
   "metadata": {},
   "outputs": [],
   "source": [
    "# !python d:/workspace/qlib/scripts/get_data.py qlib_data --target_dir ~/.qlib/qlib_data/cn_data --region cn"
   ]
  },
  {
   "cell_type": "markdown",
   "id": "519e4f11",
   "metadata": {},
   "source": [
    "### 尝试使用qrun"
   ]
  },
  {
   "cell_type": "code",
   "execution_count": 3,
   "id": "99cba2a9",
   "metadata": {},
   "outputs": [],
   "source": [
    "# !qrun d:/workspace/qlib/examples/benchmarks/LightGBM/workflow_config_lightgbm_Alpha158.yaml"
   ]
  },
  {
   "cell_type": "markdown",
   "id": "199a168d",
   "metadata": {},
   "source": [
    "### 3. 尝试使用qlib.data相关api"
   ]
  },
  {
   "cell_type": "code",
   "execution_count": 5,
   "id": "f94b1112",
   "metadata": {},
   "outputs": [
    {
     "name": "stderr",
     "output_type": "stream",
     "text": [
      "[28948:MainThread](2025-09-15 09:58:50,345) INFO - qlib.Initialization - [config.py:452] - default_conf: client.\n",
      "[28948:MainThread](2025-09-15 09:58:50,348) INFO - qlib.Initialization - [__init__.py:75] - qlib successfully initialized based on client settings.\n",
      "[28948:MainThread](2025-09-15 09:58:50,349) INFO - qlib.Initialization - [__init__.py:77] - data_path={'__DEFAULT_FREQ': WindowsPath('C:/Users/jay/.qlib/qlib_data/cn_data')}\n"
     ]
    },
    {
     "name": "stdout",
     "output_type": "stream",
     "text": [
      "2020 Trading Days (first 5): [Timestamp('2020-01-02 00:00:00') Timestamp('2020-01-03 00:00:00')\n",
      " Timestamp('2020-01-06 00:00:00') Timestamp('2020-01-07 00:00:00')\n",
      " Timestamp('2020-01-08 00:00:00')]\n",
      "CSI 300 Instruments (close > 20, first 5): ['SH600009', 'SH600027', 'SH600030', 'SH600031', 'SH600048']\n",
      "Feature DataFrame (head):\n",
      "                          $close  Mean($close, 5)\n",
      "instrument datetime                              \n",
      "SH600009   2020-01-02  25.529419        25.679243\n",
      "           2020-01-03  25.509619        25.643602\n",
      "           2020-01-06  24.948605        25.534039\n",
      "           2020-01-07  24.833101        25.361774\n",
      "           2020-01-08  24.770399        25.118229\n"
     ]
    }
   ],
   "source": [
    "import qlib\n",
    "from qlib.data import D\n",
    "from qlib.constant import REG_CN\n",
    "\n",
    "# Initialize Qlib\n",
    "qlib.init(provider_uri=\"~/.qlib/qlib_data/cn_data\", region=REG_CN)\n",
    "\n",
    "# 1. Get 2020 trading days\n",
    "calendar_2020 = D.calendar(start_time=\"2020-01-01\", end_time=\"2020-12-31\")\n",
    "print(\"2020 Trading Days (first 5):\", calendar_2020[:5])\n",
    "\n",
    "# 2. Get CSI 300 instruments (filtered by close price > 20)\n",
    "from qlib.data.filter import ExpressionDFilter\n",
    "filter_close = ExpressionDFilter(rule_expression=\"$close>20\")  # Filter: close price > 20\n",
    "csi300_instruments = D.instruments(market=\"csi300\", filter_pipe=[filter_close])\n",
    "csi300_list = D.list_instruments(instruments=csi300_instruments, as_list=True)\n",
    "print(\"CSI 300 Instruments (close > 20, first 5):\", csi300_list[:5])\n",
    "\n",
    "# 3. Get features: close price + 5-day MA for CSI 300 instruments (2020)\n",
    "features = [\"$close\", \"Mean($close, 5)\"]\n",
    "feature_df = D.features(\n",
    "    instruments=csi300_instruments,\n",
    "    fields=features,\n",
    "    start_time=\"2020-01-01\",\n",
    "    end_time=\"2020-01-10\",\n",
    "    freq=\"day\"\n",
    ")\n",
    "print(\"Feature DataFrame (head):\")\n",
    "print(feature_df.head())"
   ]
  },
  {
   "cell_type": "markdown",
   "id": "092c5917",
   "metadata": {},
   "source": [
    "### 4. 测试一下expression相关的api demo"
   ]
  },
  {
   "cell_type": "code",
   "execution_count": 12,
   "id": "7ae7ef4b",
   "metadata": {},
   "outputs": [
    {
     "name": "stderr",
     "output_type": "stream",
     "text": [
      "[28948:MainThread](2025-09-15 10:17:51,573) INFO - qlib.Initialization - [config.py:452] - default_conf: client.\n",
      "[28948:MainThread](2025-09-15 10:17:51,576) INFO - qlib.Initialization - [__init__.py:75] - qlib successfully initialized based on client settings.\n",
      "[28948:MainThread](2025-09-15 10:17:51,578) INFO - qlib.Initialization - [__init__.py:77] - data_path={'__DEFAULT_FREQ': WindowsPath('C:/Users/jay/.qlib/qlib_data/cn_data')}\n",
      "[28948:MainThread](2025-09-15 10:17:51,579) WARNING - qlib.Provider - [data.py:1153] - The instruments corresponds to a stock pool. Parameters `start_time` and `end_time` does not take effect now.\n"
     ]
    },
    {
     "name": "stdout",
     "output_type": "stream",
     "text": [
      "【基础过滤】符合条件的标的数量: 2\n",
      "前5个标的: ['SH600009', 'SH600010', 'SH600016', 'SH600030', 'SH600031']\n"
     ]
    }
   ],
   "source": [
    "import qlib\n",
    "from qlib.data import D\n",
    "from qlib.constant import REG_CN\n",
    "from qlib.data.filter import ExpressionDFilter\n",
    "\n",
    "# 初始化QLib\n",
    "qlib.init(provider_uri=\"~/.qlib/qlib_data/cn_data\", region=REG_CN)\n",
    "\n",
    "# 基础过滤：拆分多条件为多个Filter\n",
    "filter_close1 = ExpressionDFilter(rule_expression=\"$close > 10\")  # 收盘价>10元\n",
    "filter_close2 = ExpressionDFilter(rule_expression=\"$close < 50\")  # 收盘价<50元\n",
    "filter_volume = ExpressionDFilter(rule_expression=\"$volume > 1000\")  # 成交量>1000手\n",
    "\n",
    "# 获取符合条件的标的\n",
    "basic_instruments = D.instruments(\n",
    "    market=\"csi300\",\n",
    "    filter_pipe=[filter_close1, filter_close2, filter_volume],\n",
    "    start_time=\"2024-01-01\",\n",
    "    end_time=\"2024-05-31\"\n",
    ")\n",
    "\n",
    "# 输出结果\n",
    "print(f\"【基础过滤】符合条件的标的数量: {len(basic_instruments)}\")\n",
    "print(f\"前5个标的: {D.list_instruments(basic_instruments, as_list=True)[:5]}\")"
   ]
  },
  {
   "cell_type": "markdown",
   "id": "146e1a62",
   "metadata": {},
   "source": [
    "### 5. 使用qlib download 接口 、以及 baostock 等接口去获取近三年的A股的数据。"
   ]
  },
  {
   "cell_type": "code",
   "execution_count": null,
   "id": "d994205e",
   "metadata": {},
   "outputs": [],
   "source": []
  }
 ],
 "metadata": {
  "kernelspec": {
   "display_name": "xiaoyao",
   "language": "python",
   "name": "python3"
  },
  "language_info": {
   "codemirror_mode": {
    "name": "ipython",
    "version": 3
   },
   "file_extension": ".py",
   "mimetype": "text/x-python",
   "name": "python",
   "nbconvert_exporter": "python",
   "pygments_lexer": "ipython3",
   "version": "3.10.18"
  }
 },
 "nbformat": 4,
 "nbformat_minor": 5
}
