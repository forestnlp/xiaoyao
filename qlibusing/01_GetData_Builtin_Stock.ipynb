{
 "cells": [
  {
   "cell_type": "code",
   "execution_count": 24,
   "id": "0097795b",
   "metadata": {},
   "outputs": [
    {
     "name": "stdout",
     "output_type": "stream",
     "text": [
      "login success!\n",
      "logout success!\n",
      "成功获取 sh.600812 数据：7694 条（1994-01-14 至 2025-09-08）\n",
      "保存至：./stock_data\\sh.600812.csv\n"
     ]
    }
   ],
   "source": [
    "import os\n",
    "import pandas as pd\n",
    "import baostock as bs\n",
    "from datetime import datetime\n",
    "\n",
    "\n",
    "class BaostockDataHandler:\n",
    "    \"\"\"修复索引越界问题的Baostock数据处理工具\"\"\"\n",
    "    \n",
    "    def fetch_ohlcv(self, stock_code: str, start_date: str = None, end_date: str = None) -> pd.DataFrame:\n",
    "        \"\"\"获取OHLCV数据，动态查找上市日期字段索引\"\"\"\n",
    "        bs.login()\n",
    "        \n",
    "        # 处理结束日期\n",
    "        today = datetime.now().strftime(\"%Y-%m-%d\")\n",
    "        end_date = end_date or today\n",
    "        \n",
    "        # 动态获取上市日期（核心修复点）\n",
    "        if not start_date:\n",
    "            rs_basic = bs.query_stock_basic(code=stock_code)\n",
    "            if rs_basic.error_code != \"0\":\n",
    "                raise Exception(f\"获取基本信息失败: {rs_basic.error_msg}\")\n",
    "            \n",
    "            # 获取字段列表，动态查找\"ipoDate\"索引（避免固定索引7导致越界）\n",
    "            fields = rs_basic.fields\n",
    "            if \"ipoDate\" not in fields:\n",
    "                # 找不到上市日期字段时，使用默认起始日期\n",
    "                start_date = \"2000-01-01\"\n",
    "            else:\n",
    "                rs_basic.next()\n",
    "                ipo_date_index = fields.index(\"ipoDate\")\n",
    "                start_date = rs_basic.get_row_data()[ipo_date_index]\n",
    "                # 容错处理\n",
    "                if start_date in [\"\", \"0000-00-00\"]:\n",
    "                    start_date = \"2000-01-01\"\n",
    "        \n",
    "        # 获取K线数据\n",
    "        rs_kline = bs.query_history_k_data_plus(\n",
    "            code=stock_code,\n",
    "            fields=\"date,open,high,low,close,volume\",\n",
    "            start_date=start_date,\n",
    "            end_date=end_date,\n",
    "            frequency=\"d\",\n",
    "            adjustflag=\"1\"\n",
    "        )\n",
    "        \n",
    "        data_list = []\n",
    "        while (rs_kline.error_code == \"0\") and rs_kline.next():\n",
    "            data_list.append(rs_kline.get_row_data())\n",
    "        \n",
    "        bs.logout()\n",
    "        \n",
    "        if not data_list:\n",
    "            raise ValueError(f\"未获取到 {stock_code} 的数据\")\n",
    "        \n",
    "        # 处理数据格式\n",
    "        df = pd.DataFrame(\n",
    "            data_list,\n",
    "            columns=[\"date\", \"open\", \"high\", \"low\", \"close\", \"volume\"]\n",
    "        )\n",
    "        numeric_cols = [\"open\", \"high\", \"low\", \"close\", \"volume\"]\n",
    "        df[numeric_cols] = df[numeric_cols].apply(pd.to_numeric, errors=\"coerce\")\n",
    "        df = df.dropna().reset_index(drop=True)\n",
    "        \n",
    "        print(f\"成功获取 {stock_code} 数据：{len(df)} 条（{start_date} 至 {end_date}）\")\n",
    "        return df\n",
    "    \n",
    "    def save_to_csv(self, df: pd.DataFrame, stock_code: str, save_dir: str = \"./stock_data\") -> str:\n",
    "        \"\"\"保存数据到CSV\"\"\"\n",
    "        os.makedirs(save_dir, exist_ok=True)\n",
    "        csv_path = os.path.join(save_dir, f\"{stock_code}.csv\")\n",
    "        df[[\"date\", \"open\", \"high\", \"low\", \"close\", \"volume\"]].to_csv(csv_path, index=False)\n",
    "        print(f\"保存至：{csv_path}\")\n",
    "        return csv_path\n",
    "\n",
    "\n",
    "# 使用示例\n",
    "if __name__ == \"__main__\":\n",
    "    handler = BaostockDataHandler()\n",
    "    try:\n",
    "        # 尝试获取恒生电子数据\n",
    "        stock_code = \"sh.600812\"\n",
    "        df = handler.fetch_ohlcv(stock_code)\n",
    "        handler.save_to_csv(df, stock_code)\n",
    "    except Exception as e:\n",
    "        print(f\"处理失败：{str(e)}\")\n"
   ]
  },
  {
   "cell_type": "code",
   "execution_count": 25,
   "id": "e4bcfd33",
   "metadata": {},
   "outputs": [
    {
     "name": "stderr",
     "output_type": "stream",
     "text": [
      "2025-09-08 22:40:17.813 | INFO     | __main__:_get_all_date:307 - start get all date......\n",
      "\n",
      "  0%|          | 0/2 [00:00<?, ?it/s]\n",
      " 50%|█████     | 1/2 [00:02<00:02,  2.69s/it]\n",
      "100%|██████████| 2/2 [00:02<00:00,  1.50s/it]\n",
      "2025-09-08 22:40:20.813 | INFO     | __main__:_get_all_date:326 - end of get all date.\n",
      "\n",
      "2025-09-08 22:40:20.814 | INFO     | __main__:_dump_calendars:329 - start dump calendars......\n",
      "2025-09-08 22:40:20.996 | INFO     | __main__:_dump_calendars:332 - end of calendars dump.\n",
      "\n",
      "2025-09-08 22:40:20.996 | INFO     | __main__:_dump_instruments:335 - start dump instruments......\n",
      "2025-09-08 22:40:21.000 | INFO     | __main__:_dump_instruments:337 - end of instruments dump.\n",
      "\n",
      "2025-09-08 22:40:21.000 | INFO     | __main__:_dump_features:340 - start dump features......\n",
      "\n",
      "  0%|          | 0/2 [00:00<?, ?it/s]\n",
      " 50%|█████     | 1/2 [00:02<00:02,  2.21s/it]\n",
      "100%|██████████| 2/2 [00:02<00:00,  1.24s/it]\n",
      "2025-09-08 22:40:23.479 | INFO     | __main__:_dump_features:347 - end of features dump.\n",
      "\n"
     ]
    }
   ],
   "source": [
    "# 在conda环境下运行 \n",
    "!python ../qlib/scripts/dump_bin.py dump_all --data_path D:/workspace/xiaoyao/qlibusing/stock_data --qlib_dir D:/workspace/xiaoyao/qlib_data --include_fields open,close,high,low,volume --date_field_name \"date\""
   ]
  },
  {
   "cell_type": "code",
   "execution_count": null,
   "id": "f7b3efcd",
   "metadata": {},
   "outputs": [],
   "source": []
  }
 ],
 "metadata": {
  "kernelspec": {
   "display_name": "xiaoyao",
   "language": "python",
   "name": "python3"
  },
  "language_info": {
   "codemirror_mode": {
    "name": "ipython",
    "version": 3
   },
   "file_extension": ".py",
   "mimetype": "text/x-python",
   "name": "python",
   "nbconvert_exporter": "python",
   "pygments_lexer": "ipython3",
   "version": "3.10.6"
  }
 },
 "nbformat": 4,
 "nbformat_minor": 5
}
